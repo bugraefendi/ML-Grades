{
 "cells": [
  {
   "cell_type": "code",
   "execution_count": 1,
   "metadata": {},
   "outputs": [],
   "source": [
    "import pandas as pd\n",
    "import numpy as np\n",
    "import seaborn as sns\n",
    "import matplotlib.pyplot as plt\n",
    "\n",
    "plt.rcParams['figure.figsize'] = [10, 4]"
   ]
  },
  {
   "cell_type": "markdown",
   "metadata": {},
   "source": [
    "## Preparation"
   ]
  },
  {
   "cell_type": "markdown",
   "metadata": {},
   "source": [
    "#### Import data"
   ]
  },
  {
   "cell_type": "code",
   "execution_count": 2,
   "metadata": {},
   "outputs": [],
   "source": [
    "df = pd.read_csv('data/to_model.csv', index_col = 0)"
   ]
  },
  {
   "cell_type": "code",
   "execution_count": 3,
   "metadata": {},
   "outputs": [
    {
     "data": {
      "text/html": [
       "<div>\n",
       "<style scoped>\n",
       "    .dataframe tbody tr th:only-of-type {\n",
       "        vertical-align: middle;\n",
       "    }\n",
       "\n",
       "    .dataframe tbody tr th {\n",
       "        vertical-align: top;\n",
       "    }\n",
       "\n",
       "    .dataframe thead th {\n",
       "        text-align: right;\n",
       "    }\n",
       "</style>\n",
       "<table border=\"1\" class=\"dataframe\">\n",
       "  <thead>\n",
       "    <tr style=\"text-align: right;\">\n",
       "      <th></th>\n",
       "      <th>age</th>\n",
       "      <th>Medu</th>\n",
       "      <th>Fedu</th>\n",
       "      <th>failures</th>\n",
       "      <th>traveltime</th>\n",
       "      <th>studytime</th>\n",
       "      <th>Dalc</th>\n",
       "      <th>Walc</th>\n",
       "      <th>absences</th>\n",
       "      <th>Final_grade</th>\n",
       "      <th>goout</th>\n",
       "      <th>famrel</th>\n",
       "      <th>guardian</th>\n",
       "      <th>Mjob</th>\n",
       "      <th>Fjob</th>\n",
       "      <th>sex</th>\n",
       "      <th>Pstatus</th>\n",
       "      <th>romantic</th>\n",
       "    </tr>\n",
       "  </thead>\n",
       "  <tbody>\n",
       "    <tr>\n",
       "      <th>0</th>\n",
       "      <td>18</td>\n",
       "      <td>4</td>\n",
       "      <td>4</td>\n",
       "      <td>0</td>\n",
       "      <td>2</td>\n",
       "      <td>2</td>\n",
       "      <td>1</td>\n",
       "      <td>1</td>\n",
       "      <td>6</td>\n",
       "      <td>6</td>\n",
       "      <td>4</td>\n",
       "      <td>4</td>\n",
       "      <td>mother</td>\n",
       "      <td>at_home</td>\n",
       "      <td>teacher</td>\n",
       "      <td>F</td>\n",
       "      <td>A</td>\n",
       "      <td>no</td>\n",
       "    </tr>\n",
       "    <tr>\n",
       "      <th>1</th>\n",
       "      <td>17</td>\n",
       "      <td>1</td>\n",
       "      <td>1</td>\n",
       "      <td>0</td>\n",
       "      <td>1</td>\n",
       "      <td>2</td>\n",
       "      <td>1</td>\n",
       "      <td>1</td>\n",
       "      <td>4</td>\n",
       "      <td>6</td>\n",
       "      <td>3</td>\n",
       "      <td>5</td>\n",
       "      <td>father</td>\n",
       "      <td>at_home</td>\n",
       "      <td>other</td>\n",
       "      <td>F</td>\n",
       "      <td>T</td>\n",
       "      <td>no</td>\n",
       "    </tr>\n",
       "    <tr>\n",
       "      <th>2</th>\n",
       "      <td>15</td>\n",
       "      <td>1</td>\n",
       "      <td>1</td>\n",
       "      <td>3</td>\n",
       "      <td>1</td>\n",
       "      <td>2</td>\n",
       "      <td>2</td>\n",
       "      <td>3</td>\n",
       "      <td>10</td>\n",
       "      <td>10</td>\n",
       "      <td>2</td>\n",
       "      <td>4</td>\n",
       "      <td>mother</td>\n",
       "      <td>at_home</td>\n",
       "      <td>other</td>\n",
       "      <td>F</td>\n",
       "      <td>T</td>\n",
       "      <td>no</td>\n",
       "    </tr>\n",
       "    <tr>\n",
       "      <th>3</th>\n",
       "      <td>15</td>\n",
       "      <td>4</td>\n",
       "      <td>2</td>\n",
       "      <td>0</td>\n",
       "      <td>1</td>\n",
       "      <td>3</td>\n",
       "      <td>1</td>\n",
       "      <td>1</td>\n",
       "      <td>2</td>\n",
       "      <td>15</td>\n",
       "      <td>2</td>\n",
       "      <td>3</td>\n",
       "      <td>mother</td>\n",
       "      <td>health</td>\n",
       "      <td>services</td>\n",
       "      <td>F</td>\n",
       "      <td>T</td>\n",
       "      <td>yes</td>\n",
       "    </tr>\n",
       "    <tr>\n",
       "      <th>4</th>\n",
       "      <td>16</td>\n",
       "      <td>3</td>\n",
       "      <td>3</td>\n",
       "      <td>0</td>\n",
       "      <td>1</td>\n",
       "      <td>2</td>\n",
       "      <td>1</td>\n",
       "      <td>2</td>\n",
       "      <td>4</td>\n",
       "      <td>10</td>\n",
       "      <td>2</td>\n",
       "      <td>4</td>\n",
       "      <td>father</td>\n",
       "      <td>other</td>\n",
       "      <td>other</td>\n",
       "      <td>F</td>\n",
       "      <td>T</td>\n",
       "      <td>no</td>\n",
       "    </tr>\n",
       "  </tbody>\n",
       "</table>\n",
       "</div>"
      ],
      "text/plain": [
       "   age  Medu  Fedu  failures  traveltime  studytime  Dalc  Walc  absences  \\\n",
       "0   18     4     4         0           2          2     1     1         6   \n",
       "1   17     1     1         0           1          2     1     1         4   \n",
       "2   15     1     1         3           1          2     2     3        10   \n",
       "3   15     4     2         0           1          3     1     1         2   \n",
       "4   16     3     3         0           1          2     1     2         4   \n",
       "\n",
       "   Final_grade  goout  famrel guardian     Mjob      Fjob sex Pstatus romantic  \n",
       "0            6      4       4   mother  at_home   teacher   F       A       no  \n",
       "1            6      3       5   father  at_home     other   F       T       no  \n",
       "2           10      2       4   mother  at_home     other   F       T       no  \n",
       "3           15      2       3   mother   health  services   F       T      yes  \n",
       "4           10      2       4   father    other     other   F       T       no  "
      ]
     },
     "execution_count": 3,
     "metadata": {},
     "output_type": "execute_result"
    }
   ],
   "source": [
    "df.head()"
   ]
  },
  {
   "cell_type": "markdown",
   "metadata": {},
   "source": [
    "#### Dummies encoding"
   ]
  },
  {
   "cell_type": "code",
   "execution_count": 4,
   "metadata": {},
   "outputs": [],
   "source": [
    "df2 = pd.get_dummies(df, drop_first = True)"
   ]
  },
  {
   "cell_type": "markdown",
   "metadata": {},
   "source": [
    "#### Train/test split"
   ]
  },
  {
   "cell_type": "markdown",
   "metadata": {},
   "source": [
    "We are using stratified test split with 20% of observations held out, as this is a very small dataset"
   ]
  },
  {
   "cell_type": "code",
   "execution_count": 5,
   "metadata": {},
   "outputs": [
    {
     "name": "stdout",
     "output_type": "stream",
     "text": [
      "(316, 25) (79, 25)\n"
     ]
    }
   ],
   "source": [
    "from sklearn.model_selection import train_test_split\n",
    "import random\n",
    "X_train, X_test, y_train, y_test = train_test_split(df2, df2.Final_grade, test_size=0.2, random_state=10)\n",
    "print(X_train.shape, X_test.shape)"
   ]
  },
  {
   "cell_type": "code",
   "execution_count": 6,
   "metadata": {},
   "outputs": [
    {
     "data": {
      "text/html": [
       "<div>\n",
       "<style scoped>\n",
       "    .dataframe tbody tr th:only-of-type {\n",
       "        vertical-align: middle;\n",
       "    }\n",
       "\n",
       "    .dataframe tbody tr th {\n",
       "        vertical-align: top;\n",
       "    }\n",
       "\n",
       "    .dataframe thead th {\n",
       "        text-align: right;\n",
       "    }\n",
       "</style>\n",
       "<table border=\"1\" class=\"dataframe\">\n",
       "  <thead>\n",
       "    <tr style=\"text-align: right;\">\n",
       "      <th></th>\n",
       "      <th>age</th>\n",
       "      <th>Medu</th>\n",
       "      <th>Fedu</th>\n",
       "      <th>failures</th>\n",
       "      <th>traveltime</th>\n",
       "      <th>studytime</th>\n",
       "      <th>Dalc</th>\n",
       "      <th>Walc</th>\n",
       "      <th>absences</th>\n",
       "      <th>Final_grade</th>\n",
       "      <th>...</th>\n",
       "      <th>Mjob_other</th>\n",
       "      <th>Mjob_services</th>\n",
       "      <th>Mjob_teacher</th>\n",
       "      <th>Fjob_health</th>\n",
       "      <th>Fjob_other</th>\n",
       "      <th>Fjob_services</th>\n",
       "      <th>Fjob_teacher</th>\n",
       "      <th>sex_M</th>\n",
       "      <th>Pstatus_T</th>\n",
       "      <th>romantic_yes</th>\n",
       "    </tr>\n",
       "  </thead>\n",
       "  <tbody>\n",
       "    <tr>\n",
       "      <th>266</th>\n",
       "      <td>17</td>\n",
       "      <td>3</td>\n",
       "      <td>1</td>\n",
       "      <td>0</td>\n",
       "      <td>1</td>\n",
       "      <td>2</td>\n",
       "      <td>3</td>\n",
       "      <td>4</td>\n",
       "      <td>2</td>\n",
       "      <td>10</td>\n",
       "      <td>...</td>\n",
       "      <td>0</td>\n",
       "      <td>1</td>\n",
       "      <td>0</td>\n",
       "      <td>0</td>\n",
       "      <td>1</td>\n",
       "      <td>0</td>\n",
       "      <td>0</td>\n",
       "      <td>1</td>\n",
       "      <td>1</td>\n",
       "      <td>1</td>\n",
       "    </tr>\n",
       "    <tr>\n",
       "      <th>352</th>\n",
       "      <td>18</td>\n",
       "      <td>1</td>\n",
       "      <td>3</td>\n",
       "      <td>1</td>\n",
       "      <td>1</td>\n",
       "      <td>1</td>\n",
       "      <td>2</td>\n",
       "      <td>3</td>\n",
       "      <td>7</td>\n",
       "      <td>8</td>\n",
       "      <td>...</td>\n",
       "      <td>0</td>\n",
       "      <td>0</td>\n",
       "      <td>0</td>\n",
       "      <td>0</td>\n",
       "      <td>0</td>\n",
       "      <td>1</td>\n",
       "      <td>0</td>\n",
       "      <td>1</td>\n",
       "      <td>1</td>\n",
       "      <td>1</td>\n",
       "    </tr>\n",
       "    <tr>\n",
       "      <th>97</th>\n",
       "      <td>16</td>\n",
       "      <td>2</td>\n",
       "      <td>1</td>\n",
       "      <td>0</td>\n",
       "      <td>1</td>\n",
       "      <td>2</td>\n",
       "      <td>1</td>\n",
       "      <td>1</td>\n",
       "      <td>2</td>\n",
       "      <td>10</td>\n",
       "      <td>...</td>\n",
       "      <td>1</td>\n",
       "      <td>0</td>\n",
       "      <td>0</td>\n",
       "      <td>0</td>\n",
       "      <td>1</td>\n",
       "      <td>0</td>\n",
       "      <td>0</td>\n",
       "      <td>0</td>\n",
       "      <td>1</td>\n",
       "      <td>1</td>\n",
       "    </tr>\n",
       "    <tr>\n",
       "      <th>167</th>\n",
       "      <td>16</td>\n",
       "      <td>4</td>\n",
       "      <td>2</td>\n",
       "      <td>0</td>\n",
       "      <td>1</td>\n",
       "      <td>2</td>\n",
       "      <td>1</td>\n",
       "      <td>1</td>\n",
       "      <td>0</td>\n",
       "      <td>16</td>\n",
       "      <td>...</td>\n",
       "      <td>0</td>\n",
       "      <td>0</td>\n",
       "      <td>0</td>\n",
       "      <td>0</td>\n",
       "      <td>0</td>\n",
       "      <td>1</td>\n",
       "      <td>0</td>\n",
       "      <td>0</td>\n",
       "      <td>1</td>\n",
       "      <td>1</td>\n",
       "    </tr>\n",
       "    <tr>\n",
       "      <th>280</th>\n",
       "      <td>17</td>\n",
       "      <td>4</td>\n",
       "      <td>1</td>\n",
       "      <td>0</td>\n",
       "      <td>2</td>\n",
       "      <td>1</td>\n",
       "      <td>2</td>\n",
       "      <td>4</td>\n",
       "      <td>30</td>\n",
       "      <td>8</td>\n",
       "      <td>...</td>\n",
       "      <td>0</td>\n",
       "      <td>1</td>\n",
       "      <td>0</td>\n",
       "      <td>0</td>\n",
       "      <td>1</td>\n",
       "      <td>0</td>\n",
       "      <td>0</td>\n",
       "      <td>1</td>\n",
       "      <td>0</td>\n",
       "      <td>1</td>\n",
       "    </tr>\n",
       "  </tbody>\n",
       "</table>\n",
       "<p>5 rows × 25 columns</p>\n",
       "</div>"
      ],
      "text/plain": [
       "     age  Medu  Fedu  failures  traveltime  studytime  Dalc  Walc  absences  \\\n",
       "266   17     3     1         0           1          2     3     4         2   \n",
       "352   18     1     3         1           1          1     2     3         7   \n",
       "97    16     2     1         0           1          2     1     1         2   \n",
       "167   16     4     2         0           1          2     1     1         0   \n",
       "280   17     4     1         0           2          1     2     4        30   \n",
       "\n",
       "     Final_grade  ...  Mjob_other  Mjob_services  Mjob_teacher  Fjob_health  \\\n",
       "266           10  ...           0              1             0            0   \n",
       "352            8  ...           0              0             0            0   \n",
       "97            10  ...           1              0             0            0   \n",
       "167           16  ...           0              0             0            0   \n",
       "280            8  ...           0              1             0            0   \n",
       "\n",
       "     Fjob_other  Fjob_services  Fjob_teacher  sex_M  Pstatus_T  romantic_yes  \n",
       "266           1              0             0      1          1             1  \n",
       "352           0              1             0      1          1             1  \n",
       "97            1              0             0      0          1             1  \n",
       "167           0              1             0      0          1             1  \n",
       "280           1              0             0      1          0             1  \n",
       "\n",
       "[5 rows x 25 columns]"
      ]
     },
     "execution_count": 6,
     "metadata": {},
     "output_type": "execute_result"
    }
   ],
   "source": [
    "X_train.head()"
   ]
  },
  {
   "cell_type": "markdown",
   "metadata": {},
   "source": [
    "#### Mutual info"
   ]
  },
  {
   "cell_type": "markdown",
   "metadata": {},
   "source": [
    "First running mutual information to get intuition"
   ]
  },
  {
   "cell_type": "code",
   "execution_count": 7,
   "metadata": {},
   "outputs": [],
   "source": [
    "from sklearn import feature_selection\n",
    "mutual_info = feature_selection.mutual_info_classif(X_train, y_train, discrete_features=True)"
   ]
  },
  {
   "cell_type": "code",
   "execution_count": 8,
   "metadata": {},
   "outputs": [
    {
     "data": {
      "text/html": [
       "<div>\n",
       "<style scoped>\n",
       "    .dataframe tbody tr th:only-of-type {\n",
       "        vertical-align: middle;\n",
       "    }\n",
       "\n",
       "    .dataframe tbody tr th {\n",
       "        vertical-align: top;\n",
       "    }\n",
       "\n",
       "    .dataframe thead th {\n",
       "        text-align: right;\n",
       "    }\n",
       "</style>\n",
       "<table border=\"1\" class=\"dataframe\">\n",
       "  <thead>\n",
       "    <tr style=\"text-align: right;\">\n",
       "      <th></th>\n",
       "      <th>minfo</th>\n",
       "      <th>col</th>\n",
       "    </tr>\n",
       "  </thead>\n",
       "  <tbody>\n",
       "    <tr>\n",
       "      <th>8</th>\n",
       "      <td>0.633463</td>\n",
       "      <td>absences</td>\n",
       "    </tr>\n",
       "    <tr>\n",
       "      <th>3</th>\n",
       "      <td>0.163247</td>\n",
       "      <td>failures</td>\n",
       "    </tr>\n",
       "    <tr>\n",
       "      <th>0</th>\n",
       "      <td>0.137014</td>\n",
       "      <td>age</td>\n",
       "    </tr>\n",
       "    <tr>\n",
       "      <th>1</th>\n",
       "      <td>0.133067</td>\n",
       "      <td>Medu</td>\n",
       "    </tr>\n",
       "    <tr>\n",
       "      <th>7</th>\n",
       "      <td>0.127030</td>\n",
       "      <td>Walc</td>\n",
       "    </tr>\n",
       "    <tr>\n",
       "      <th>10</th>\n",
       "      <td>0.124776</td>\n",
       "      <td>goout</td>\n",
       "    </tr>\n",
       "    <tr>\n",
       "      <th>2</th>\n",
       "      <td>0.100426</td>\n",
       "      <td>Fedu</td>\n",
       "    </tr>\n",
       "    <tr>\n",
       "      <th>5</th>\n",
       "      <td>0.097476</td>\n",
       "      <td>studytime</td>\n",
       "    </tr>\n",
       "    <tr>\n",
       "      <th>6</th>\n",
       "      <td>0.096018</td>\n",
       "      <td>Dalc</td>\n",
       "    </tr>\n",
       "    <tr>\n",
       "      <th>11</th>\n",
       "      <td>0.089056</td>\n",
       "      <td>famrel</td>\n",
       "    </tr>\n",
       "    <tr>\n",
       "      <th>4</th>\n",
       "      <td>0.052235</td>\n",
       "      <td>traveltime</td>\n",
       "    </tr>\n",
       "    <tr>\n",
       "      <th>24</th>\n",
       "      <td>0.051175</td>\n",
       "      <td>romantic_yes</td>\n",
       "    </tr>\n",
       "    <tr>\n",
       "      <th>16</th>\n",
       "      <td>0.043169</td>\n",
       "      <td>Mjob_services</td>\n",
       "    </tr>\n",
       "    <tr>\n",
       "      <th>21</th>\n",
       "      <td>0.038841</td>\n",
       "      <td>Fjob_teacher</td>\n",
       "    </tr>\n",
       "    <tr>\n",
       "      <th>20</th>\n",
       "      <td>0.035532</td>\n",
       "      <td>Fjob_services</td>\n",
       "    </tr>\n",
       "    <tr>\n",
       "      <th>22</th>\n",
       "      <td>0.034002</td>\n",
       "      <td>sex_M</td>\n",
       "    </tr>\n",
       "    <tr>\n",
       "      <th>19</th>\n",
       "      <td>0.033219</td>\n",
       "      <td>Fjob_other</td>\n",
       "    </tr>\n",
       "    <tr>\n",
       "      <th>14</th>\n",
       "      <td>0.030905</td>\n",
       "      <td>Mjob_health</td>\n",
       "    </tr>\n",
       "    <tr>\n",
       "      <th>15</th>\n",
       "      <td>0.030471</td>\n",
       "      <td>Mjob_other</td>\n",
       "    </tr>\n",
       "    <tr>\n",
       "      <th>13</th>\n",
       "      <td>0.029432</td>\n",
       "      <td>guardian_other</td>\n",
       "    </tr>\n",
       "    <tr>\n",
       "      <th>17</th>\n",
       "      <td>0.028873</td>\n",
       "      <td>Mjob_teacher</td>\n",
       "    </tr>\n",
       "    <tr>\n",
       "      <th>18</th>\n",
       "      <td>0.026282</td>\n",
       "      <td>Fjob_health</td>\n",
       "    </tr>\n",
       "    <tr>\n",
       "      <th>23</th>\n",
       "      <td>0.024708</td>\n",
       "      <td>Pstatus_T</td>\n",
       "    </tr>\n",
       "    <tr>\n",
       "      <th>12</th>\n",
       "      <td>0.018334</td>\n",
       "      <td>guardian_mother</td>\n",
       "    </tr>\n",
       "  </tbody>\n",
       "</table>\n",
       "</div>"
      ],
      "text/plain": [
       "       minfo              col\n",
       "8   0.633463         absences\n",
       "3   0.163247         failures\n",
       "0   0.137014              age\n",
       "1   0.133067             Medu\n",
       "7   0.127030             Walc\n",
       "10  0.124776            goout\n",
       "2   0.100426             Fedu\n",
       "5   0.097476        studytime\n",
       "6   0.096018             Dalc\n",
       "11  0.089056           famrel\n",
       "4   0.052235       traveltime\n",
       "24  0.051175     romantic_yes\n",
       "16  0.043169    Mjob_services\n",
       "21  0.038841     Fjob_teacher\n",
       "20  0.035532    Fjob_services\n",
       "22  0.034002            sex_M\n",
       "19  0.033219       Fjob_other\n",
       "14  0.030905      Mjob_health\n",
       "15  0.030471       Mjob_other\n",
       "13  0.029432   guardian_other\n",
       "17  0.028873     Mjob_teacher\n",
       "18  0.026282      Fjob_health\n",
       "23  0.024708        Pstatus_T\n",
       "12  0.018334  guardian_mother"
      ]
     },
     "execution_count": 8,
     "metadata": {},
     "output_type": "execute_result"
    }
   ],
   "source": [
    "pd.DataFrame({'minfo': mutual_info, 'col': X_train.columns}).sort_values('minfo', ascending=False).tail(-1)"
   ]
  },
  {
   "cell_type": "markdown",
   "metadata": {},
   "source": [
    "Number of absences at school and number of failures have the biggest impact on the final grade. Later, parents education and weekly alcohol consumption play a role. "
   ]
  },
  {
   "cell_type": "markdown",
   "metadata": {},
   "source": [
    "## Modeling"
   ]
  },
  {
   "cell_type": "markdown",
   "metadata": {},
   "source": [
    "### Linear regression"
   ]
  },
  {
   "cell_type": "markdown",
   "metadata": {},
   "source": [
    "#### First model - LR with 1 best variable according to mutual info"
   ]
  },
  {
   "cell_type": "code",
   "execution_count": 9,
   "metadata": {},
   "outputs": [],
   "source": [
    "import statsmodels.api as sm\n",
    "from statsmodels.tools.tools import add_constant"
   ]
  },
  {
   "cell_type": "code",
   "execution_count": 10,
   "metadata": {},
   "outputs": [
    {
     "data": {
      "text/html": [
       "<table class=\"simpletable\">\n",
       "<caption>OLS Regression Results</caption>\n",
       "<tr>\n",
       "  <th>Dep. Variable:</th>       <td>Final_grade</td>   <th>  R-squared:         </th> <td>   0.004</td>\n",
       "</tr>\n",
       "<tr>\n",
       "  <th>Model:</th>                   <td>OLS</td>       <th>  Adj. R-squared:    </th> <td>   0.000</td>\n",
       "</tr>\n",
       "<tr>\n",
       "  <th>Method:</th>             <td>Least Squares</td>  <th>  F-statistic:       </th> <td>   1.121</td>\n",
       "</tr>\n",
       "<tr>\n",
       "  <th>Date:</th>             <td>Tue, 02 Jun 2020</td> <th>  Prob (F-statistic):</th>  <td> 0.291</td> \n",
       "</tr>\n",
       "<tr>\n",
       "  <th>Time:</th>                 <td>15:11:54</td>     <th>  Log-Likelihood:    </th> <td> -936.00</td>\n",
       "</tr>\n",
       "<tr>\n",
       "  <th>No. Observations:</th>      <td>   316</td>      <th>  AIC:               </th> <td>   1876.</td>\n",
       "</tr>\n",
       "<tr>\n",
       "  <th>Df Residuals:</th>          <td>   314</td>      <th>  BIC:               </th> <td>   1884.</td>\n",
       "</tr>\n",
       "<tr>\n",
       "  <th>Df Model:</th>              <td>     1</td>      <th>                     </th>     <td> </td>   \n",
       "</tr>\n",
       "<tr>\n",
       "  <th>Covariance Type:</th>      <td>nonrobust</td>    <th>                     </th>     <td> </td>   \n",
       "</tr>\n",
       "</table>\n",
       "<table class=\"simpletable\">\n",
       "<tr>\n",
       "      <td></td>        <th>coef</th>     <th>std err</th>      <th>t</th>      <th>P>|t|</th>  <th>[0.025</th>    <th>0.975]</th>  \n",
       "</tr>\n",
       "<tr>\n",
       "  <th>const</th>    <td>   10.1411</td> <td>    0.338</td> <td>   30.033</td> <td> 0.000</td> <td>    9.477</td> <td>   10.805</td>\n",
       "</tr>\n",
       "<tr>\n",
       "  <th>absences</th> <td>    0.0396</td> <td>    0.037</td> <td>    1.059</td> <td> 0.291</td> <td>   -0.034</td> <td>    0.113</td>\n",
       "</tr>\n",
       "</table>\n",
       "<table class=\"simpletable\">\n",
       "<tr>\n",
       "  <th>Omnibus:</th>       <td>21.388</td> <th>  Durbin-Watson:     </th> <td>   1.919</td>\n",
       "</tr>\n",
       "<tr>\n",
       "  <th>Prob(Omnibus):</th> <td> 0.000</td> <th>  Jarque-Bera (JB):  </th> <td>  24.232</td>\n",
       "</tr>\n",
       "<tr>\n",
       "  <th>Skew:</th>          <td>-0.677</td> <th>  Prob(JB):          </th> <td>5.47e-06</td>\n",
       "</tr>\n",
       "<tr>\n",
       "  <th>Kurtosis:</th>      <td> 3.072</td> <th>  Cond. No.          </th> <td>    11.6</td>\n",
       "</tr>\n",
       "</table><br/><br/>Warnings:<br/>[1] Standard Errors assume that the covariance matrix of the errors is correctly specified."
      ],
      "text/plain": [
       "<class 'statsmodels.iolib.summary.Summary'>\n",
       "\"\"\"\n",
       "                            OLS Regression Results                            \n",
       "==============================================================================\n",
       "Dep. Variable:            Final_grade   R-squared:                       0.004\n",
       "Model:                            OLS   Adj. R-squared:                  0.000\n",
       "Method:                 Least Squares   F-statistic:                     1.121\n",
       "Date:                Tue, 02 Jun 2020   Prob (F-statistic):              0.291\n",
       "Time:                        15:11:54   Log-Likelihood:                -936.00\n",
       "No. Observations:                 316   AIC:                             1876.\n",
       "Df Residuals:                     314   BIC:                             1884.\n",
       "Df Model:                           1                                         \n",
       "Covariance Type:            nonrobust                                         \n",
       "==============================================================================\n",
       "                 coef    std err          t      P>|t|      [0.025      0.975]\n",
       "------------------------------------------------------------------------------\n",
       "const         10.1411      0.338     30.033      0.000       9.477      10.805\n",
       "absences       0.0396      0.037      1.059      0.291      -0.034       0.113\n",
       "==============================================================================\n",
       "Omnibus:                       21.388   Durbin-Watson:                   1.919\n",
       "Prob(Omnibus):                  0.000   Jarque-Bera (JB):               24.232\n",
       "Skew:                          -0.677   Prob(JB):                     5.47e-06\n",
       "Kurtosis:                       3.072   Cond. No.                         11.6\n",
       "==============================================================================\n",
       "\n",
       "Warnings:\n",
       "[1] Standard Errors assume that the covariance matrix of the errors is correctly specified.\n",
       "\"\"\""
      ]
     },
     "execution_count": 10,
     "metadata": {},
     "output_type": "execute_result"
    }
   ],
   "source": [
    "cols_to_fit = [\n",
    " 'absences',\n",
    "]\n",
    "\n",
    "mod = sm.OLS(X_train['Final_grade'], add_constant(X_train[cols_to_fit]))\n",
    "res = mod.fit()\n",
    "res.summary()"
   ]
  },
  {
   "cell_type": "code",
   "execution_count": 11,
   "metadata": {},
   "outputs": [],
   "source": [
    "from sklearn.metrics import r2_score,mean_squared_error,mean_absolute_error"
   ]
  },
  {
   "cell_type": "code",
   "execution_count": 12,
   "metadata": {},
   "outputs": [],
   "source": [
    "from sklearn.linear_model import LinearRegression"
   ]
  },
  {
   "cell_type": "code",
   "execution_count": 13,
   "metadata": {},
   "outputs": [
    {
     "name": "stdout",
     "output_type": "stream",
     "text": [
      "R2 train: 0.003557243621859052 R2 test:  -0.02281180212421563\n",
      "\n",
      "RMSE train: 21.893829945021977 RMSE test:  17.123780476966964\n",
      "\n",
      "MAE train: 3.5682077094611055 MAE test:  3.0299557297061965\n"
     ]
    }
   ],
   "source": [
    "mod = LinearRegression()\n",
    "mod.fit(X_train[cols_to_fit], y_train)\n",
    "print('R2 train:', r2_score(y_train, mod.predict(X_train[cols_to_fit])), \n",
    "      'R2 test: ', r2_score(y_test, mod.predict(X_test[cols_to_fit])))\n",
    "print()\n",
    "print('RMSE train:', mean_squared_error(y_train, mod.predict(X_train[cols_to_fit])), \n",
    "      'RMSE test: ', mean_squared_error(y_test, mod.predict(X_test[cols_to_fit])))\n",
    "\n",
    "print()\n",
    "print('MAE train:', mean_absolute_error(y_train, mod.predict(X_train[cols_to_fit])), \n",
    "      'MAE test: ', mean_absolute_error(y_test, mod.predict(X_test[cols_to_fit])))"
   ]
  },
  {
   "cell_type": "markdown",
   "metadata": {},
   "source": [
    "Performance on test set is very poor - R2 is negative"
   ]
  },
  {
   "cell_type": "markdown",
   "metadata": {},
   "source": [
    "At first we have tried to run model only on the best variable according to mutual information, that is number of absences at school. Performance with R2 = 0.004 is mediocre. Absences variable is not significant. Probably because it's nonlinear?"
   ]
  },
  {
   "cell_type": "markdown",
   "metadata": {},
   "source": [
    "#### LR with all variables"
   ]
  },
  {
   "cell_type": "code",
   "execution_count": 14,
   "metadata": {},
   "outputs": [],
   "source": [
    "all_cols = list(X_train.drop('Final_grade', axis = 1).columns)"
   ]
  },
  {
   "cell_type": "code",
   "execution_count": 15,
   "metadata": {},
   "outputs": [],
   "source": [
    "cols_to_fit = all_cols\n",
    "mod = sm.OLS(X_train['Final_grade'], add_constant(X_train[cols_to_fit]))\n",
    "res = mod.fit()\n",
    "# res.summary()"
   ]
  },
  {
   "cell_type": "code",
   "execution_count": 16,
   "metadata": {},
   "outputs": [
    {
     "name": "stdout",
     "output_type": "stream",
     "text": [
      "R2 train: 0.24458652935703795 R2 test:  0.0660277149203996\n",
      "\n",
      "RMSE train: 16.59793696985791 RMSE test:  15.636440983628768\n",
      "\n",
      "MAE train: 3.177234569559947 MAE test:  3.056795196376448\n"
     ]
    }
   ],
   "source": [
    "mod = LinearRegression()\n",
    "mod.fit(X_train[cols_to_fit], y_train)\n",
    "print('R2 train:', r2_score(y_train, mod.predict(X_train[cols_to_fit])), \n",
    "      'R2 test: ', r2_score(y_test, mod.predict(X_test[cols_to_fit])))\n",
    "print()\n",
    "print('RMSE train:', mean_squared_error(y_train, mod.predict(X_train[cols_to_fit])), \n",
    "      'RMSE test: ', mean_squared_error(y_test, mod.predict(X_test[cols_to_fit])))\n",
    "\n",
    "print()\n",
    "print('MAE train:', mean_absolute_error(y_train, mod.predict(X_train[cols_to_fit])), \n",
    "      'MAE test: ', mean_absolute_error(y_test, mod.predict(X_test[cols_to_fit])))"
   ]
  },
  {
   "cell_type": "markdown",
   "metadata": {},
   "source": [
    "In second attempt we have included every variable avaliable to modeling. Performance got better, with R2 on train set = 0.245. However R2 on test setis 0.06 - very low."
   ]
  },
  {
   "cell_type": "markdown",
   "metadata": {},
   "source": [
    "#### LR with one variable at the time"
   ]
  },
  {
   "cell_type": "markdown",
   "metadata": {},
   "source": [
    "As a mean of further gaining intuition about the best features, we are now fitting a model with only one variable at a time. This would give similar information as mutual info, but this time we are checking how particular variable is linearly dependent with the target."
   ]
  },
  {
   "cell_type": "code",
   "execution_count": 17,
   "metadata": {},
   "outputs": [
    {
     "name": "stdout",
     "output_type": "stream",
     "text": [
      "R2 train: 0.24458652935703795 R2 test:  0.0660277149203996\n",
      "R2 train: 0.24458652935703795 R2 test:  0.0660277149203996\n",
      "R2 train: 0.24458652935703795 R2 test:  0.0660277149203996\n",
      "R2 train: 0.24458652935703795 R2 test:  0.0660277149203996\n",
      "R2 train: 0.24458652935703795 R2 test:  0.0660277149203996\n",
      "R2 train: 0.24458652935703795 R2 test:  0.0660277149203996\n",
      "R2 train: 0.24458652935703795 R2 test:  0.0660277149203996\n",
      "R2 train: 0.24458652935703795 R2 test:  0.0660277149203996\n",
      "R2 train: 0.24458652935703795 R2 test:  0.0660277149203996\n",
      "R2 train: 0.24458652935703795 R2 test:  0.0660277149203996\n",
      "R2 train: 0.24458652935703795 R2 test:  0.0660277149203996\n",
      "R2 train: 0.24458652935703795 R2 test:  0.0660277149203996\n",
      "R2 train: 0.24458652935703795 R2 test:  0.0660277149203996\n",
      "R2 train: 0.24458652935703795 R2 test:  0.0660277149203996\n",
      "R2 train: 0.24458652935703795 R2 test:  0.0660277149203996\n",
      "R2 train: 0.24458652935703795 R2 test:  0.0660277149203996\n",
      "R2 train: 0.24458652935703795 R2 test:  0.0660277149203996\n",
      "R2 train: 0.24458652935703795 R2 test:  0.0660277149203996\n",
      "R2 train: 0.24458652935703795 R2 test:  0.0660277149203996\n",
      "R2 train: 0.24458652935703795 R2 test:  0.0660277149203996\n",
      "R2 train: 0.24458652935703795 R2 test:  0.0660277149203996\n",
      "R2 train: 0.24458652935703795 R2 test:  0.0660277149203996\n",
      "R2 train: 0.24458652935703795 R2 test:  0.0660277149203996\n",
      "R2 train: 0.24458652935703795 R2 test:  0.0660277149203996\n"
     ]
    }
   ],
   "source": [
    "cols_to_fit = all_cols\n",
    "\n",
    "r2 = []\n",
    "\n",
    "for col in cols_to_fit:\n",
    "    mod = LinearRegression()\n",
    "    mod.fit(X_train[cols_to_fit], y_train)\n",
    "    print('R2 train:', r2_score(y_train, mod.predict(X_train[cols_to_fit])), \n",
    "          'R2 test: ', r2_score(y_test, mod.predict(X_test[cols_to_fit])))\n",
    "    \n",
    "    mod = sm.OLS(X_train['Final_grade'], add_constant(X_train[col]))\n",
    "    res = mod.fit()\n",
    "    r2.append((col, res.rsquared))"
   ]
  },
  {
   "cell_type": "code",
   "execution_count": 18,
   "metadata": {},
   "outputs": [
    {
     "data": {
      "text/html": [
       "<div>\n",
       "<style scoped>\n",
       "    .dataframe tbody tr th:only-of-type {\n",
       "        vertical-align: middle;\n",
       "    }\n",
       "\n",
       "    .dataframe tbody tr th {\n",
       "        vertical-align: top;\n",
       "    }\n",
       "\n",
       "    .dataframe thead th {\n",
       "        text-align: right;\n",
       "    }\n",
       "</style>\n",
       "<table border=\"1\" class=\"dataframe\">\n",
       "  <thead>\n",
       "    <tr style=\"text-align: right;\">\n",
       "      <th></th>\n",
       "      <th>col</th>\n",
       "      <th>r2</th>\n",
       "    </tr>\n",
       "  </thead>\n",
       "  <tbody>\n",
       "    <tr>\n",
       "      <th>3</th>\n",
       "      <td>failures</td>\n",
       "      <td>0.127893</td>\n",
       "    </tr>\n",
       "    <tr>\n",
       "      <th>1</th>\n",
       "      <td>Medu</td>\n",
       "      <td>0.047465</td>\n",
       "    </tr>\n",
       "    <tr>\n",
       "      <th>2</th>\n",
       "      <td>Fedu</td>\n",
       "      <td>0.028789</td>\n",
       "    </tr>\n",
       "    <tr>\n",
       "      <th>9</th>\n",
       "      <td>goout</td>\n",
       "      <td>0.025503</td>\n",
       "    </tr>\n",
       "    <tr>\n",
       "      <th>0</th>\n",
       "      <td>age</td>\n",
       "      <td>0.023633</td>\n",
       "    </tr>\n",
       "  </tbody>\n",
       "</table>\n",
       "</div>"
      ],
      "text/plain": [
       "        col        r2\n",
       "3  failures  0.127893\n",
       "1      Medu  0.047465\n",
       "2      Fedu  0.028789\n",
       "9     goout  0.025503\n",
       "0       age  0.023633"
      ]
     },
     "execution_count": 18,
     "metadata": {},
     "output_type": "execute_result"
    }
   ],
   "source": [
    "r2_df = pd.DataFrame(r2, columns = ['col', 'r2']).sort_values('r2', ascending = False)\n",
    "r2_df.head(5)"
   ]
  },
  {
   "cell_type": "markdown",
   "metadata": {},
   "source": [
    "TODO:\n",
    "Add train and test scores (RMSE and R2)"
   ]
  },
  {
   "cell_type": "markdown",
   "metadata": {},
   "source": [
    "Failures is the best one - 3 times as good as the second one. (TODO: check if the same is true on the test set!)"
   ]
  },
  {
   "cell_type": "markdown",
   "metadata": {},
   "source": [
    "Now trying the same thing as above with testing one variable at a time, but using first squared variables, and then square rooted (an attempt to capture nonlinearity)"
   ]
  },
  {
   "cell_type": "code",
   "execution_count": 19,
   "metadata": {},
   "outputs": [],
   "source": [
    "cols_to_fit = all_cols\n",
    "r2 = []\n",
    "\n",
    "for col in cols_to_fit:\n",
    "    mod = sm.OLS(X_train['Final_grade'], add_constant(np.power(X_train, 2)[col]))\n",
    "    res = mod.fit()\n",
    "    r2.append((col, res.rsquared))"
   ]
  },
  {
   "cell_type": "code",
   "execution_count": 20,
   "metadata": {},
   "outputs": [
    {
     "data": {
      "text/html": [
       "<div>\n",
       "<style scoped>\n",
       "    .dataframe tbody tr th:only-of-type {\n",
       "        vertical-align: middle;\n",
       "    }\n",
       "\n",
       "    .dataframe tbody tr th {\n",
       "        vertical-align: top;\n",
       "    }\n",
       "\n",
       "    .dataframe thead th {\n",
       "        text-align: right;\n",
       "    }\n",
       "</style>\n",
       "<table border=\"1\" class=\"dataframe\">\n",
       "  <thead>\n",
       "    <tr style=\"text-align: right;\">\n",
       "      <th></th>\n",
       "      <th>col</th>\n",
       "      <th>r2</th>\n",
       "    </tr>\n",
       "  </thead>\n",
       "  <tbody>\n",
       "    <tr>\n",
       "      <th>3</th>\n",
       "      <td>failures</td>\n",
       "      <td>0.105651</td>\n",
       "    </tr>\n",
       "    <tr>\n",
       "      <th>1</th>\n",
       "      <td>Medu</td>\n",
       "      <td>0.054122</td>\n",
       "    </tr>\n",
       "    <tr>\n",
       "      <th>2</th>\n",
       "      <td>Fedu</td>\n",
       "      <td>0.029472</td>\n",
       "    </tr>\n",
       "    <tr>\n",
       "      <th>9</th>\n",
       "      <td>goout</td>\n",
       "      <td>0.028201</td>\n",
       "    </tr>\n",
       "    <tr>\n",
       "      <th>0</th>\n",
       "      <td>age</td>\n",
       "      <td>0.023112</td>\n",
       "    </tr>\n",
       "  </tbody>\n",
       "</table>\n",
       "</div>"
      ],
      "text/plain": [
       "        col        r2\n",
       "3  failures  0.105651\n",
       "1      Medu  0.054122\n",
       "2      Fedu  0.029472\n",
       "9     goout  0.028201\n",
       "0       age  0.023112"
      ]
     },
     "execution_count": 20,
     "metadata": {},
     "output_type": "execute_result"
    }
   ],
   "source": [
    "r2_df = pd.DataFrame(r2, columns = ['col', 'r2']).sort_values('r2', ascending = False)\n",
    "r2_df.head(5)"
   ]
  },
  {
   "cell_type": "markdown",
   "metadata": {},
   "source": [
    "TODO:\n",
    "Add train and test scores (RMSE and R2)"
   ]
  },
  {
   "cell_type": "markdown",
   "metadata": {},
   "source": [
    "Nothing changed here - top 5 predictors are still the same. Now trying square roots."
   ]
  },
  {
   "cell_type": "code",
   "execution_count": 21,
   "metadata": {},
   "outputs": [],
   "source": [
    "r2 = []\n",
    "\n",
    "for col in cols_to_fit:\n",
    "    mod = sm.OLS(X_train['Final_grade'], add_constant(np.power(X_train, 1/2)[col]))\n",
    "    res = mod.fit()\n",
    "    r2.append((col, res.rsquared))"
   ]
  },
  {
   "cell_type": "code",
   "execution_count": 22,
   "metadata": {},
   "outputs": [
    {
     "data": {
      "text/html": [
       "<div>\n",
       "<style scoped>\n",
       "    .dataframe tbody tr th:only-of-type {\n",
       "        vertical-align: middle;\n",
       "    }\n",
       "\n",
       "    .dataframe tbody tr th {\n",
       "        vertical-align: top;\n",
       "    }\n",
       "\n",
       "    .dataframe thead th {\n",
       "        text-align: right;\n",
       "    }\n",
       "</style>\n",
       "<table border=\"1\" class=\"dataframe\">\n",
       "  <thead>\n",
       "    <tr style=\"text-align: right;\">\n",
       "      <th></th>\n",
       "      <th>col</th>\n",
       "      <th>r2</th>\n",
       "    </tr>\n",
       "  </thead>\n",
       "  <tbody>\n",
       "    <tr>\n",
       "      <th>3</th>\n",
       "      <td>failures</td>\n",
       "      <td>0.126626</td>\n",
       "    </tr>\n",
       "    <tr>\n",
       "      <th>1</th>\n",
       "      <td>Medu</td>\n",
       "      <td>0.035716</td>\n",
       "    </tr>\n",
       "    <tr>\n",
       "      <th>2</th>\n",
       "      <td>Fedu</td>\n",
       "      <td>0.024323</td>\n",
       "    </tr>\n",
       "    <tr>\n",
       "      <th>0</th>\n",
       "      <td>age</td>\n",
       "      <td>0.023833</td>\n",
       "    </tr>\n",
       "    <tr>\n",
       "      <th>8</th>\n",
       "      <td>absences</td>\n",
       "      <td>0.023581</td>\n",
       "    </tr>\n",
       "  </tbody>\n",
       "</table>\n",
       "</div>"
      ],
      "text/plain": [
       "        col        r2\n",
       "3  failures  0.126626\n",
       "1      Medu  0.035716\n",
       "2      Fedu  0.024323\n",
       "0       age  0.023833\n",
       "8  absences  0.023581"
      ]
     },
     "execution_count": 22,
     "metadata": {},
     "output_type": "execute_result"
    }
   ],
   "source": [
    "r2_df = pd.DataFrame(r2, columns = ['col', 'r2']).sort_values('r2', ascending = False)\n",
    "r2_df.head(5)"
   ]
  },
  {
   "cell_type": "code",
   "execution_count": 23,
   "metadata": {},
   "outputs": [],
   "source": [
    "r2_vals = []\n",
    "rmse_vals = []\n",
    "mae_vals = []\n",
    "for col in cols_to_fit:\n",
    "    col = [col]\n",
    "    mod = LinearRegression()\n",
    "    mod.fit(X_train[col], y_train)\n",
    "    \n",
    "    # R2\n",
    "    r2_train = r2_score(y_train, mod.predict(X_train[col]))\n",
    "    r2_test = r2_score(y_test, mod.predict(X_test[col]))\n",
    "    r2_vals.append((col[0], r2_train, r2_test))\n",
    "    \n",
    "    # RMSE\n",
    "    rmse_train = mean_squared_error(y_train, mod.predict(X_train[col]))\n",
    "    rmse_test = mean_squared_error(y_test, mod.predict(X_test[col]))\n",
    "    rmse_vals.append((col[0], rmse_train, rmse_test))\n",
    "\n",
    "    # MAE\n",
    "    mae_train = mean_absolute_error(y_train,mod.predict(X_train[col]))\n",
    "    mae_test = mean_absolute_error(y_test,mod.predict(X_test[col]))\n",
    "    mae_vals.append((col[0], mae_train,mae_test))\n",
    "    # print((rmse_train, rmse_test,mae_test))\n",
    "    \n",
    "one_lr_r2_df = pd.DataFrame(r2_vals, columns = ['col', 'train', 'test'])\n",
    "one_lr_rmse_df = pd.DataFrame(rmse_vals, columns = ['col', 'train', 'test'])\n",
    "one_lr_mae_df = pd.DataFrame(mae_vals,columns=['col', 'train','test'])"
   ]
  },
  {
   "cell_type": "code",
   "execution_count": 24,
   "metadata": {},
   "outputs": [
    {
     "data": {
      "text/html": [
       "<div>\n",
       "<style scoped>\n",
       "    .dataframe tbody tr th:only-of-type {\n",
       "        vertical-align: middle;\n",
       "    }\n",
       "\n",
       "    .dataframe tbody tr th {\n",
       "        vertical-align: top;\n",
       "    }\n",
       "\n",
       "    .dataframe thead th {\n",
       "        text-align: right;\n",
       "    }\n",
       "</style>\n",
       "<table border=\"1\" class=\"dataframe\">\n",
       "  <thead>\n",
       "    <tr style=\"text-align: right;\">\n",
       "      <th></th>\n",
       "      <th>col</th>\n",
       "      <th>train</th>\n",
       "      <th>test</th>\n",
       "    </tr>\n",
       "  </thead>\n",
       "  <tbody>\n",
       "    <tr>\n",
       "      <th>3</th>\n",
       "      <td>failures</td>\n",
       "      <td>19.161925</td>\n",
       "      <td>14.451807</td>\n",
       "    </tr>\n",
       "    <tr>\n",
       "      <th>1</th>\n",
       "      <td>Medu</td>\n",
       "      <td>20.929084</td>\n",
       "      <td>16.051731</td>\n",
       "    </tr>\n",
       "    <tr>\n",
       "      <th>0</th>\n",
       "      <td>age</td>\n",
       "      <td>21.452719</td>\n",
       "      <td>16.145578</td>\n",
       "    </tr>\n",
       "    <tr>\n",
       "      <th>13</th>\n",
       "      <td>Mjob_health</td>\n",
       "      <td>21.763047</td>\n",
       "      <td>16.234772</td>\n",
       "    </tr>\n",
       "    <tr>\n",
       "      <th>23</th>\n",
       "      <td>romantic_yes</td>\n",
       "      <td>21.668148</td>\n",
       "      <td>16.266399</td>\n",
       "    </tr>\n",
       "  </tbody>\n",
       "</table>\n",
       "</div>"
      ],
      "text/plain": [
       "             col      train       test\n",
       "3       failures  19.161925  14.451807\n",
       "1           Medu  20.929084  16.051731\n",
       "0            age  21.452719  16.145578\n",
       "13   Mjob_health  21.763047  16.234772\n",
       "23  romantic_yes  21.668148  16.266399"
      ]
     },
     "execution_count": 24,
     "metadata": {},
     "output_type": "execute_result"
    }
   ],
   "source": [
    "one_lr_rmse_df.sort_values('test').head()"
   ]
  },
  {
   "cell_type": "markdown",
   "metadata": {},
   "source": [
    "Best features are failures and, after that Medu and age."
   ]
  },
  {
   "cell_type": "markdown",
   "metadata": {},
   "source": [
    "#### Recursive feature elimination from LR"
   ]
  },
  {
   "cell_type": "code",
   "execution_count": 25,
   "metadata": {},
   "outputs": [],
   "source": [
    "from sklearn.feature_selection import RFE, RFECV"
   ]
  },
  {
   "cell_type": "code",
   "execution_count": 26,
   "metadata": {},
   "outputs": [
    {
     "data": {
      "text/html": [
       "<div>\n",
       "<style scoped>\n",
       "    .dataframe tbody tr th:only-of-type {\n",
       "        vertical-align: middle;\n",
       "    }\n",
       "\n",
       "    .dataframe tbody tr th {\n",
       "        vertical-align: top;\n",
       "    }\n",
       "\n",
       "    .dataframe thead th {\n",
       "        text-align: right;\n",
       "    }\n",
       "</style>\n",
       "<table border=\"1\" class=\"dataframe\">\n",
       "  <thead>\n",
       "    <tr style=\"text-align: right;\">\n",
       "      <th></th>\n",
       "      <th>col</th>\n",
       "      <th>rank</th>\n",
       "    </tr>\n",
       "  </thead>\n",
       "  <tbody>\n",
       "    <tr>\n",
       "      <th>3</th>\n",
       "      <td>failures</td>\n",
       "      <td>1</td>\n",
       "    </tr>\n",
       "    <tr>\n",
       "      <th>13</th>\n",
       "      <td>Mjob_health</td>\n",
       "      <td>2</td>\n",
       "    </tr>\n",
       "    <tr>\n",
       "      <th>15</th>\n",
       "      <td>Mjob_services</td>\n",
       "      <td>3</td>\n",
       "    </tr>\n",
       "    <tr>\n",
       "      <th>18</th>\n",
       "      <td>Fjob_other</td>\n",
       "      <td>4</td>\n",
       "    </tr>\n",
       "    <tr>\n",
       "      <th>19</th>\n",
       "      <td>Fjob_services</td>\n",
       "      <td>5</td>\n",
       "    </tr>\n",
       "  </tbody>\n",
       "</table>\n",
       "</div>"
      ],
      "text/plain": [
       "              col  rank\n",
       "3        failures     1\n",
       "13    Mjob_health     2\n",
       "15  Mjob_services     3\n",
       "18     Fjob_other     4\n",
       "19  Fjob_services     5"
      ]
     },
     "execution_count": 26,
     "metadata": {},
     "output_type": "execute_result"
    }
   ],
   "source": [
    "cols_to_fit = all_cols\n",
    "rfe = RFE(mod, n_features_to_select = 1)\n",
    "rfe.fit(X_train[cols_to_fit], y_train)\n",
    "rfe.ranking_\n",
    "pd.DataFrame({'col': cols_to_fit, 'rank': rfe.ranking_}).sort_values('rank').head(5)"
   ]
  },
  {
   "cell_type": "markdown",
   "metadata": {},
   "source": [
    "Failures is again ranked as the best, while importance of student's parents is visible now."
   ]
  },
  {
   "cell_type": "markdown",
   "metadata": {},
   "source": [
    "Now adding prediction on test set for gradually increasing number of parameters"
   ]
  },
  {
   "cell_type": "code",
   "execution_count": 27,
   "metadata": {},
   "outputs": [],
   "source": [
    "rankings = pd.DataFrame({'col': cols_to_fit, 'rank': rfe.ranking_}).sort_values('rank')\n",
    "\n",
    "r2_vals = []\n",
    "rmse_vals = []\n",
    "mae_vals = []\n",
    "\n",
    "for i in range(1, len(rankings)):\n",
    "#     pass\n",
    "    features = list(rankings.iloc[:i,0])\n",
    "#     print(f'fitting for {i}')\n",
    "    mod = LinearRegression()\n",
    "    mod.fit(X_train[features], y_train)\n",
    "    \n",
    "    # R2\n",
    "    r2_train = r2_score(y_train, mod.predict(X_train[features]))\n",
    "    r2_test = r2_score(y_test, mod.predict(X_test[features]))\n",
    "    r2_vals.append((r2_train, r2_test))\n",
    "    \n",
    "    # RMSE\n",
    "    rmse_train = mean_squared_error(y_train, mod.predict(X_train[features]))\n",
    "    rmse_test = mean_squared_error(y_test, mod.predict(X_test[features]))\n",
    "    rmse_vals.append((rmse_train, rmse_test))\n",
    "\n",
    "    # MAE\n",
    "    mae_train = mean_absolute_error(y_train,mod.predict(X_train[features]))\n",
    "    mae_test = mean_absolute_error(y_test,mod.predict(X_test[features]))\n",
    "    mae_vals.append((mae_train,mae_test))\n",
    "    # print((rmse_train, rmse_test,mae_test))\n",
    "    \n",
    "    \n",
    "#     print(i)"
   ]
  },
  {
   "cell_type": "code",
   "execution_count": 28,
   "metadata": {},
   "outputs": [],
   "source": [
    "rfe_r2_df = pd.DataFrame(r2_vals, columns = ['train', 'test']).reset_index()\n",
    "rfe_rmse_df = pd.DataFrame(rmse_vals, columns = ['train', 'test']).reset_index()\n",
    "rfe_mae_df = pd.DataFrame(mae_vals,columns=['train','test']).reset_index()"
   ]
  },
  {
   "cell_type": "markdown",
   "metadata": {},
   "source": [
    "#### Plot - Comparison of R^2 for train and validation sets depending on number of features"
   ]
  },
  {
   "cell_type": "code",
   "execution_count": 29,
   "metadata": {},
   "outputs": [],
   "source": [
    "import matplotlib.pyplot as plt"
   ]
  },
  {
   "cell_type": "code",
   "execution_count": 30,
   "metadata": {},
   "outputs": [
    {
     "data": {
      "text/plain": [
       "Text(0.5, 1.0, 'MAE')"
      ]
     },
     "execution_count": 30,
     "metadata": {},
     "output_type": "execute_result"
    },
    {
     "data": {
      "image/png": "[encoded data removed]",
      "text/plain": [
       "<Figure size 720x288 with 3 Axes>"
      ]
     },
     "metadata": {
      "needs_background": "light"
     },
     "output_type": "display_data"
    }
   ],
   "source": [
    "plt.subplot(1, 3, 1)\n",
    "sns.scatterplot(x = 'index', y= 'value', hue = 'variable', data = pd.melt(rfe_r2_df, id_vars = 'index')).set_title('R^2')\n",
    "\n",
    "plt.subplot(1, 3, 2)\n",
    "sns.scatterplot(x = 'index', y= 'value', hue = 'variable', data = pd.melt(rfe_rmse_df, id_vars = 'index')).set_title('RMSE')\n",
    "\n",
    "plt.subplot(1, 3, 3)\n",
    "sns.scatterplot(x = 'index', y= 'value', hue = 'variable', data = pd.melt(rfe_mae_df, id_vars = 'index')).set_title('MAE')"
   ]
  },
  {
   "cell_type": "markdown",
   "metadata": {},
   "source": [
    "So, about 8 first features gives similar outcome for train and test set, anythig more than than ruins validation score. An interesting observation is RMSE on train set is higher than test. "
   ]
  },
  {
   "cell_type": "markdown",
   "metadata": {},
   "source": [
    "#### Lr - best variables from RFE"
   ]
  },
  {
   "cell_type": "markdown",
   "metadata": {},
   "source": [
    "##### BEST"
   ]
  },
  {
   "cell_type": "markdown",
   "metadata": {},
   "source": [
    "Fitting linear model with these variables"
   ]
  },
  {
   "cell_type": "code",
   "execution_count": 31,
   "metadata": {},
   "outputs": [
    {
     "name": "stdout",
     "output_type": "stream",
     "text": [
      "R2 train: 0.18856489230781148 R2 test:  0.18676160662241792\n",
      "\n",
      "RMSE train: 17.828843800126492 RMSE test:  13.615130070573635\n",
      "\n",
      "MAE train: 3.2429877083643324 MAE test:  2.768752852442891\n"
     ]
    }
   ],
   "source": [
    "cols_to_fit = list(rankings.iloc[:8,0])\n",
    "mod = LinearRegression()\n",
    "mod.fit(X_train[cols_to_fit], y_train)\n",
    "print('R2 train:', r2_score(y_train, mod.predict(X_train[cols_to_fit])), \n",
    "      'R2 test: ', r2_score(y_test, mod.predict(X_test[cols_to_fit])))\n",
    "print()\n",
    "print('RMSE train:', mean_squared_error(y_train, mod.predict(X_train[cols_to_fit])), \n",
    "      'RMSE test: ', mean_squared_error(y_test, mod.predict(X_test[cols_to_fit])))\n",
    "\n",
    "print()\n",
    "print('MAE train:', mean_absolute_error(y_train, mod.predict(X_train[cols_to_fit])), \n",
    "      'MAE test: ', mean_absolute_error(y_test, mod.predict(X_test[cols_to_fit])))"
   ]
  },
  {
   "cell_type": "markdown",
   "metadata": {},
   "source": [
    "### Feature generation/selection"
   ]
  },
  {
   "cell_type": "markdown",
   "metadata": {},
   "source": [
    "#### Benchmark model"
   ]
  },
  {
   "cell_type": "markdown",
   "metadata": {},
   "source": [
    "Best 8 features"
   ]
  },
  {
   "cell_type": "code",
   "execution_count": 32,
   "metadata": {},
   "outputs": [
    {
     "name": "stdout",
     "output_type": "stream",
     "text": [
      "train: 17.828843800126492 test:  13.615130070573631\n"
     ]
    }
   ],
   "source": [
    "cols_to_fit = list(rankings.iloc[:8,0])\n",
    "\n",
    "mod = LinearRegression()\n",
    "res = mod.fit(add_constant(X_train[cols_to_fit]), X_train['Final_grade'])\n",
    "\n",
    "rmse_train = mean_squared_error(y_train, mod.predict(add_constant(X_train[cols_to_fit])))\n",
    "rmse_test = mean_squared_error(y_test, mod.predict(add_constant(X_test[cols_to_fit])))\n",
    "print(\"train:\", rmse_train, \"test: \", rmse_test)"
   ]
  },
  {
   "cell_type": "markdown",
   "metadata": {},
   "source": [
    "There is no absences variable. From the plot it looks promising, there is some non_linearity that LR can't account for."
   ]
  },
  {
   "cell_type": "code",
   "execution_count": 33,
   "metadata": {},
   "outputs": [
    {
     "data": {
      "text/plain": [
       "Text(0.5, 1.0, 'absences')"
      ]
     },
     "execution_count": 33,
     "metadata": {},
     "output_type": "execute_result"
    },
    {
     "data": {
      "image/png": "[encoded data removed]",
      "text/plain": [
       "<Figure size 720x288 with 1 Axes>"
      ]
     },
     "metadata": {
      "needs_background": "light"
     },
     "output_type": "display_data"
    }
   ],
   "source": [
    "sns.scatterplot(x = 'absences', y = 'Final_grade', data = X_train, alpha = 0.5).set_title('absences')"
   ]
  },
  {
   "cell_type": "markdown",
   "metadata": {},
   "source": [
    "#### Absences - threshold"
   ]
  },
  {
   "cell_type": "code",
   "execution_count": 34,
   "metadata": {},
   "outputs": [
    {
     "name": "stdout",
     "output_type": "stream",
     "text": [
      "train: 17.828843800126492 test:  13.615130070573631\n"
     ]
    }
   ],
   "source": [
    "cols_to_fit = list(rankings.iloc[:8,0])# + ['absences']\n",
    "\n",
    "mod = LinearRegression()\n",
    "res = mod.fit(add_constant(X_train[cols_to_fit]), X_train['Final_grade'])\n",
    "\n",
    "rmse_train = mean_squared_error(y_train, mod.predict(add_constant(X_train[cols_to_fit])))\n",
    "rmse_test = mean_squared_error(y_test, mod.predict(add_constant(X_test[cols_to_fit])))\n",
    "print(\"train:\", rmse_train, \"test: \", rmse_test)"
   ]
  },
  {
   "cell_type": "code",
   "execution_count": 35,
   "metadata": {},
   "outputs": [],
   "source": [
    "scores = []\n",
    "for threshold in range(10, 50):\n",
    "#     print('Threshold: ', threshold)\n",
    "    abs_temp = X_train.copy()\n",
    "    abs_temp['thr'] = abs_temp.absences>threshold\n",
    "\n",
    "    abs_temp_test = X_test.copy()\n",
    "    abs_temp_test['thr'] = abs_temp_test.absences>threshold\n",
    "\n",
    "    cols_to_fit = list(rankings.iloc[:8,0]) + ['thr']\n",
    "\n",
    "    mod = LinearRegression()\n",
    "    res = mod.fit(add_constant(abs_temp[cols_to_fit]), X_train['Final_grade'])\n",
    "\n",
    "    rmse_train = mean_squared_error(y_train, mod.predict(add_constant(abs_temp[cols_to_fit])))\n",
    "    rmse_test = mean_squared_error(y_test, mod.predict(add_constant(abs_temp_test[cols_to_fit])))\n",
    "    scores.append((threshold, rmse_train, rmse_test))\n",
    "#     print(\"train:\", rmse_train, \"test: \", rmse_test)"
   ]
  },
  {
   "cell_type": "code",
   "execution_count": 36,
   "metadata": {},
   "outputs": [
    {
     "data": {
      "text/plain": [
       "Text(0.5, 1.0, 'RMSE')"
      ]
     },
     "execution_count": 36,
     "metadata": {},
     "output_type": "execute_result"
    },
    {
     "data": {
      "image/png": "[encoded data removed]",
      "text/plain": [
       "<Figure size 720x288 with 1 Axes>"
      ]
     },
     "metadata": {
      "needs_background": "light"
     },
     "output_type": "display_data"
    }
   ],
   "source": [
    "a = pd.DataFrame(scores, columns = ['th', 'train', 'test'])\n",
    "sns.scatterplot(x = 'th', y= 'value', hue = 'variable', data = pd.melt(a, id_vars = 'th')).set_title('RMSE')"
   ]
  },
  {
   "cell_type": "markdown",
   "metadata": {},
   "source": [
    "#### Absences - roots"
   ]
  },
  {
   "cell_type": "code",
   "execution_count": 37,
   "metadata": {},
   "outputs": [
    {
     "name": "stdout",
     "output_type": "stream",
     "text": [
      "train: 16.387996747776533 test:  13.347514671257512\n"
     ]
    }
   ],
   "source": [
    "scores = []\n",
    "for threshold in range(10, 11):\n",
    "#     print('Threshold: ', threshold)\n",
    "    abs_temp = X_train.copy()\n",
    "    abs_temp['thr'] = abs_temp.absences**(1/20)\n",
    "\n",
    "    abs_temp_test = X_test.copy()\n",
    "    abs_temp_test['thr'] = abs_temp_test.absences**(1/20)\n",
    "\n",
    "    cols_to_fit = list(rankings.iloc[:8,0]) + ['thr']\n",
    "\n",
    "    mod = LinearRegression()\n",
    "    res = mod.fit(add_constant(abs_temp[cols_to_fit]), X_train['Final_grade'])\n",
    "\n",
    "    rmse_train = mean_squared_error(y_train, mod.predict(add_constant(abs_temp[cols_to_fit])))\n",
    "    rmse_test = mean_squared_error(y_test, mod.predict(add_constant(abs_temp_test[cols_to_fit])))\n",
    "    scores.append((threshold, rmse_train, rmse_test))\n",
    "    print(\"train:\", rmse_train, \"test: \", rmse_test)"
   ]
  },
  {
   "cell_type": "code",
   "execution_count": 38,
   "metadata": {},
   "outputs": [
    {
     "data": {
      "text/plain": [
       "Text(0.5, 1.0, 'absences')"
      ]
     },
     "execution_count": 38,
     "metadata": {},
     "output_type": "execute_result"
    },
    {
     "data": {
      "image/png": "[encoded data removed]",
      "text/plain": [
       "<Figure size 720x288 with 1 Axes>"
      ]
     },
     "metadata": {
      "needs_background": "light"
     },
     "output_type": "display_data"
    }
   ],
   "source": [
    "sns.scatterplot(x = 'thr', y = 'Final_grade', data = abs_temp, alpha = 0.5).set_title('absences')"
   ]
  },
  {
   "cell_type": "markdown",
   "metadata": {},
   "source": [
    "### Using Hurdle regression\n",
    "\n",
    "Implementation taken from https://geoffruddock.com/building-a-hurdle-regression-estimator-in-scikit-learn/ - copied to hurdle.py file"
   ]
  },
  {
   "cell_type": "markdown",
   "metadata": {},
   "source": [
    "Fitting on the 8 best features"
   ]
  },
  {
   "cell_type": "code",
   "execution_count": 40,
   "metadata": {},
   "outputs": [],
   "source": [
    "from hurdle import HurdleRegression"
   ]
  },
  {
   "cell_type": "code",
   "execution_count": 41,
   "metadata": {},
   "outputs": [
    {
     "name": "stdout",
     "output_type": "stream",
     "text": [
      "R2 train: 0.10698105304788008 R2 test:  0.09523957581780784\n",
      "\n",
      "RMSE train: 19.621403073186332 RMSE test:  15.147379855968683\n",
      "\n",
      "MAE train: 3.261159288444671 MAE test:  2.8690997923629773\n"
     ]
    }
   ],
   "source": [
    "cols_to_fit = list(rankings.iloc[:8,0])\n",
    "mod = HurdleRegression()\n",
    "mod.fit(X_train[cols_to_fit], y_train)\n",
    "print('R2 train:', r2_score(y_train, mod.predict(X_train[cols_to_fit])), \n",
    "      'R2 test: ', r2_score(y_test, mod.predict(X_test[cols_to_fit])))\n",
    "print()\n",
    "print('RMSE train:', mean_squared_error(y_train, mod.predict(X_train[cols_to_fit])), \n",
    "      'RMSE test: ', mean_squared_error(y_test, mod.predict(X_test[cols_to_fit])))\n",
    "\n",
    "print()\n",
    "print('MAE train:', mean_absolute_error(y_train, mod.predict(X_train[cols_to_fit])), \n",
    "      'MAE test: ', mean_absolute_error(y_test, mod.predict(X_test[cols_to_fit])))"
   ]
  },
  {
   "cell_type": "markdown",
   "metadata": {},
   "source": [
    "Adding features one by one "
   ]
  },
  {
   "cell_type": "code",
   "execution_count": 42,
   "metadata": {},
   "outputs": [],
   "source": [
    "cols_to_fit = all_cols\n",
    "\n",
    "rankings = pd.DataFrame({'col': cols_to_fit, 'rank': rfe.ranking_}).sort_values('rank')\n",
    "\n",
    "r2_vals = []\n",
    "rmse_vals = []\n",
    "mae_vals = []\n",
    "\n",
    "for i in range(2, len(rankings)):\n",
    "#     pass\n",
    "    features = list(rankings.iloc[:i,0])\n",
    "#     print(f'fitting for {i}')\n",
    "    mod = HurdleRegression()\n",
    "    mod.fit(X_train[features], y_train)\n",
    "    \n",
    "    # R2\n",
    "    r2_train = r2_score(y_train, mod.predict(X_train[features]))\n",
    "    r2_test = r2_score(y_test, mod.predict(X_test[features]))\n",
    "    r2_vals.append((r2_train, r2_test))\n",
    "    \n",
    "    # RMSE\n",
    "    rmse_train = mean_squared_error(y_train, mod.predict(X_train[features]))\n",
    "    rmse_test = mean_squared_error(y_test, mod.predict(X_test[features]))\n",
    "    rmse_vals.append((rmse_train, rmse_test))\n",
    "\n",
    "    # MAE\n",
    "    mae_train = mean_absolute_error(y_train,mod.predict(X_train[features]))\n",
    "    mae_test = mean_absolute_error(y_test,mod.predict(X_test[features]))\n",
    "    mae_vals.append((mae_train,mae_test))\n",
    "    # print((rmse_train, rmse_test,mae_test))\n",
    "    \n",
    "    \n",
    "#     print(i)"
   ]
  },
  {
   "cell_type": "code",
   "execution_count": 43,
   "metadata": {},
   "outputs": [],
   "source": [
    "r2_df = pd.DataFrame(r2_vals, columns = ['train', 'test']).reset_index()\n",
    "rmse_df = pd.DataFrame(rmse_vals, columns = ['train', 'test']).reset_index()\n",
    "mae_df = pd.DataFrame(mae_vals,columns=['train','test']).reset_index()"
   ]
  },
  {
   "cell_type": "markdown",
   "metadata": {},
   "source": [
    "Comparison of R^2 for train and validation sets depending on number of features"
   ]
  },
  {
   "cell_type": "code",
   "execution_count": 44,
   "metadata": {},
   "outputs": [
    {
     "data": {
      "text/plain": [
       "Text(0.5, 1.0, 'MAE')"
      ]
     },
     "execution_count": 44,
     "metadata": {},
     "output_type": "execute_result"
    },
    {
     "data": {
      "image/png": "[encoded data removed]",
      "text/plain": [
       "<Figure size 720x288 with 3 Axes>"
      ]
     },
     "metadata": {
      "needs_background": "light"
     },
     "output_type": "display_data"
    }
   ],
   "source": [
    "plt.subplot(1, 3, 1)\n",
    "sns.scatterplot(x = 'index', y= 'value', hue = 'variable', data = pd.melt(r2_df, id_vars = 'index')).set_title('R^2')\n",
    "\n",
    "plt.subplot(1, 3, 2)\n",
    "sns.scatterplot(x = 'index', y= 'value', hue = 'variable', data = pd.melt(rmse_df, id_vars = 'index')).set_title('RMSE')\n",
    "\n",
    "plt.subplot(1, 3, 3)\n",
    "sns.scatterplot(x = 'index', y= 'value', hue = 'variable', data = pd.melt(mae_df, id_vars = 'index')).set_title('MAE')"
   ]
  },
  {
   "cell_type": "markdown",
   "metadata": {},
   "source": [
    "##### BEST"
   ]
  },
  {
   "cell_type": "markdown",
   "metadata": {},
   "source": [
    "2 features give the best performance. Trying on full set."
   ]
  },
  {
   "cell_type": "code",
   "execution_count": 45,
   "metadata": {},
   "outputs": [
    {
     "name": "stdout",
     "output_type": "stream",
     "text": [
      "R2 train: 0.061256734122922984 R2 test:  0.0993329844102725\n",
      "\n",
      "RMSE train: 20.62605733605004 RMSE test:  15.0788485484551\n",
      "\n",
      "MAE train: 3.365272356560191 MAE test:  2.863080730634941\n"
     ]
    }
   ],
   "source": [
    "cols_to_fit = list(rankings.iloc[:2,0])\n",
    "mod = HurdleRegression()\n",
    "mod.fit(X_train[cols_to_fit], y_train)\n",
    "print('R2 train:', r2_score(y_train, mod.predict(X_train[cols_to_fit])), \n",
    "      'R2 test: ', r2_score(y_test, mod.predict(X_test[cols_to_fit])))\n",
    "print()\n",
    "print('RMSE train:', mean_squared_error(y_train, mod.predict(X_train[cols_to_fit])), \n",
    "      'RMSE test: ', mean_squared_error(y_test, mod.predict(X_test[cols_to_fit])))\n",
    "\n",
    "print()\n",
    "print('MAE train:', mean_absolute_error(y_train, mod.predict(X_train[cols_to_fit])), \n",
    "      'MAE test: ', mean_absolute_error(y_test, mod.predict(X_test[cols_to_fit])))"
   ]
  },
  {
   "cell_type": "markdown",
   "metadata": {},
   "source": [
    "### KNN"
   ]
  },
  {
   "cell_type": "code",
   "execution_count": 46,
   "metadata": {},
   "outputs": [],
   "source": [
    "from sklearn.neighbors import KNeighborsRegressor\n",
    "from sklearn.model_selection import KFold,cross_val_score\n",
    "from sklearn.inspection import permutation_importance\n",
    "from matplotlib import pyplot\n",
    "from sklearn  import metrics\n",
    "from sklearn import neighbors"
   ]
  },
  {
   "cell_type": "code",
   "execution_count": 47,
   "metadata": {},
   "outputs": [
    {
     "name": "stdout",
     "output_type": "stream",
     "text": [
      "Train Score 0.4059064326685765\n",
      "Test Score 0.1204949945447239\n",
      "[-0.05724287  0.48760255  0.08017485 -0.4080912  -0.14065248 -0.07493274\n",
      "  0.36608559  0.03165162  0.04891935  0.24183405]\n"
     ]
    }
   ],
   "source": [
    "cols_to_fit = all_cols\n",
    "\n",
    "knn = KNeighborsRegressor()\n",
    "mod = knn.fit(X_train[cols_to_fit],y_train)\n",
    "print(\"Train Score\", knn.score(X_train[cols_to_fit],y_train))\n",
    "print(\"Test Score\",knn.score(X_test[cols_to_fit],y_test))\n",
    "\n",
    "k_fold  = KFold(n_splits=10, shuffle = True ,random_state=random.randint(0,10000))\n",
    "results = cross_val_score(knn, X_train[cols_to_fit], y_train, cv=k_fold)\n",
    "print(results)"
   ]
  },
  {
   "cell_type": "code",
   "execution_count": 48,
   "metadata": {
    "tags": [
     "outputPrepend"
    ]
   },
   "outputs": [],
   "source": [
    "featuresCopy = cols_to_fit.copy()\n",
    "kf = KFold(n_splits=5, shuffle=True, random_state=random.randint(0,10000))\n",
    "selectdFeat = []\n",
    "for k in range(10):\n",
    "    results = []\n",
    "    for oneFeat in featuresCopy:\n",
    "        tempFeatures = selectdFeat + [oneFeat]\n",
    "        n_neighbors = 5\n",
    "        clf = neighbors.KNeighborsRegressor(n_neighbors, n_jobs=-1, p=2)\n",
    "        aucs = []\n",
    "        accs = []\n",
    "        for train, test in kf.split(X_train.index.values):\n",
    "            clf.fit(X_train.iloc[train][tempFeatures].values, X_train.iloc[train][\"Final_grade\"].values)\n",
    "            pred = clf.predict(X_train.iloc[test][tempFeatures].values)\n",
    "            predsTrain = clf.predict(X_train.iloc[train][tempFeatures].values)\n",
    "            aucs.append(metrics.r2_score(X_train.iloc[test][\"Final_grade\"].values,pred))\n",
    "            accs.append(metrics.mean_squared_error(X_train.iloc[test][\"Final_grade\"].values,pred))\n",
    "#         print(tempFeatures)\n",
    "#         print(oneFeat, np.mean(aucs))\n",
    "        results.append((np.mean(aucs), oneFeat))\n",
    "    selectdFeat.append(sorted(results, key=lambda x: x[0], reverse=True)[0][1])\n",
    "    featuresCopy.remove(sorted(results, key=lambda x: x[0], reverse=True)[0][1])"
   ]
  },
  {
   "cell_type": "code",
   "execution_count": 49,
   "metadata": {},
   "outputs": [
    {
     "name": "stdout",
     "output_type": "stream",
     "text": [
      "Feature: 0, Score: 0.77137\n",
      "Feature: 1, Score: 0.95949\n",
      "Feature: 2, Score: 0.67428\n",
      "Feature: 3, Score: 1.44878\n",
      "Feature: 4, Score: 0.00273\n",
      "Feature: 5, Score: 0.29914\n",
      "Feature: 6, Score: 0.09248\n",
      "Feature: 7, Score: -0.14316\n",
      "Feature: 8, Score: 7.78435\n",
      "Feature: 9, Score: 0.02441\n",
      "Feature: 10, Score: 0.07448\n",
      "Feature: 11, Score: 0.10906\n",
      "Feature: 12, Score: 0.00603\n",
      "Feature: 13, Score: 0.13332\n",
      "Feature: 14, Score: -0.08433\n",
      "Feature: 15, Score: -0.12337\n",
      "Feature: 16, Score: -0.10805\n",
      "Feature: 17, Score: 0.01030\n",
      "Feature: 18, Score: 0.49213\n",
      "Feature: 19, Score: 0.20841\n",
      "Feature: 20, Score: 0.02932\n",
      "Feature: 21, Score: 0.23762\n",
      "Feature: 22, Score: 0.02294\n",
      "Feature: 23, Score: -0.09944\n"
     ]
    },
    {
     "data": {
      "image/png": "[encoded data removed]",
      "text/plain": [
       "<Figure size 720x288 with 1 Axes>"
      ]
     },
     "metadata": {
      "needs_background": "light"
     },
     "output_type": "display_data"
    }
   ],
   "source": [
    "results = permutation_importance(knn, X_train[cols_to_fit], y_train,scoring='neg_mean_squared_error')\n",
    "importance = results.importances_mean\n",
    "# summarize feature importance\n",
    "for i,v in enumerate(importance):\n",
    "\tprint('Feature: %0d, Score: %.5f' % (i,v))\n",
    "#plot feature importance\n",
    "pyplot.bar([x for x in range(len(importance))], importance)\n",
    "pyplot.show()\n"
   ]
  },
  {
   "cell_type": "markdown",
   "metadata": {},
   "source": [
    "(???) Feature 8 and 9 has more importances to other features, which are walc and absence ."
   ]
  },
  {
   "cell_type": "code",
   "execution_count": 50,
   "metadata": {},
   "outputs": [
    {
     "name": "stdout",
     "output_type": "stream",
     "text": [
      "Validation score for n_neighbors = 1 is -1.1223226078134867\n",
      "Validation score for n_neighbors = 2 is -0.24318808261393854\n",
      "Validation score for n_neighbors = 3 is 0.045824320961660336\n",
      "Validation score for n_neighbors = 4 is 0.054802796546906014\n",
      "Validation score for n_neighbors = 5 is 0.1204949945447239\n",
      "Validation score for n_neighbors = 6 is 0.08159120732814862\n",
      "Validation score for n_neighbors = 7 is 0.09373524116305798\n",
      "Validation score for n_neighbors = 8 is 0.12157430182033978\n",
      "Validation score for n_neighbors = 9 is 0.11946298907550501\n",
      "Validation score for n_neighbors = 10 is 0.16052954462798885\n",
      "Validation score for n_neighbors = 11 is 0.1338297843057944\n",
      "Validation score for n_neighbors = 12 is 0.13636515896866597\n",
      "Validation score for n_neighbors = 13 is 0.09770766265563524\n",
      "Validation score for n_neighbors = 14 is 0.08835394215492998\n",
      "Validation score for n_neighbors = 15 is 0.08680061337297695\n",
      "Validation score for n_neighbors = 16 is 0.08407144557644108\n",
      "Validation score for n_neighbors = 17 is 0.08300315659580448\n",
      "Validation score for n_neighbors = 18 is 0.06746833942901675\n",
      "Validation score for n_neighbors = 19 is 0.07261811321407019\n",
      "Validation score for n_neighbors = 20 is 0.06962578718680001\n",
      "Validation score for n_neighbors = 21 is 0.07760891747673315\n",
      "Validation score for n_neighbors = 22 is 0.07675183025034227\n",
      "Validation score for n_neighbors = 23 is 0.06588551022673017\n",
      "Validation score for n_neighbors = 24 is 0.07317454278829516\n",
      "Validation score for n_neighbors = 25 is 0.07261503359301713\n",
      "Validation score for n_neighbors = 26 is 0.049262481528343116\n",
      "Validation score for n_neighbors = 27 is 0.08164850985083505\n",
      "Validation score for n_neighbors = 28 is 0.07825870236692212\n",
      "Validation score for n_neighbors = 29 is 0.09037293323527962\n",
      "Validation score for n_neighbors = 30 is 0.08383593123587041\n",
      "Validation score for n_neighbors = 31 is 0.08900361420395941\n",
      "Validation score for n_neighbors = 32 is 0.09139525308713625\n",
      "Validation score for n_neighbors = 33 is 0.09578892358055469\n",
      "Validation score for n_neighbors = 34 is 0.09782459059596892\n",
      "Validation score for n_neighbors = 35 is 0.10270021528125838\n",
      "Validation score for n_neighbors = 36 is 0.08617145500974466\n",
      "Validation score for n_neighbors = 37 is 0.10145573027164322\n",
      "Validation score for n_neighbors = 38 is 0.08793715448524897\n",
      "Validation score for n_neighbors = 39 is 0.09750733319588346\n",
      "Validation score for n_neighbors = 40 is 0.10512006393201002\n",
      "Validation score for n_neighbors = 41 is 0.09121353841791136\n",
      "Validation score for n_neighbors = 42 is 0.10070499848453729\n",
      "Validation score for n_neighbors = 43 is 0.10852107398811883\n",
      "Validation score for n_neighbors = 44 is 0.09940890989705951\n",
      "Validation score for n_neighbors = 45 is 0.10256632644742059\n",
      "Validation score for n_neighbors = 46 is 0.10023472270251432\n",
      "Validation score for n_neighbors = 47 is 0.08847536367793862\n",
      "Validation score for n_neighbors = 48 is 0.10163197867284746\n",
      "Validation score for n_neighbors = 49 is 0.09000332545562917\n"
     ]
    }
   ],
   "source": [
    "knn_models = {}\n",
    "for i in range(1, 50):\n",
    "    knn_models[str(i)] = KNeighborsRegressor(n_neighbors=i);\n",
    "    knn_models[str(i)].fit(X_train[cols_to_fit],y_train);\n",
    "    score = knn_models[str(i)].score(X_test[cols_to_fit],y_test)\n",
    "    print(\"Validation score for n_neighbors = \" + str(i) + \" is \" + str(score))"
   ]
  },
  {
   "cell_type": "markdown",
   "metadata": {},
   "source": [
    "After 5 neighbors the score decreases slowly."
   ]
  },
  {
   "cell_type": "code",
   "execution_count": 51,
   "metadata": {},
   "outputs": [
    {
     "name": "stdout",
     "output_type": "stream",
     "text": [
      "Fitting 5 folds for each of 8 candidates, totalling 40 fits\n"
     ]
    },
    {
     "name": "stderr",
     "output_type": "stream",
     "text": [
      "[Parallel(n_jobs=-1)]: Using backend LokyBackend with 8 concurrent workers.\n",
      "[Parallel(n_jobs=-1)]: Done  40 out of  40 | elapsed:    1.2s finished\n"
     ]
    }
   ],
   "source": [
    "from sklearn.model_selection import GridSearchCV,RandomizedSearchCV\n",
    "\n",
    "grid_params = {\n",
    "    'n_neighbors': [3,5,7,11],\n",
    "    'metric': ['euclidean','manhattan']\n",
    "}\n",
    "\n",
    "gs =GridSearchCV(knn,grid_params,verbose=1,cv=5,n_jobs=-1)\n",
    "\n",
    "gs_results = gs.fit(X_train[cols_to_fit],y_train)\n",
    "\n"
   ]
  },
  {
   "cell_type": "code",
   "execution_count": 52,
   "metadata": {},
   "outputs": [
    {
     "name": "stdout",
     "output_type": "stream",
     "text": [
      "Best score 0.1370899909838878\n",
      "{'metric': 'euclidean', 'n_neighbors': 7}\n",
      "KNeighborsRegressor(algorithm='auto', leaf_size=30, metric='euclidean',\n",
      "                    metric_params=None, n_jobs=None, n_neighbors=7, p=2,\n",
      "                    weights='uniform')\n"
     ]
    }
   ],
   "source": [
    "print('Best score',gs_results.best_score_)\n",
    "print(gs_results.best_params_)\n",
    "print(gs_results.best_estimator_)"
   ]
  },
  {
   "cell_type": "markdown",
   "metadata": {},
   "source": [
    "### Ridge Regression"
   ]
  },
  {
   "cell_type": "markdown",
   "metadata": {},
   "source": [
    "We are using best 8 features obtained from linear regression. We have also tried to test Ridge with all features, but performance was way lower."
   ]
  },
  {
   "cell_type": "code",
   "execution_count": 53,
   "metadata": {},
   "outputs": [],
   "source": [
    "from sklearn.linear_model import Ridge\n",
    "from sklearn.model_selection import KFold\n",
    "from sklearn.metrics import mean_squared_error\n",
    "import random\n",
    "kf = KFold(n_splits=5, shuffle=True, random_state=random.randint(0,10000))\n",
    "alphas = np.linspace(0.1,30,40)\n",
    "\n",
    "cols_to_fit = list(rankings.iloc[:8,0])\n",
    "# cols_to_fit = all_cols\n",
    "\n",
    "scores = []\n",
    "scores_rmse = []\n",
    "scores_mae = []\n",
    "\n",
    "for alpha in alphas:\n",
    "    r2_train = []\n",
    "    r2_test = []\n",
    "    \n",
    "    rmse_train = []\n",
    "    rmse_test = []\n",
    "\n",
    "    mae_train = []\n",
    "    mae_test = []\n",
    "    \n",
    "    for train, test in kf.split(X_train.index.values):\n",
    "        \n",
    "        reg = Ridge(alpha = alpha)\n",
    "        reg.fit(X_train.iloc[train][cols_to_fit], X_train.iloc[train]['Final_grade'])\n",
    "        predsTrain = reg.predict(X_train.iloc[train][cols_to_fit])\n",
    "        preds = reg.predict(X_train.iloc[test][cols_to_fit])\n",
    "        \n",
    "        r2_test.append(r2_score(X_train.iloc[test].Final_grade, preds))\n",
    "        r2_train.append(r2_score(X_train.iloc[train].Final_grade, predsTrain))\n",
    "        \n",
    "        rmse_test.append(mean_squared_error(X_train.iloc[test].Final_grade, preds))\n",
    "        rmse_train.append(mean_squared_error(X_train.iloc[train].Final_grade, predsTrain))\n",
    "\n",
    "        mae_test.append(mean_absolute_error(X_train.iloc[test].Final_grade, preds))\n",
    "        mae_train.append(mean_absolute_error(X_train.iloc[train].Final_grade, predsTrain))\n",
    "        \n",
    "    a = (alpha, np.mean(r2_test), np.mean(r2_train))\n",
    "    scores.append(a)   \n",
    "    \n",
    "    b = (alpha, np.mean(rmse_test), np.mean(rmse_train))\n",
    "    scores_rmse.append(b)  \n",
    "\n",
    "    c = (alpha,np.mean(mae_test),np.mean(mae_train)) \n",
    "    scores_mae.append(c)"
   ]
  },
  {
   "cell_type": "code",
   "execution_count": 54,
   "metadata": {},
   "outputs": [],
   "source": [
    "r2_scores_ridge = pd.DataFrame(scores, columns = ['alpha', 'test', 'train'])\n",
    "rmse_scores_ridge = pd.DataFrame(scores_rmse, columns = ['alpha', 'test', 'train'])\n",
    "mae_scores_ridge = pd.DataFrame(scores_mae,columns = ['alpha','test','train'])"
   ]
  },
  {
   "cell_type": "code",
   "execution_count": 55,
   "metadata": {},
   "outputs": [
    {
     "data": {
      "text/plain": [
       "Text(0.5, 1.0, 'MAE')"
      ]
     },
     "execution_count": 55,
     "metadata": {},
     "output_type": "execute_result"
    },
    {
     "data": {
      "image/png": "[encoded data removed]",
      "text/plain": [
       "<Figure size 720x288 with 3 Axes>"
      ]
     },
     "metadata": {
      "needs_background": "light"
     },
     "output_type": "display_data"
    }
   ],
   "source": [
    "plt.subplot(1, 3, 1)\n",
    "sns.scatterplot(x = 'alpha', y= 'value', hue = 'variable', data = pd.melt(r2_scores_ridge, id_vars = 'alpha')).set_title('R^2')\n",
    "plt.subplot(1, 3, 2)\n",
    "sns.scatterplot(x = 'alpha', y= 'value', hue = 'variable', data = pd.melt(rmse_scores_ridge, id_vars = 'alpha')).set_title('MSE')\n",
    "plt.subplot(1, 3, 3)\n",
    "sns.scatterplot(x = 'alpha', y= 'value', hue = 'variable', data = pd.melt(mae_scores_ridge, id_vars = 'alpha')).set_title('MAE')"
   ]
  },
  {
   "cell_type": "markdown",
   "metadata": {},
   "source": [
    "##### BEST"
   ]
  },
  {
   "cell_type": "markdown",
   "metadata": {},
   "source": [
    "Alpha ~10 is the best by RMSE - fitting that using to the full set"
   ]
  },
  {
   "cell_type": "code",
   "execution_count": 56,
   "metadata": {},
   "outputs": [
    {
     "name": "stdout",
     "output_type": "stream",
     "text": [
      "R2 train: 0.18488831363742242 R2 test:  0.19556222030084514\n",
      "\n",
      "RMSE train: 17.909625548675272 RMSE test:  13.467791355495258\n",
      "\n",
      "MAE train: 3.259580203075185 MAE test:  2.710594372447218\n"
     ]
    }
   ],
   "source": [
    "mod = Ridge(alpha = 10)\n",
    "mod.fit(X_train[cols_to_fit], y_train)\n",
    "print('R2 train:', r2_score(y_train, mod.predict(X_train[cols_to_fit])), \n",
    "      'R2 test: ', r2_score(y_test, mod.predict(X_test[cols_to_fit])))\n",
    "print()\n",
    "print('RMSE train:', mean_squared_error(y_train, mod.predict(X_train[cols_to_fit])), \n",
    "      'RMSE test: ', mean_squared_error(y_test, mod.predict(X_test[cols_to_fit])))\n",
    "\n",
    "print()\n",
    "print('MAE train:', mean_absolute_error(y_train, mod.predict(X_train[cols_to_fit])), \n",
    "      'MAE test: ', mean_absolute_error(y_test, mod.predict(X_test[cols_to_fit])))"
   ]
  },
  {
   "cell_type": "markdown",
   "metadata": {},
   "source": [
    "### Lasso regression"
   ]
  },
  {
   "cell_type": "markdown",
   "metadata": {},
   "source": [
    "Now I'm trying to fit Lasso regression - as a mean of feature selection"
   ]
  },
  {
   "cell_type": "code",
   "execution_count": 57,
   "metadata": {},
   "outputs": [],
   "source": [
    "from sklearn.linear_model import Lasso"
   ]
  },
  {
   "cell_type": "code",
   "execution_count": 58,
   "metadata": {},
   "outputs": [],
   "source": [
    "cols_to_fit = all_cols"
   ]
  },
  {
   "cell_type": "code",
   "execution_count": 59,
   "metadata": {},
   "outputs": [],
   "source": [
    "from sklearn.model_selection import KFold\n",
    "from sklearn.metrics import mean_squared_error\n",
    "import random\n",
    "kf = KFold(n_splits=3, shuffle=True, random_state=random.randint(0,10000))\n",
    "alphas = np.linspace(0.01, 0.5, 80)\n",
    "\n",
    "scores = []\n",
    "scores_rmse = []\n",
    "\n",
    "for alpha in alphas:\n",
    "    r2_train = []\n",
    "    r2_test = []\n",
    "    \n",
    "    rmse_train = []\n",
    "    rmse_test = []\n",
    "    \n",
    "    for train, test in kf.split(X_train.index.values):\n",
    "        \n",
    "        reg = Lasso(alpha = alpha)\n",
    "        reg.fit(X_train.iloc[train][cols_to_fit], X_train.iloc[train]['Final_grade'])\n",
    "        predsTrain = reg.predict(X_train.iloc[train][cols_to_fit])\n",
    "        preds = reg.predict(X_train.iloc[test][cols_to_fit])\n",
    "        \n",
    "        r2_test.append(r2_score(X_train.iloc[test].Final_grade, preds))\n",
    "        r2_train.append(r2_score(X_train.iloc[train].Final_grade, predsTrain))\n",
    "        \n",
    "        rmse_test.append(mean_squared_error(X_train.iloc[test].Final_grade, preds))\n",
    "        rmse_train.append(mean_squared_error(X_train.iloc[train].Final_grade, predsTrain))\n",
    "        \n",
    "    a = (alpha, np.mean(r2_test), np.mean(r2_train))\n",
    "    scores.append(a)   \n",
    "    \n",
    "    b = (alpha, np.mean(rmse_test), np.mean(rmse_train))\n",
    "    scores_rmse.append(b)   \n",
    "#     print(a)\n"
   ]
  },
  {
   "cell_type": "code",
   "execution_count": 60,
   "metadata": {},
   "outputs": [],
   "source": [
    "r2_scores_lasso = pd.DataFrame(scores, columns = ['alpha', 'test', 'train'])\n",
    "rmse_scores_lasso = pd.DataFrame(scores_rmse, columns = ['alpha', 'test', 'train'])"
   ]
  },
  {
   "cell_type": "code",
   "execution_count": 61,
   "metadata": {},
   "outputs": [
    {
     "data": {
      "text/plain": [
       "Text(0.5, 1.0, 'RMSE')"
      ]
     },
     "execution_count": 61,
     "metadata": {},
     "output_type": "execute_result"
    },
    {
     "data": {
      "image/png": "[encoded data removed]",
      "text/plain": [
       "<Figure size 720x288 with 2 Axes>"
      ]
     },
     "metadata": {
      "needs_background": "light"
     },
     "output_type": "display_data"
    }
   ],
   "source": [
    "plt.subplot(1, 2, 1)\n",
    "sns.scatterplot(x = 'alpha', y= 'value', hue = 'variable', data = pd.melt(r2_scores_lasso, id_vars = 'alpha')).set_title('R^2')\n",
    "\n",
    "plt.subplot(1, 2, 2)\n",
    "sns.scatterplot(x = 'alpha', y= 'value', hue = 'variable', data = pd.melt(rmse_scores_lasso, id_vars = 'alpha')).set_title('RMSE')"
   ]
  },
  {
   "cell_type": "markdown",
   "metadata": {},
   "source": [
    "Alpha around 0.1-0.2 seems correct. The score is dropping very slowly, so to obtain parsimonious model I have used alpha = 0.2"
   ]
  },
  {
   "cell_type": "markdown",
   "metadata": {},
   "source": [
    "##### BEST"
   ]
  },
  {
   "cell_type": "code",
   "execution_count": 62,
   "metadata": {},
   "outputs": [
    {
     "name": "stdout",
     "output_type": "stream",
     "text": [
      "R2 train: 0.18259747623034983 R2 test:  0.10054442356484294\n",
      "\n",
      "RMSE train: 17.959959804507935 RMSE test:  15.058566793687524\n",
      "\n",
      "MAE train: 3.27516333080704 MAE test:  2.8607161991464856\n"
     ]
    }
   ],
   "source": [
    "mod = Lasso(alpha = 0.2)\n",
    "mod.fit(X_train[cols_to_fit], y_train)\n",
    "print('R2 train:', r2_score(y_train, mod.predict(X_train[cols_to_fit])), \n",
    "      'R2 test: ', r2_score(y_test, mod.predict(X_test[cols_to_fit])))\n",
    "print()\n",
    "print('RMSE train:', mean_squared_error(y_train, mod.predict(X_train[cols_to_fit])), \n",
    "      'RMSE test: ', mean_squared_error(y_test, mod.predict(X_test[cols_to_fit])))\n",
    "\n",
    "print()\n",
    "print('MAE train:', mean_absolute_error(y_train, mod.predict(X_train[cols_to_fit])), \n",
    "      'MAE test: ', mean_absolute_error(y_test, mod.predict(X_test[cols_to_fit])))"
   ]
  },
  {
   "cell_type": "markdown",
   "metadata": {},
   "source": [
    "R2 score for train dataset is very similar to the one obtained by taking best 8 features (with normal model). However performance on the test set varies significantly - ~0.18 vs 0.1"
   ]
  },
  {
   "cell_type": "markdown",
   "metadata": {},
   "source": [
    "Now trying trying using the best 8 features obtained earlier. They were shown as the best ones with Ridge, so we expect similar behaviour in Lasso."
   ]
  },
  {
   "cell_type": "code",
   "execution_count": 63,
   "metadata": {},
   "outputs": [],
   "source": [
    "cols_to_fit = list(rankings.iloc[:8,0])"
   ]
  },
  {
   "cell_type": "code",
   "execution_count": 64,
   "metadata": {},
   "outputs": [],
   "source": [
    "from sklearn.model_selection import KFold\n",
    "from sklearn.metrics import mean_squared_error\n",
    "import random\n",
    "kf = KFold(n_splits=3, shuffle=True, random_state=random.randint(0,10000))\n",
    "alphas = np.linspace(0.01, 0.5, 80)\n",
    "\n",
    "scores = []\n",
    "scores_rmse = []\n",
    "\n",
    "for alpha in alphas:\n",
    "    r2_train = []\n",
    "    r2_test = []\n",
    "    \n",
    "    rmse_train = []\n",
    "    rmse_test = []\n",
    "    \n",
    "    for train, test in kf.split(X_train.index.values):\n",
    "        \n",
    "        reg = Lasso(alpha = alpha)\n",
    "        reg.fit(X_train.iloc[train][cols_to_fit], X_train.iloc[train]['Final_grade'])\n",
    "        predsTrain = reg.predict(X_train.iloc[train][cols_to_fit])\n",
    "        preds = reg.predict(X_train.iloc[test][cols_to_fit])\n",
    "        \n",
    "        r2_test.append(r2_score(X_train.iloc[test].Final_grade, preds))\n",
    "        r2_train.append(r2_score(X_train.iloc[train].Final_grade, predsTrain))\n",
    "        \n",
    "        rmse_test.append(mean_squared_error(X_train.iloc[test].Final_grade, preds))\n",
    "        rmse_train.append(mean_squared_error(X_train.iloc[train].Final_grade, predsTrain))\n",
    "        \n",
    "    a = (alpha, np.mean(r2_test), np.mean(r2_train))\n",
    "    scores.append(a)   \n",
    "    \n",
    "    b = (alpha, np.mean(rmse_test), np.mean(rmse_train))\n",
    "    scores_rmse.append(b)   \n",
    "#     print(a)\n"
   ]
  },
  {
   "cell_type": "code",
   "execution_count": 65,
   "metadata": {},
   "outputs": [],
   "source": [
    "r2_scores_lasso = pd.DataFrame(scores, columns = ['alpha', 'test', 'train'])\n",
    "rmse_scores_lasso = pd.DataFrame(scores_rmse, columns = ['alpha', 'test', 'train'])"
   ]
  },
  {
   "cell_type": "code",
   "execution_count": 66,
   "metadata": {},
   "outputs": [
    {
     "data": {
      "text/plain": [
       "Text(0.5, 1.0, 'RMSE')"
      ]
     },
     "execution_count": 66,
     "metadata": {},
     "output_type": "execute_result"
    },
    {
     "data": {
      "image/png": "[encoded data removed]",
      "text/plain": [
       "<Figure size 720x288 with 2 Axes>"
      ]
     },
     "metadata": {
      "needs_background": "light"
     },
     "output_type": "display_data"
    }
   ],
   "source": [
    "plt.subplot(1, 2, 1)\n",
    "sns.scatterplot(x = 'alpha', y= 'value', hue = 'variable', data = pd.melt(r2_scores_lasso, id_vars = 'alpha')).set_title('R^2')\n",
    "\n",
    "plt.subplot(1, 2, 2)\n",
    "sns.scatterplot(x = 'alpha', y= 'value', hue = 'variable', data = pd.melt(rmse_scores_lasso, id_vars = 'alpha')).set_title('RMSE')"
   ]
  },
  {
   "cell_type": "markdown",
   "metadata": {},
   "source": [
    "According to these plots, correct alpha is 0 - which means standard linear model as was obtained earlier. To summarise, using Lasso did not bring improvement over standard linear regression. However Ridge regression improved the scores."
   ]
  },
  {
   "cell_type": "markdown",
   "metadata": {},
   "source": [
    "### SVM modeling"
   ]
  },
  {
   "cell_type": "code",
   "execution_count": 67,
   "metadata": {},
   "outputs": [],
   "source": [
    "cols_to_fit = all_cols"
   ]
  },
  {
   "cell_type": "markdown",
   "metadata": {},
   "source": [
    "#### SVM with features from mutual infromation"
   ]
  },
  {
   "cell_type": "code",
   "execution_count": 68,
   "metadata": {},
   "outputs": [],
   "source": [
    "from sklearn.svm import SVR"
   ]
  },
  {
   "cell_type": "markdown",
   "metadata": {},
   "source": [
    "As SVM is a nonlinear model, let's use the 10 best variables obtained from mutual information"
   ]
  },
  {
   "cell_type": "code",
   "execution_count": 69,
   "metadata": {},
   "outputs": [],
   "source": [
    "list(pd.DataFrame({'minfo': mutual_info, 'col': X_train.columns}).sort_values('minfo', ascending=False).head(11).col)\n",
    "\n",
    "cols_to_fit = [\n",
    "    'absences',\n",
    " 'failures',\n",
    " 'age',\n",
    " 'Medu',\n",
    " 'Walc',\n",
    " 'goout',\n",
    " 'Fedu',\n",
    " 'studytime',\n",
    " 'Dalc',\n",
    " 'famrel'\n",
    "]"
   ]
  },
  {
   "cell_type": "code",
   "execution_count": 70,
   "metadata": {},
   "outputs": [],
   "source": [
    "from sklearn.model_selection import KFold\n",
    "from sklearn.metrics import mean_squared_error\n",
    "import random\n",
    "kf = KFold(n_splits=3, shuffle=True, random_state=random.randint(0,10000))\n",
    "cs = np.linspace(0.1, 30, 300)\n",
    "\n",
    "scores = []\n",
    "scores_rmse = []\n",
    "\n",
    "for c in cs:\n",
    "    r2_train = []\n",
    "    r2_test = []\n",
    "    \n",
    "    rmse_train = []\n",
    "    rmse_test = []\n",
    "    for train, test in kf.split(X_train.index.values):\n",
    "        \n",
    "        reg = SVR(C = c)\n",
    "        reg.fit(X_train.iloc[train][cols_to_fit], X_train.iloc[train]['Final_grade'])\n",
    "        predsTrain = reg.predict(X_train.iloc[train][cols_to_fit])\n",
    "        preds = reg.predict(X_train.iloc[test][cols_to_fit])\n",
    "        \n",
    "        r2_test.append(r2_score(X_train.iloc[test].Final_grade, preds))\n",
    "        r2_train.append(r2_score(X_train.iloc[train].Final_grade, predsTrain))\n",
    "        \n",
    "        rmse_test.append(mean_squared_error(X_train.iloc[test].Final_grade, preds))\n",
    "        rmse_train.append(mean_squared_error(X_train.iloc[train].Final_grade, predsTrain))\n",
    "        \n",
    "    a = (c, np.mean(r2_test), np.mean(r2_train))\n",
    "    scores.append(a)    \n",
    "    \n",
    "    b = (c, np.mean(rmse_test), np.mean(rmse_train))\n",
    "    scores_rmse.append(b)    \n",
    "#     print(a)\n"
   ]
  },
  {
   "cell_type": "code",
   "execution_count": 71,
   "metadata": {},
   "outputs": [],
   "source": [
    "r2_scores_svm = pd.DataFrame(scores, columns = ['c', 'test', 'train'])\n",
    "rmse_scores_svm = pd.DataFrame(scores_rmse, columns = ['c', 'test', 'train'])"
   ]
  },
  {
   "cell_type": "code",
   "execution_count": 72,
   "metadata": {},
   "outputs": [
    {
     "data": {
      "text/plain": [
       "Text(0.5, 1.0, 'RMSE')"
      ]
     },
     "execution_count": 72,
     "metadata": {},
     "output_type": "execute_result"
    },
    {
     "data": {
      "image/png": "[encoded data removed]",
      "text/plain": [
       "<Figure size 720x288 with 2 Axes>"
      ]
     },
     "metadata": {
      "needs_background": "light"
     },
     "output_type": "display_data"
    }
   ],
   "source": [
    "plt.subplot(1, 2, 1)\n",
    "sns.scatterplot(x = 'c', y= 'value', hue = 'variable', data = pd.melt(r2_scores_svm, id_vars = 'c')).set_title('R^2')\n",
    "\n",
    "plt.subplot(1, 2, 2)\n",
    "sns.scatterplot(x = 'c', y= 'value', hue = 'variable', data = pd.melt(rmse_scores_svm, id_vars = 'c')).set_title('RMSE')"
   ]
  },
  {
   "cell_type": "markdown",
   "metadata": {},
   "source": [
    "##### BEST"
   ]
  },
  {
   "cell_type": "markdown",
   "metadata": {},
   "source": [
    "Value of c around 12 seems ok by criterion of R2, however using RMSE best value is ~25-30 - then performance on the CV test set is the best from models tried so far"
   ]
  },
  {
   "cell_type": "code",
   "execution_count": 73,
   "metadata": {},
   "outputs": [
    {
     "name": "stdout",
     "output_type": "stream",
     "text": [
      "R2 train: 0.22695984684518222 R2 test:  0.19841658671756246\n",
      "\n",
      "RMSE train: 16.985230255838715 RMSE test:  13.420003928894213\n",
      "\n",
      "MAE train: 3.064373888054063 MAE test:  2.7467486899285882\n"
     ]
    }
   ],
   "source": [
    "mod = SVR(C = 12)\n",
    "mod.fit(X_train[cols_to_fit], y_train)\n",
    "print('R2 train:', r2_score(y_train, mod.predict(X_train[cols_to_fit])), \n",
    "      'R2 test: ', r2_score(y_test, mod.predict(X_test[cols_to_fit])))\n",
    "print()\n",
    "print('RMSE train:', mean_squared_error(y_train, mod.predict(X_train[cols_to_fit])), \n",
    "      'RMSE test: ', mean_squared_error(y_test, mod.predict(X_test[cols_to_fit])))\n",
    "\n",
    "print()\n",
    "print('MAE train:', mean_absolute_error(y_train, mod.predict(X_train[cols_to_fit])), \n",
    "      'MAE test: ', mean_absolute_error(y_test, mod.predict(X_test[cols_to_fit])))"
   ]
  },
  {
   "cell_type": "markdown",
   "metadata": {},
   "source": [
    "#### SVM with features from linear regression"
   ]
  },
  {
   "cell_type": "markdown",
   "metadata": {},
   "source": [
    "Now trying the model on the best 8 features obtained from linear regression, which were shown to be the best ones in Linear Regression and Ridge."
   ]
  },
  {
   "cell_type": "code",
   "execution_count": 74,
   "metadata": {},
   "outputs": [],
   "source": [
    "# cols_to_fit = ['failures',\n",
    "#  'Mjob_health',\n",
    "#  'Mjob_services',\n",
    "#  'Fjob_other',\n",
    "#  'Fjob_services',\n",
    "#  'sex_M',\n",
    "#  'Pstatus_T',\n",
    "#  'romantic_yes']\n",
    "\n",
    "cols_to_fit = list(rankings.iloc[:8,0])"
   ]
  },
  {
   "cell_type": "code",
   "execution_count": 75,
   "metadata": {},
   "outputs": [],
   "source": [
    "from sklearn.model_selection import KFold\n",
    "from sklearn.metrics import mean_squared_error\n",
    "import random\n",
    "kf = KFold(n_splits=3, shuffle=True, random_state=random.randint(0,10000))\n",
    "cs = np.linspace(0.1, 20, 200)\n",
    "\n",
    "scores = []\n",
    "scores_rmse = []\n",
    "\n",
    "for c in cs:\n",
    "    r2_train = []\n",
    "    r2_test = []\n",
    "    \n",
    "    rmse_train = []\n",
    "    rmse_test = []\n",
    "    for train, test in kf.split(X_train.index.values):\n",
    "        \n",
    "        reg = SVR(C = c)\n",
    "        reg.fit(X_train.iloc[train][cols_to_fit], X_train.iloc[train]['Final_grade'])\n",
    "        predsTrain = reg.predict(X_train.iloc[train][cols_to_fit])\n",
    "        preds = reg.predict(X_train.iloc[test][cols_to_fit])\n",
    "        \n",
    "        r2_test.append(r2_score(X_train.iloc[test].Final_grade, preds))\n",
    "        r2_train.append(r2_score(X_train.iloc[train].Final_grade, predsTrain))\n",
    "        \n",
    "        rmse_test.append(mean_squared_error(X_train.iloc[test].Final_grade, preds))\n",
    "        rmse_train.append(mean_squared_error(X_train.iloc[train].Final_grade, predsTrain))\n",
    "        \n",
    "    a = (c, np.mean(r2_test), np.mean(r2_train))\n",
    "    scores.append(a)    \n",
    "    \n",
    "    b = (c, np.mean(rmse_test), np.mean(rmse_train))\n",
    "    scores_rmse.append(b)    \n",
    "#     print(a)\n"
   ]
  },
  {
   "cell_type": "code",
   "execution_count": 76,
   "metadata": {},
   "outputs": [],
   "source": [
    "r2_scores_svm = pd.DataFrame(scores, columns = ['c', 'test', 'train'])\n",
    "rmse_scores_svm = pd.DataFrame(scores_rmse, columns = ['c', 'test', 'train'])"
   ]
  },
  {
   "cell_type": "code",
   "execution_count": 77,
   "metadata": {},
   "outputs": [
    {
     "data": {
      "text/plain": [
       "Text(0.5, 1.0, 'RMSE')"
      ]
     },
     "execution_count": 77,
     "metadata": {},
     "output_type": "execute_result"
    },
    {
     "data": {
      "image/png": "[encoded data removed]",
      "text/plain": [
       "<Figure size 720x288 with 2 Axes>"
      ]
     },
     "metadata": {
      "needs_background": "light"
     },
     "output_type": "display_data"
    }
   ],
   "source": [
    "plt.subplot(1, 2, 1)\n",
    "sns.scatterplot(x = 'c', y= 'value', hue = 'variable', data = pd.melt(r2_scores_svm, id_vars = 'c')).set_title('R^2')\n",
    "\n",
    "plt.subplot(1, 2, 2)\n",
    "sns.scatterplot(x = 'c', y= 'value', hue = 'variable', data = pd.melt(rmse_scores_svm, id_vars = 'c')).set_title('RMSE')"
   ]
  },
  {
   "cell_type": "markdown",
   "metadata": {},
   "source": [
    "Now it's completely different picture - c around 0.8 seems correct. However model's performance has dropped dramatically - it seems that the desicion to take best mutual info scores rather than LR scores is correct. Also, way poorer overfitting."
   ]
  },
  {
   "cell_type": "code",
   "execution_count": 78,
   "metadata": {},
   "outputs": [
    {
     "name": "stdout",
     "output_type": "stream",
     "text": [
      "R2 train: 0.1776459155700293 R2 test:  0.13752360094305494\n",
      "\n",
      "RMSE train: 18.0687554441627 RMSE test:  14.43946627653645\n",
      "\n",
      "MAE train: 3.1204081267142088 MAE test:  2.755377623633486\n"
     ]
    }
   ],
   "source": [
    "mod = SVR(C = 0.8)\n",
    "mod.fit(X_train[cols_to_fit], y_train)\n",
    "print('R2 train:', r2_score(y_train, mod.predict(X_train[cols_to_fit])), \n",
    "      'R2 test: ', r2_score(y_test, mod.predict(X_test[cols_to_fit])))\n",
    "print()\n",
    "print('RMSE train:', mean_squared_error(y_train, mod.predict(X_train[cols_to_fit])), \n",
    "      'RMSE test: ', mean_squared_error(y_test, mod.predict(X_test[cols_to_fit])))\n",
    "\n",
    "print()\n",
    "print('MAE train:', mean_absolute_error(y_train, mod.predict(X_train[cols_to_fit])), \n",
    "      'MAE test: ', mean_absolute_error(y_test, mod.predict(X_test[cols_to_fit])))"
   ]
  },
  {
   "cell_type": "markdown",
   "metadata": {},
   "source": [
    "Performance on the test set also dropped dramatically from the mutual information features. "
   ]
  },
  {
   "cell_type": "markdown",
   "metadata": {},
   "source": [
    "### SVM with more features"
   ]
  },
  {
   "cell_type": "code",
   "execution_count": 79,
   "metadata": {},
   "outputs": [],
   "source": [
    "cols_to_fit = list(pd.DataFrame({'minfo': mutual_info, 'col': X_train.columns}).sort_values('minfo', ascending=False).iloc[1:].head(16).col)"
   ]
  },
  {
   "cell_type": "code",
   "execution_count": 80,
   "metadata": {},
   "outputs": [],
   "source": [
    "from sklearn.model_selection import KFold\n",
    "from sklearn.metrics import mean_squared_error\n",
    "import random\n",
    "kf = KFold(n_splits=3, shuffle=True, random_state=random.randint(0,10000))\n",
    "cs = np.linspace(0.1, 60, 30)\n",
    "\n",
    "scores = []\n",
    "scores_rmse = []\n",
    "\n",
    "for c in cs:\n",
    "    r2_train = []\n",
    "    r2_test = []\n",
    "    \n",
    "    rmse_train = []\n",
    "    rmse_test = []\n",
    "    for train, test in kf.split(X_train.index.values):\n",
    "        \n",
    "        reg = SVR(C = c)\n",
    "        reg.fit(X_train.iloc[train][cols_to_fit], X_train.iloc[train]['Final_grade'])\n",
    "        predsTrain = reg.predict(X_train.iloc[train][cols_to_fit])\n",
    "        preds = reg.predict(X_train.iloc[test][cols_to_fit])\n",
    "        \n",
    "        r2_test.append(r2_score(X_train.iloc[test].Final_grade, preds))\n",
    "        r2_train.append(r2_score(X_train.iloc[train].Final_grade, predsTrain))\n",
    "        \n",
    "        rmse_test.append(mean_squared_error(X_train.iloc[test].Final_grade, preds))\n",
    "        rmse_train.append(mean_squared_error(X_train.iloc[train].Final_grade, predsTrain))\n",
    "        \n",
    "    a = (c, np.mean(r2_test), np.mean(r2_train))\n",
    "    scores.append(a)    \n",
    "    \n",
    "    b = (c, np.mean(rmse_test), np.mean(rmse_train))\n",
    "    scores_rmse.append(b)    \n",
    "#     print(a)\n"
   ]
  },
  {
   "cell_type": "code",
   "execution_count": 81,
   "metadata": {},
   "outputs": [],
   "source": [
    "r2_scores_svm = pd.DataFrame(scores, columns = ['c', 'test', 'train'])\n",
    "rmse_scores_svm = pd.DataFrame(scores_rmse, columns = ['c', 'test', 'train'])"
   ]
  },
  {
   "cell_type": "code",
   "execution_count": 82,
   "metadata": {},
   "outputs": [
    {
     "data": {
      "text/plain": [
       "Text(0.5, 1.0, 'RMSE')"
      ]
     },
     "execution_count": 82,
     "metadata": {},
     "output_type": "execute_result"
    },
    {
     "data": {
      "image/png": "[encoded data removed]",
      "text/plain": [
       "<Figure size 720x288 with 2 Axes>"
      ]
     },
     "metadata": {
      "needs_background": "light"
     },
     "output_type": "display_data"
    }
   ],
   "source": [
    "plt.subplot(1, 2, 1)\n",
    "sns.scatterplot(x = 'c', y= 'value', hue = 'variable', data = pd.melt(r2_scores_svm, id_vars = 'c')).set_title('R^2')\n",
    "\n",
    "plt.subplot(1, 2, 2)\n",
    "sns.scatterplot(x = 'c', y= 'value', hue = 'variable', data = pd.melt(rmse_scores_svm, id_vars = 'c')).set_title('RMSE')"
   ]
  },
  {
   "cell_type": "code",
   "execution_count": 83,
   "metadata": {},
   "outputs": [
    {
     "name": "stdout",
     "output_type": "stream",
     "text": [
      "R2 train: 0.3035837528583891 R2 test:  0.1643482037861711\n",
      "\n",
      "RMSE train: 15.301650584815578 RMSE test:  13.990372308796369\n",
      "\n",
      "MAE train: 2.8628502617697196 MAE test:  2.85509769337845\n"
     ]
    }
   ],
   "source": [
    "mod = SVR(C = 30)\n",
    "mod.fit(X_train[cols_to_fit], y_train)\n",
    "print('R2 train:', r2_score(y_train, mod.predict(X_train[cols_to_fit])), \n",
    "      'R2 test: ', r2_score(y_test, mod.predict(X_test[cols_to_fit])))\n",
    "print()\n",
    "print('RMSE train:', mean_squared_error(y_train, mod.predict(X_train[cols_to_fit])), \n",
    "      'RMSE test: ', mean_squared_error(y_test, mod.predict(X_test[cols_to_fit])))\n",
    "\n",
    "print()\n",
    "print('MAE train:', mean_absolute_error(y_train, mod.predict(X_train[cols_to_fit])), \n",
    "      'MAE test: ', mean_absolute_error(y_test, mod.predict(X_test[cols_to_fit])))"
   ]
  },
  {
   "cell_type": "markdown",
   "metadata": {},
   "source": [
    "Value of R2 for test set dropped from the model with only 8 features. "
   ]
  }
 ],
 "metadata": {
  "kernelspec": {
   "display_name": "Python 3",
   "language": "python",
   "name": "python3"
  },
  "language_info": {
   "codemirror_mode": {
    "name": "ipython",
    "version": 3
   },
   "file_extension": ".py",
   "mimetype": "text/x-python",
   "name": "python",
   "nbconvert_exporter": "python",
   "pygments_lexer": "ipython3",
   "version": "3.8.2"
  },
  "toc-autonumbering": false,
  "toc-showcode": false,
  "toc-showmarkdowntxt": false,
  "toc-showtags": false
 },
 "nbformat": 4,
 "nbformat_minor": 4
}
