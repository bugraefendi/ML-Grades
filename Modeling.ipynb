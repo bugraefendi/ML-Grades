{
 "cells": [
  {
   "cell_type": "code",
   "execution_count": 1,
   "metadata": {},
   "outputs": [],
   "source": [
    "import pandas as pd\n",
    "import numpy as np\n",
    "import seaborn as sns"
   ]
  },
  {
   "cell_type": "code",
   "execution_count": 2,
   "metadata": {},
   "outputs": [],
   "source": [
    "df = pd.read_csv('data/to_model.csv', index_col = 0)"
   ]
  },
  {
   "cell_type": "code",
   "execution_count": 3,
   "metadata": {},
   "outputs": [
    {
     "data": {
      "text/html": [
       "<div>\n",
       "<style scoped>\n",
       "    .dataframe tbody tr th:only-of-type {\n",
       "        vertical-align: middle;\n",
       "    }\n",
       "\n",
       "    .dataframe tbody tr th {\n",
       "        vertical-align: top;\n",
       "    }\n",
       "\n",
       "    .dataframe thead th {\n",
       "        text-align: right;\n",
       "    }\n",
       "</style>\n",
       "<table border=\"1\" class=\"dataframe\">\n",
       "  <thead>\n",
       "    <tr style=\"text-align: right;\">\n",
       "      <th></th>\n",
       "      <th>age</th>\n",
       "      <th>Medu</th>\n",
       "      <th>Fedu</th>\n",
       "      <th>failures</th>\n",
       "      <th>traveltime</th>\n",
       "      <th>studytime</th>\n",
       "      <th>Dalc</th>\n",
       "      <th>Walc</th>\n",
       "      <th>absences</th>\n",
       "      <th>Final_grade</th>\n",
       "      <th>goout</th>\n",
       "      <th>famrel</th>\n",
       "      <th>guardian</th>\n",
       "      <th>Mjob</th>\n",
       "      <th>Fjob</th>\n",
       "      <th>sex</th>\n",
       "      <th>Pstatus</th>\n",
       "      <th>romantic</th>\n",
       "    </tr>\n",
       "  </thead>\n",
       "  <tbody>\n",
       "    <tr>\n",
       "      <th>0</th>\n",
       "      <td>18</td>\n",
       "      <td>4</td>\n",
       "      <td>4</td>\n",
       "      <td>0</td>\n",
       "      <td>2</td>\n",
       "      <td>2</td>\n",
       "      <td>1</td>\n",
       "      <td>1</td>\n",
       "      <td>6</td>\n",
       "      <td>6</td>\n",
       "      <td>4</td>\n",
       "      <td>4</td>\n",
       "      <td>mother</td>\n",
       "      <td>at_home</td>\n",
       "      <td>teacher</td>\n",
       "      <td>F</td>\n",
       "      <td>A</td>\n",
       "      <td>no</td>\n",
       "    </tr>\n",
       "    <tr>\n",
       "      <th>1</th>\n",
       "      <td>17</td>\n",
       "      <td>1</td>\n",
       "      <td>1</td>\n",
       "      <td>0</td>\n",
       "      <td>1</td>\n",
       "      <td>2</td>\n",
       "      <td>1</td>\n",
       "      <td>1</td>\n",
       "      <td>4</td>\n",
       "      <td>6</td>\n",
       "      <td>3</td>\n",
       "      <td>5</td>\n",
       "      <td>father</td>\n",
       "      <td>at_home</td>\n",
       "      <td>other</td>\n",
       "      <td>F</td>\n",
       "      <td>T</td>\n",
       "      <td>no</td>\n",
       "    </tr>\n",
       "    <tr>\n",
       "      <th>2</th>\n",
       "      <td>15</td>\n",
       "      <td>1</td>\n",
       "      <td>1</td>\n",
       "      <td>3</td>\n",
       "      <td>1</td>\n",
       "      <td>2</td>\n",
       "      <td>2</td>\n",
       "      <td>3</td>\n",
       "      <td>10</td>\n",
       "      <td>10</td>\n",
       "      <td>2</td>\n",
       "      <td>4</td>\n",
       "      <td>mother</td>\n",
       "      <td>at_home</td>\n",
       "      <td>other</td>\n",
       "      <td>F</td>\n",
       "      <td>T</td>\n",
       "      <td>no</td>\n",
       "    </tr>\n",
       "    <tr>\n",
       "      <th>3</th>\n",
       "      <td>15</td>\n",
       "      <td>4</td>\n",
       "      <td>2</td>\n",
       "      <td>0</td>\n",
       "      <td>1</td>\n",
       "      <td>3</td>\n",
       "      <td>1</td>\n",
       "      <td>1</td>\n",
       "      <td>2</td>\n",
       "      <td>15</td>\n",
       "      <td>2</td>\n",
       "      <td>3</td>\n",
       "      <td>mother</td>\n",
       "      <td>health</td>\n",
       "      <td>services</td>\n",
       "      <td>F</td>\n",
       "      <td>T</td>\n",
       "      <td>yes</td>\n",
       "    </tr>\n",
       "    <tr>\n",
       "      <th>4</th>\n",
       "      <td>16</td>\n",
       "      <td>3</td>\n",
       "      <td>3</td>\n",
       "      <td>0</td>\n",
       "      <td>1</td>\n",
       "      <td>2</td>\n",
       "      <td>1</td>\n",
       "      <td>2</td>\n",
       "      <td>4</td>\n",
       "      <td>10</td>\n",
       "      <td>2</td>\n",
       "      <td>4</td>\n",
       "      <td>father</td>\n",
       "      <td>other</td>\n",
       "      <td>other</td>\n",
       "      <td>F</td>\n",
       "      <td>T</td>\n",
       "      <td>no</td>\n",
       "    </tr>\n",
       "  </tbody>\n",
       "</table>\n",
       "</div>"
      ],
      "text/plain": [
       "   age  Medu  Fedu  failures  traveltime  studytime  Dalc  Walc  absences  \\\n",
       "0   18     4     4         0           2          2     1     1         6   \n",
       "1   17     1     1         0           1          2     1     1         4   \n",
       "2   15     1     1         3           1          2     2     3        10   \n",
       "3   15     4     2         0           1          3     1     1         2   \n",
       "4   16     3     3         0           1          2     1     2         4   \n",
       "\n",
       "   Final_grade  goout  famrel guardian     Mjob      Fjob sex Pstatus romantic  \n",
       "0            6      4       4   mother  at_home   teacher   F       A       no  \n",
       "1            6      3       5   father  at_home     other   F       T       no  \n",
       "2           10      2       4   mother  at_home     other   F       T       no  \n",
       "3           15      2       3   mother   health  services   F       T      yes  \n",
       "4           10      2       4   father    other     other   F       T       no  "
      ]
     },
     "execution_count": 3,
     "metadata": {},
     "output_type": "execute_result"
    }
   ],
   "source": [
    "df.head()"
   ]
  },
  {
   "cell_type": "code",
   "execution_count": 4,
   "metadata": {},
   "outputs": [],
   "source": [
    "df2 = pd.get_dummies(df, drop_first = True)"
   ]
  },
  {
   "cell_type": "code",
   "execution_count": 5,
   "metadata": {},
   "outputs": [
    {
     "name": "stdout",
     "output_type": "stream",
     "text": [
      "(316, 25) (79, 25)\n"
     ]
    }
   ],
   "source": [
    "from sklearn.model_selection import train_test_split\n",
    "import random\n",
    "X_train, X_test, y_train, y_test = train_test_split(df2, df2.Final_grade, test_size=0.2, random_state=10)\n",
    "print(X_train.shape, X_test.shape)"
   ]
  },
  {
   "cell_type": "code",
   "execution_count": 6,
   "metadata": {},
   "outputs": [
    {
     "data": {
      "text/html": [
       "<div>\n",
       "<style scoped>\n",
       "    .dataframe tbody tr th:only-of-type {\n",
       "        vertical-align: middle;\n",
       "    }\n",
       "\n",
       "    .dataframe tbody tr th {\n",
       "        vertical-align: top;\n",
       "    }\n",
       "\n",
       "    .dataframe thead th {\n",
       "        text-align: right;\n",
       "    }\n",
       "</style>\n",
       "<table border=\"1\" class=\"dataframe\">\n",
       "  <thead>\n",
       "    <tr style=\"text-align: right;\">\n",
       "      <th></th>\n",
       "      <th>age</th>\n",
       "      <th>Medu</th>\n",
       "      <th>Fedu</th>\n",
       "      <th>failures</th>\n",
       "      <th>traveltime</th>\n",
       "      <th>studytime</th>\n",
       "      <th>Dalc</th>\n",
       "      <th>Walc</th>\n",
       "      <th>absences</th>\n",
       "      <th>Final_grade</th>\n",
       "      <th>...</th>\n",
       "      <th>Mjob_other</th>\n",
       "      <th>Mjob_services</th>\n",
       "      <th>Mjob_teacher</th>\n",
       "      <th>Fjob_health</th>\n",
       "      <th>Fjob_other</th>\n",
       "      <th>Fjob_services</th>\n",
       "      <th>Fjob_teacher</th>\n",
       "      <th>sex_M</th>\n",
       "      <th>Pstatus_T</th>\n",
       "      <th>romantic_yes</th>\n",
       "    </tr>\n",
       "  </thead>\n",
       "  <tbody>\n",
       "    <tr>\n",
       "      <th>266</th>\n",
       "      <td>17</td>\n",
       "      <td>3</td>\n",
       "      <td>1</td>\n",
       "      <td>0</td>\n",
       "      <td>1</td>\n",
       "      <td>2</td>\n",
       "      <td>3</td>\n",
       "      <td>4</td>\n",
       "      <td>2</td>\n",
       "      <td>10</td>\n",
       "      <td>...</td>\n",
       "      <td>0</td>\n",
       "      <td>1</td>\n",
       "      <td>0</td>\n",
       "      <td>0</td>\n",
       "      <td>1</td>\n",
       "      <td>0</td>\n",
       "      <td>0</td>\n",
       "      <td>1</td>\n",
       "      <td>1</td>\n",
       "      <td>1</td>\n",
       "    </tr>\n",
       "    <tr>\n",
       "      <th>352</th>\n",
       "      <td>18</td>\n",
       "      <td>1</td>\n",
       "      <td>3</td>\n",
       "      <td>1</td>\n",
       "      <td>1</td>\n",
       "      <td>1</td>\n",
       "      <td>2</td>\n",
       "      <td>3</td>\n",
       "      <td>7</td>\n",
       "      <td>8</td>\n",
       "      <td>...</td>\n",
       "      <td>0</td>\n",
       "      <td>0</td>\n",
       "      <td>0</td>\n",
       "      <td>0</td>\n",
       "      <td>0</td>\n",
       "      <td>1</td>\n",
       "      <td>0</td>\n",
       "      <td>1</td>\n",
       "      <td>1</td>\n",
       "      <td>1</td>\n",
       "    </tr>\n",
       "    <tr>\n",
       "      <th>97</th>\n",
       "      <td>16</td>\n",
       "      <td>2</td>\n",
       "      <td>1</td>\n",
       "      <td>0</td>\n",
       "      <td>1</td>\n",
       "      <td>2</td>\n",
       "      <td>1</td>\n",
       "      <td>1</td>\n",
       "      <td>2</td>\n",
       "      <td>10</td>\n",
       "      <td>...</td>\n",
       "      <td>1</td>\n",
       "      <td>0</td>\n",
       "      <td>0</td>\n",
       "      <td>0</td>\n",
       "      <td>1</td>\n",
       "      <td>0</td>\n",
       "      <td>0</td>\n",
       "      <td>0</td>\n",
       "      <td>1</td>\n",
       "      <td>1</td>\n",
       "    </tr>\n",
       "    <tr>\n",
       "      <th>167</th>\n",
       "      <td>16</td>\n",
       "      <td>4</td>\n",
       "      <td>2</td>\n",
       "      <td>0</td>\n",
       "      <td>1</td>\n",
       "      <td>2</td>\n",
       "      <td>1</td>\n",
       "      <td>1</td>\n",
       "      <td>0</td>\n",
       "      <td>16</td>\n",
       "      <td>...</td>\n",
       "      <td>0</td>\n",
       "      <td>0</td>\n",
       "      <td>0</td>\n",
       "      <td>0</td>\n",
       "      <td>0</td>\n",
       "      <td>1</td>\n",
       "      <td>0</td>\n",
       "      <td>0</td>\n",
       "      <td>1</td>\n",
       "      <td>1</td>\n",
       "    </tr>\n",
       "    <tr>\n",
       "      <th>280</th>\n",
       "      <td>17</td>\n",
       "      <td>4</td>\n",
       "      <td>1</td>\n",
       "      <td>0</td>\n",
       "      <td>2</td>\n",
       "      <td>1</td>\n",
       "      <td>2</td>\n",
       "      <td>4</td>\n",
       "      <td>30</td>\n",
       "      <td>8</td>\n",
       "      <td>...</td>\n",
       "      <td>0</td>\n",
       "      <td>1</td>\n",
       "      <td>0</td>\n",
       "      <td>0</td>\n",
       "      <td>1</td>\n",
       "      <td>0</td>\n",
       "      <td>0</td>\n",
       "      <td>1</td>\n",
       "      <td>0</td>\n",
       "      <td>1</td>\n",
       "    </tr>\n",
       "  </tbody>\n",
       "</table>\n",
       "<p>5 rows × 25 columns</p>\n",
       "</div>"
      ],
      "text/plain": [
       "     age  Medu  Fedu  failures  traveltime  studytime  Dalc  Walc  absences  \\\n",
       "266   17     3     1         0           1          2     3     4         2   \n",
       "352   18     1     3         1           1          1     2     3         7   \n",
       "97    16     2     1         0           1          2     1     1         2   \n",
       "167   16     4     2         0           1          2     1     1         0   \n",
       "280   17     4     1         0           2          1     2     4        30   \n",
       "\n",
       "     Final_grade  ...  Mjob_other  Mjob_services  Mjob_teacher  Fjob_health  \\\n",
       "266           10  ...           0              1             0            0   \n",
       "352            8  ...           0              0             0            0   \n",
       "97            10  ...           1              0             0            0   \n",
       "167           16  ...           0              0             0            0   \n",
       "280            8  ...           0              1             0            0   \n",
       "\n",
       "     Fjob_other  Fjob_services  Fjob_teacher  sex_M  Pstatus_T  romantic_yes  \n",
       "266           1              0             0      1          1             1  \n",
       "352           0              1             0      1          1             1  \n",
       "97            1              0             0      0          1             1  \n",
       "167           0              1             0      0          1             1  \n",
       "280           1              0             0      1          0             1  \n",
       "\n",
       "[5 rows x 25 columns]"
      ]
     },
     "execution_count": 6,
     "metadata": {},
     "output_type": "execute_result"
    }
   ],
   "source": [
    "X_train.head()"
   ]
  },
  {
   "cell_type": "markdown",
   "metadata": {},
   "source": [
    "First running mutual information to get intuition"
   ]
  },
  {
   "cell_type": "code",
   "execution_count": 7,
   "metadata": {},
   "outputs": [],
   "source": [
    "from sklearn import feature_selection\n",
    "mutual_info = feature_selection.mutual_info_classif(X_train, y_train, discrete_features=True)"
   ]
  },
  {
   "cell_type": "code",
   "execution_count": 8,
   "metadata": {},
   "outputs": [
    {
     "data": {
      "text/html": [
       "<div>\n",
       "<style scoped>\n",
       "    .dataframe tbody tr th:only-of-type {\n",
       "        vertical-align: middle;\n",
       "    }\n",
       "\n",
       "    .dataframe tbody tr th {\n",
       "        vertical-align: top;\n",
       "    }\n",
       "\n",
       "    .dataframe thead th {\n",
       "        text-align: right;\n",
       "    }\n",
       "</style>\n",
       "<table border=\"1\" class=\"dataframe\">\n",
       "  <thead>\n",
       "    <tr style=\"text-align: right;\">\n",
       "      <th></th>\n",
       "      <th>minfo</th>\n",
       "      <th>col</th>\n",
       "    </tr>\n",
       "  </thead>\n",
       "  <tbody>\n",
       "    <tr>\n",
       "      <th>9</th>\n",
       "      <td>2.593763</td>\n",
       "      <td>Final_grade</td>\n",
       "    </tr>\n",
       "    <tr>\n",
       "      <th>8</th>\n",
       "      <td>0.633463</td>\n",
       "      <td>absences</td>\n",
       "    </tr>\n",
       "    <tr>\n",
       "      <th>3</th>\n",
       "      <td>0.163247</td>\n",
       "      <td>failures</td>\n",
       "    </tr>\n",
       "    <tr>\n",
       "      <th>0</th>\n",
       "      <td>0.137014</td>\n",
       "      <td>age</td>\n",
       "    </tr>\n",
       "    <tr>\n",
       "      <th>1</th>\n",
       "      <td>0.133067</td>\n",
       "      <td>Medu</td>\n",
       "    </tr>\n",
       "    <tr>\n",
       "      <th>7</th>\n",
       "      <td>0.127030</td>\n",
       "      <td>Walc</td>\n",
       "    </tr>\n",
       "    <tr>\n",
       "      <th>10</th>\n",
       "      <td>0.124776</td>\n",
       "      <td>goout</td>\n",
       "    </tr>\n",
       "    <tr>\n",
       "      <th>2</th>\n",
       "      <td>0.100426</td>\n",
       "      <td>Fedu</td>\n",
       "    </tr>\n",
       "    <tr>\n",
       "      <th>5</th>\n",
       "      <td>0.097476</td>\n",
       "      <td>studytime</td>\n",
       "    </tr>\n",
       "    <tr>\n",
       "      <th>6</th>\n",
       "      <td>0.096018</td>\n",
       "      <td>Dalc</td>\n",
       "    </tr>\n",
       "    <tr>\n",
       "      <th>11</th>\n",
       "      <td>0.089056</td>\n",
       "      <td>famrel</td>\n",
       "    </tr>\n",
       "    <tr>\n",
       "      <th>4</th>\n",
       "      <td>0.052235</td>\n",
       "      <td>traveltime</td>\n",
       "    </tr>\n",
       "    <tr>\n",
       "      <th>24</th>\n",
       "      <td>0.051175</td>\n",
       "      <td>romantic_yes</td>\n",
       "    </tr>\n",
       "    <tr>\n",
       "      <th>16</th>\n",
       "      <td>0.043169</td>\n",
       "      <td>Mjob_services</td>\n",
       "    </tr>\n",
       "    <tr>\n",
       "      <th>21</th>\n",
       "      <td>0.038841</td>\n",
       "      <td>Fjob_teacher</td>\n",
       "    </tr>\n",
       "    <tr>\n",
       "      <th>20</th>\n",
       "      <td>0.035532</td>\n",
       "      <td>Fjob_services</td>\n",
       "    </tr>\n",
       "    <tr>\n",
       "      <th>22</th>\n",
       "      <td>0.034002</td>\n",
       "      <td>sex_M</td>\n",
       "    </tr>\n",
       "    <tr>\n",
       "      <th>19</th>\n",
       "      <td>0.033219</td>\n",
       "      <td>Fjob_other</td>\n",
       "    </tr>\n",
       "    <tr>\n",
       "      <th>14</th>\n",
       "      <td>0.030905</td>\n",
       "      <td>Mjob_health</td>\n",
       "    </tr>\n",
       "    <tr>\n",
       "      <th>15</th>\n",
       "      <td>0.030471</td>\n",
       "      <td>Mjob_other</td>\n",
       "    </tr>\n",
       "    <tr>\n",
       "      <th>13</th>\n",
       "      <td>0.029432</td>\n",
       "      <td>guardian_other</td>\n",
       "    </tr>\n",
       "    <tr>\n",
       "      <th>17</th>\n",
       "      <td>0.028873</td>\n",
       "      <td>Mjob_teacher</td>\n",
       "    </tr>\n",
       "    <tr>\n",
       "      <th>18</th>\n",
       "      <td>0.026282</td>\n",
       "      <td>Fjob_health</td>\n",
       "    </tr>\n",
       "    <tr>\n",
       "      <th>23</th>\n",
       "      <td>0.024708</td>\n",
       "      <td>Pstatus_T</td>\n",
       "    </tr>\n",
       "    <tr>\n",
       "      <th>12</th>\n",
       "      <td>0.018334</td>\n",
       "      <td>guardian_mother</td>\n",
       "    </tr>\n",
       "  </tbody>\n",
       "</table>\n",
       "</div>"
      ],
      "text/plain": [
       "       minfo              col\n",
       "9   2.593763      Final_grade\n",
       "8   0.633463         absences\n",
       "3   0.163247         failures\n",
       "0   0.137014              age\n",
       "1   0.133067             Medu\n",
       "7   0.127030             Walc\n",
       "10  0.124776            goout\n",
       "2   0.100426             Fedu\n",
       "5   0.097476        studytime\n",
       "6   0.096018             Dalc\n",
       "11  0.089056           famrel\n",
       "4   0.052235       traveltime\n",
       "24  0.051175     romantic_yes\n",
       "16  0.043169    Mjob_services\n",
       "21  0.038841     Fjob_teacher\n",
       "20  0.035532    Fjob_services\n",
       "22  0.034002            sex_M\n",
       "19  0.033219       Fjob_other\n",
       "14  0.030905      Mjob_health\n",
       "15  0.030471       Mjob_other\n",
       "13  0.029432   guardian_other\n",
       "17  0.028873     Mjob_teacher\n",
       "18  0.026282      Fjob_health\n",
       "23  0.024708        Pstatus_T\n",
       "12  0.018334  guardian_mother"
      ]
     },
     "execution_count": 8,
     "metadata": {},
     "output_type": "execute_result"
    }
   ],
   "source": [
    "pd.DataFrame({'minfo': mutual_info, 'col': X_train.columns}).sort_values('minfo', ascending=False)"
   ]
  },
  {
   "cell_type": "code",
   "execution_count": 9,
   "metadata": {},
   "outputs": [],
   "source": [
    "import statsmodels.api as sm\n",
    "from statsmodels.tools.tools import add_constant"
   ]
  },
  {
   "cell_type": "markdown",
   "metadata": {},
   "source": [
    "First model with best variable according to mutual info"
   ]
  },
  {
   "cell_type": "code",
   "execution_count": 10,
   "metadata": {},
   "outputs": [
    {
     "data": {
      "text/html": [
       "<table class=\"simpletable\">\n",
       "<caption>OLS Regression Results</caption>\n",
       "<tr>\n",
       "  <th>Dep. Variable:</th>       <td>Final_grade</td>   <th>  R-squared:         </th> <td>   0.004</td>\n",
       "</tr>\n",
       "<tr>\n",
       "  <th>Model:</th>                   <td>OLS</td>       <th>  Adj. R-squared:    </th> <td>   0.000</td>\n",
       "</tr>\n",
       "<tr>\n",
       "  <th>Method:</th>             <td>Least Squares</td>  <th>  F-statistic:       </th> <td>   1.121</td>\n",
       "</tr>\n",
       "<tr>\n",
       "  <th>Date:</th>             <td>Wed, 20 May 2020</td> <th>  Prob (F-statistic):</th>  <td> 0.291</td> \n",
       "</tr>\n",
       "<tr>\n",
       "  <th>Time:</th>                 <td>08:26:15</td>     <th>  Log-Likelihood:    </th> <td> -936.00</td>\n",
       "</tr>\n",
       "<tr>\n",
       "  <th>No. Observations:</th>      <td>   316</td>      <th>  AIC:               </th> <td>   1876.</td>\n",
       "</tr>\n",
       "<tr>\n",
       "  <th>Df Residuals:</th>          <td>   314</td>      <th>  BIC:               </th> <td>   1884.</td>\n",
       "</tr>\n",
       "<tr>\n",
       "  <th>Df Model:</th>              <td>     1</td>      <th>                     </th>     <td> </td>   \n",
       "</tr>\n",
       "<tr>\n",
       "  <th>Covariance Type:</th>      <td>nonrobust</td>    <th>                     </th>     <td> </td>   \n",
       "</tr>\n",
       "</table>\n",
       "<table class=\"simpletable\">\n",
       "<tr>\n",
       "      <td></td>        <th>coef</th>     <th>std err</th>      <th>t</th>      <th>P>|t|</th>  <th>[0.025</th>    <th>0.975]</th>  \n",
       "</tr>\n",
       "<tr>\n",
       "  <th>const</th>    <td>   10.1411</td> <td>    0.338</td> <td>   30.033</td> <td> 0.000</td> <td>    9.477</td> <td>   10.805</td>\n",
       "</tr>\n",
       "<tr>\n",
       "  <th>absences</th> <td>    0.0396</td> <td>    0.037</td> <td>    1.059</td> <td> 0.291</td> <td>   -0.034</td> <td>    0.113</td>\n",
       "</tr>\n",
       "</table>\n",
       "<table class=\"simpletable\">\n",
       "<tr>\n",
       "  <th>Omnibus:</th>       <td>21.388</td> <th>  Durbin-Watson:     </th> <td>   1.919</td>\n",
       "</tr>\n",
       "<tr>\n",
       "  <th>Prob(Omnibus):</th> <td> 0.000</td> <th>  Jarque-Bera (JB):  </th> <td>  24.232</td>\n",
       "</tr>\n",
       "<tr>\n",
       "  <th>Skew:</th>          <td>-0.677</td> <th>  Prob(JB):          </th> <td>5.47e-06</td>\n",
       "</tr>\n",
       "<tr>\n",
       "  <th>Kurtosis:</th>      <td> 3.072</td> <th>  Cond. No.          </th> <td>    11.6</td>\n",
       "</tr>\n",
       "</table><br/><br/>Warnings:<br/>[1] Standard Errors assume that the covariance matrix of the errors is correctly specified."
      ],
      "text/plain": [
       "<class 'statsmodels.iolib.summary.Summary'>\n",
       "\"\"\"\n",
       "                            OLS Regression Results                            \n",
       "==============================================================================\n",
       "Dep. Variable:            Final_grade   R-squared:                       0.004\n",
       "Model:                            OLS   Adj. R-squared:                  0.000\n",
       "Method:                 Least Squares   F-statistic:                     1.121\n",
       "Date:                Wed, 20 May 2020   Prob (F-statistic):              0.291\n",
       "Time:                        08:26:15   Log-Likelihood:                -936.00\n",
       "No. Observations:                 316   AIC:                             1876.\n",
       "Df Residuals:                     314   BIC:                             1884.\n",
       "Df Model:                           1                                         \n",
       "Covariance Type:            nonrobust                                         \n",
       "==============================================================================\n",
       "                 coef    std err          t      P>|t|      [0.025      0.975]\n",
       "------------------------------------------------------------------------------\n",
       "const         10.1411      0.338     30.033      0.000       9.477      10.805\n",
       "absences       0.0396      0.037      1.059      0.291      -0.034       0.113\n",
       "==============================================================================\n",
       "Omnibus:                       21.388   Durbin-Watson:                   1.919\n",
       "Prob(Omnibus):                  0.000   Jarque-Bera (JB):               24.232\n",
       "Skew:                          -0.677   Prob(JB):                     5.47e-06\n",
       "Kurtosis:                       3.072   Cond. No.                         11.6\n",
       "==============================================================================\n",
       "\n",
       "Warnings:\n",
       "[1] Standard Errors assume that the covariance matrix of the errors is correctly specified.\n",
       "\"\"\""
      ]
     },
     "execution_count": 10,
     "metadata": {},
     "output_type": "execute_result"
    }
   ],
   "source": [
    "cols_to_fit = [\n",
    "#     'Final_grade',\n",
    " 'absences',\n",
    "#  'failures',\n",
    "#  'age',\n",
    "#  'Medu',\n",
    "#  'Walc',\n",
    "#  'goout',\n",
    "#  'Fedu',\n",
    "#  'studytime',\n",
    "#  'Dalc',\n",
    "#  'famrel',\n",
    "#  'traveltime',\n",
    "#  'romantic_yes',\n",
    "#  'Mjob_services',\n",
    "#  'Fjob_teacher',\n",
    "#  'Fjob_services',\n",
    "#  'sex_M',\n",
    "#  'Fjob_other',\n",
    "#  'Mjob_health',\n",
    "#  'Mjob_other',\n",
    "#  'guardian_other',\n",
    "#  'Mjob_teacher',\n",
    "#  'Fjob_health',\n",
    "#  'Pstatus_T',\n",
    "#  'guardian_mother'\n",
    "]\n",
    "\n",
    "mod = sm.OLS(X_train['Final_grade'], add_constant(X_train[cols_to_fit]))\n",
    "res = mod.fit()\n",
    "res.summary()"
   ]
  },
  {
   "cell_type": "markdown",
   "metadata": {},
   "source": [
    "Performance with R2 = 0.004 is mediocre. Absences is not significant. Probably these is nonlinear?"
   ]
  },
  {
   "cell_type": "markdown",
   "metadata": {},
   "source": [
    "Now fitting all variables"
   ]
  },
  {
   "cell_type": "code",
   "execution_count": 11,
   "metadata": {},
   "outputs": [
    {
     "data": {
      "text/html": [
       "<table class=\"simpletable\">\n",
       "<caption>OLS Regression Results</caption>\n",
       "<tr>\n",
       "  <th>Dep. Variable:</th>       <td>Final_grade</td>   <th>  R-squared:         </th> <td>   0.245</td>\n",
       "</tr>\n",
       "<tr>\n",
       "  <th>Model:</th>                   <td>OLS</td>       <th>  Adj. R-squared:    </th> <td>   0.182</td>\n",
       "</tr>\n",
       "<tr>\n",
       "  <th>Method:</th>             <td>Least Squares</td>  <th>  F-statistic:       </th> <td>   3.926</td>\n",
       "</tr>\n",
       "<tr>\n",
       "  <th>Date:</th>             <td>Wed, 20 May 2020</td> <th>  Prob (F-statistic):</th> <td>1.10e-08</td>\n",
       "</tr>\n",
       "<tr>\n",
       "  <th>Time:</th>                 <td>08:26:15</td>     <th>  Log-Likelihood:    </th> <td> -892.25</td>\n",
       "</tr>\n",
       "<tr>\n",
       "  <th>No. Observations:</th>      <td>   316</td>      <th>  AIC:               </th> <td>   1835.</td>\n",
       "</tr>\n",
       "<tr>\n",
       "  <th>Df Residuals:</th>          <td>   291</td>      <th>  BIC:               </th> <td>   1928.</td>\n",
       "</tr>\n",
       "<tr>\n",
       "  <th>Df Model:</th>              <td>    24</td>      <th>                     </th>     <td> </td>   \n",
       "</tr>\n",
       "<tr>\n",
       "  <th>Covariance Type:</th>      <td>nonrobust</td>    <th>                     </th>     <td> </td>   \n",
       "</tr>\n",
       "</table>\n",
       "<table class=\"simpletable\">\n",
       "<tr>\n",
       "         <td></td>            <th>coef</th>     <th>std err</th>      <th>t</th>      <th>P>|t|</th>  <th>[0.025</th>    <th>0.975]</th>  \n",
       "</tr>\n",
       "<tr>\n",
       "  <th>const</th>           <td>   14.6387</td> <td>    4.147</td> <td>    3.530</td> <td> 0.000</td> <td>    6.478</td> <td>   22.800</td>\n",
       "</tr>\n",
       "<tr>\n",
       "  <th>absences</th>        <td>    0.0811</td> <td>    0.037</td> <td>    2.211</td> <td> 0.028</td> <td>    0.009</td> <td>    0.153</td>\n",
       "</tr>\n",
       "<tr>\n",
       "  <th>failures</th>        <td>   -2.0369</td> <td>    0.373</td> <td>   -5.461</td> <td> 0.000</td> <td>   -2.771</td> <td>   -1.303</td>\n",
       "</tr>\n",
       "<tr>\n",
       "  <th>age</th>             <td>   -0.1444</td> <td>    0.219</td> <td>   -0.659</td> <td> 0.510</td> <td>   -0.576</td> <td>    0.287</td>\n",
       "</tr>\n",
       "<tr>\n",
       "  <th>Medu</th>            <td>    0.3997</td> <td>    0.359</td> <td>    1.114</td> <td> 0.266</td> <td>   -0.306</td> <td>    1.106</td>\n",
       "</tr>\n",
       "<tr>\n",
       "  <th>Walc</th>            <td>    0.2342</td> <td>    0.281</td> <td>    0.833</td> <td> 0.406</td> <td>   -0.319</td> <td>    0.788</td>\n",
       "</tr>\n",
       "<tr>\n",
       "  <th>goout</th>           <td>   -0.6630</td> <td>    0.250</td> <td>   -2.651</td> <td> 0.008</td> <td>   -1.155</td> <td>   -0.171</td>\n",
       "</tr>\n",
       "<tr>\n",
       "  <th>Fedu</th>            <td>   -0.1397</td> <td>    0.308</td> <td>   -0.453</td> <td> 0.651</td> <td>   -0.746</td> <td>    0.467</td>\n",
       "</tr>\n",
       "<tr>\n",
       "  <th>studytime</th>       <td>    0.4461</td> <td>    0.331</td> <td>    1.349</td> <td> 0.179</td> <td>   -0.205</td> <td>    1.097</td>\n",
       "</tr>\n",
       "<tr>\n",
       "  <th>Dalc</th>            <td>   -0.0487</td> <td>    0.385</td> <td>   -0.127</td> <td> 0.899</td> <td>   -0.807</td> <td>    0.709</td>\n",
       "</tr>\n",
       "<tr>\n",
       "  <th>famrel</th>          <td>    0.2891</td> <td>    0.293</td> <td>    0.988</td> <td> 0.324</td> <td>   -0.287</td> <td>    0.865</td>\n",
       "</tr>\n",
       "<tr>\n",
       "  <th>traveltime</th>      <td>   -0.6728</td> <td>    0.374</td> <td>   -1.797</td> <td> 0.073</td> <td>   -1.410</td> <td>    0.064</td>\n",
       "</tr>\n",
       "<tr>\n",
       "  <th>romantic_yes</th>    <td>   -0.8878</td> <td>    0.535</td> <td>   -1.660</td> <td> 0.098</td> <td>   -1.941</td> <td>    0.165</td>\n",
       "</tr>\n",
       "<tr>\n",
       "  <th>Mjob_services</th>   <td>    0.6664</td> <td>    0.887</td> <td>    0.752</td> <td> 0.453</td> <td>   -1.079</td> <td>    2.412</td>\n",
       "</tr>\n",
       "<tr>\n",
       "  <th>Fjob_teacher</th>    <td>    0.2636</td> <td>    1.458</td> <td>    0.181</td> <td> 0.857</td> <td>   -2.606</td> <td>    3.133</td>\n",
       "</tr>\n",
       "<tr>\n",
       "  <th>Fjob_services</th>   <td>   -1.0848</td> <td>    1.189</td> <td>   -0.912</td> <td> 0.362</td> <td>   -3.426</td> <td>    1.256</td>\n",
       "</tr>\n",
       "<tr>\n",
       "  <th>sex_M</th>           <td>    1.2146</td> <td>    0.541</td> <td>    2.245</td> <td> 0.026</td> <td>    0.150</td> <td>    2.279</td>\n",
       "</tr>\n",
       "<tr>\n",
       "  <th>Fjob_other</th>      <td>   -1.1553</td> <td>    1.171</td> <td>   -0.986</td> <td> 0.325</td> <td>   -3.460</td> <td>    1.150</td>\n",
       "</tr>\n",
       "<tr>\n",
       "  <th>Mjob_health</th>     <td>    1.3964</td> <td>    1.271</td> <td>    1.099</td> <td> 0.273</td> <td>   -1.105</td> <td>    3.898</td>\n",
       "</tr>\n",
       "<tr>\n",
       "  <th>Mjob_other</th>      <td>   -0.6897</td> <td>    0.809</td> <td>   -0.853</td> <td> 0.395</td> <td>   -2.282</td> <td>    0.903</td>\n",
       "</tr>\n",
       "<tr>\n",
       "  <th>guardian_other</th>  <td>   -0.0431</td> <td>    1.101</td> <td>   -0.039</td> <td> 0.969</td> <td>   -2.210</td> <td>    2.124</td>\n",
       "</tr>\n",
       "<tr>\n",
       "  <th>Mjob_teacher</th>    <td>   -0.7496</td> <td>    1.130</td> <td>   -0.663</td> <td> 0.508</td> <td>   -2.974</td> <td>    1.474</td>\n",
       "</tr>\n",
       "<tr>\n",
       "  <th>Fjob_health</th>     <td>   -0.3151</td> <td>    1.690</td> <td>   -0.186</td> <td> 0.852</td> <td>   -3.642</td> <td>    3.011</td>\n",
       "</tr>\n",
       "<tr>\n",
       "  <th>Pstatus_T</th>       <td>   -0.7623</td> <td>    0.842</td> <td>   -0.905</td> <td> 0.366</td> <td>   -2.420</td> <td>    0.896</td>\n",
       "</tr>\n",
       "<tr>\n",
       "  <th>guardian_mother</th> <td>   -0.6140</td> <td>    0.643</td> <td>   -0.955</td> <td> 0.340</td> <td>   -1.879</td> <td>    0.651</td>\n",
       "</tr>\n",
       "</table>\n",
       "<table class=\"simpletable\">\n",
       "<tr>\n",
       "  <th>Omnibus:</th>       <td>21.250</td> <th>  Durbin-Watson:     </th> <td>   1.900</td>\n",
       "</tr>\n",
       "<tr>\n",
       "  <th>Prob(Omnibus):</th> <td> 0.000</td> <th>  Jarque-Bera (JB):  </th> <td>  23.555</td>\n",
       "</tr>\n",
       "<tr>\n",
       "  <th>Skew:</th>          <td>-0.647</td> <th>  Prob(JB):          </th> <td>7.68e-06</td>\n",
       "</tr>\n",
       "<tr>\n",
       "  <th>Kurtosis:</th>      <td> 3.342</td> <th>  Cond. No.          </th> <td>    343.</td>\n",
       "</tr>\n",
       "</table><br/><br/>Warnings:<br/>[1] Standard Errors assume that the covariance matrix of the errors is correctly specified."
      ],
      "text/plain": [
       "<class 'statsmodels.iolib.summary.Summary'>\n",
       "\"\"\"\n",
       "                            OLS Regression Results                            \n",
       "==============================================================================\n",
       "Dep. Variable:            Final_grade   R-squared:                       0.245\n",
       "Model:                            OLS   Adj. R-squared:                  0.182\n",
       "Method:                 Least Squares   F-statistic:                     3.926\n",
       "Date:                Wed, 20 May 2020   Prob (F-statistic):           1.10e-08\n",
       "Time:                        08:26:15   Log-Likelihood:                -892.25\n",
       "No. Observations:                 316   AIC:                             1835.\n",
       "Df Residuals:                     291   BIC:                             1928.\n",
       "Df Model:                          24                                         \n",
       "Covariance Type:            nonrobust                                         \n",
       "===================================================================================\n",
       "                      coef    std err          t      P>|t|      [0.025      0.975]\n",
       "-----------------------------------------------------------------------------------\n",
       "const              14.6387      4.147      3.530      0.000       6.478      22.800\n",
       "absences            0.0811      0.037      2.211      0.028       0.009       0.153\n",
       "failures           -2.0369      0.373     -5.461      0.000      -2.771      -1.303\n",
       "age                -0.1444      0.219     -0.659      0.510      -0.576       0.287\n",
       "Medu                0.3997      0.359      1.114      0.266      -0.306       1.106\n",
       "Walc                0.2342      0.281      0.833      0.406      -0.319       0.788\n",
       "goout              -0.6630      0.250     -2.651      0.008      -1.155      -0.171\n",
       "Fedu               -0.1397      0.308     -0.453      0.651      -0.746       0.467\n",
       "studytime           0.4461      0.331      1.349      0.179      -0.205       1.097\n",
       "Dalc               -0.0487      0.385     -0.127      0.899      -0.807       0.709\n",
       "famrel              0.2891      0.293      0.988      0.324      -0.287       0.865\n",
       "traveltime         -0.6728      0.374     -1.797      0.073      -1.410       0.064\n",
       "romantic_yes       -0.8878      0.535     -1.660      0.098      -1.941       0.165\n",
       "Mjob_services       0.6664      0.887      0.752      0.453      -1.079       2.412\n",
       "Fjob_teacher        0.2636      1.458      0.181      0.857      -2.606       3.133\n",
       "Fjob_services      -1.0848      1.189     -0.912      0.362      -3.426       1.256\n",
       "sex_M               1.2146      0.541      2.245      0.026       0.150       2.279\n",
       "Fjob_other         -1.1553      1.171     -0.986      0.325      -3.460       1.150\n",
       "Mjob_health         1.3964      1.271      1.099      0.273      -1.105       3.898\n",
       "Mjob_other         -0.6897      0.809     -0.853      0.395      -2.282       0.903\n",
       "guardian_other     -0.0431      1.101     -0.039      0.969      -2.210       2.124\n",
       "Mjob_teacher       -0.7496      1.130     -0.663      0.508      -2.974       1.474\n",
       "Fjob_health        -0.3151      1.690     -0.186      0.852      -3.642       3.011\n",
       "Pstatus_T          -0.7623      0.842     -0.905      0.366      -2.420       0.896\n",
       "guardian_mother    -0.6140      0.643     -0.955      0.340      -1.879       0.651\n",
       "==============================================================================\n",
       "Omnibus:                       21.250   Durbin-Watson:                   1.900\n",
       "Prob(Omnibus):                  0.000   Jarque-Bera (JB):               23.555\n",
       "Skew:                          -0.647   Prob(JB):                     7.68e-06\n",
       "Kurtosis:                       3.342   Cond. No.                         343.\n",
       "==============================================================================\n",
       "\n",
       "Warnings:\n",
       "[1] Standard Errors assume that the covariance matrix of the errors is correctly specified.\n",
       "\"\"\""
      ]
     },
     "execution_count": 11,
     "metadata": {},
     "output_type": "execute_result"
    }
   ],
   "source": [
    "cols_to_fit = [\n",
    "#     'Final_grade',\n",
    " 'absences',\n",
    " 'failures',\n",
    " 'age',\n",
    " 'Medu',\n",
    " 'Walc',\n",
    " 'goout',\n",
    " 'Fedu',\n",
    " 'studytime',\n",
    " 'Dalc',\n",
    " 'famrel',\n",
    " 'traveltime',\n",
    " 'romantic_yes',\n",
    " 'Mjob_services',\n",
    " 'Fjob_teacher',\n",
    " 'Fjob_services',\n",
    " 'sex_M',\n",
    " 'Fjob_other',\n",
    " 'Mjob_health',\n",
    " 'Mjob_other',\n",
    " 'guardian_other',\n",
    " 'Mjob_teacher',\n",
    " 'Fjob_health',\n",
    " 'Pstatus_T',\n",
    " 'guardian_mother'\n",
    "]\n",
    "\n",
    "mod = sm.OLS(X_train['Final_grade'], add_constant(X_train[cols_to_fit]))\n",
    "res = mod.fit()\n",
    "res.summary()"
   ]
  },
  {
   "cell_type": "markdown",
   "metadata": {},
   "source": [
    "Performance got better, with R2 = 0.245."
   ]
  },
  {
   "cell_type": "markdown",
   "metadata": {},
   "source": [
    "Now fitting a model with only one variable at a time."
   ]
  },
  {
   "cell_type": "code",
   "execution_count": 12,
   "metadata": {},
   "outputs": [],
   "source": [
    "cols_to_fit = [\n",
    "#     'Final_grade',\n",
    " 'absences',\n",
    " 'failures',\n",
    " 'age',\n",
    " 'Medu',\n",
    " 'Walc',\n",
    " 'goout',\n",
    " 'Fedu',\n",
    " 'studytime',\n",
    " 'Dalc',\n",
    " 'famrel',\n",
    " 'traveltime',\n",
    " 'romantic_yes',\n",
    " 'Mjob_services',\n",
    " 'Fjob_teacher',\n",
    " 'Fjob_services',\n",
    " 'sex_M',\n",
    " 'Fjob_other',\n",
    " 'Mjob_health',\n",
    " 'Mjob_other',\n",
    " 'guardian_other',\n",
    " 'Mjob_teacher',\n",
    " 'Fjob_health',\n",
    " 'Pstatus_T',\n",
    " 'guardian_mother'\n",
    "]\n",
    "\n",
    "r2 = []\n",
    "\n",
    "for col in cols_to_fit:\n",
    "    mod = sm.OLS(X_train['Final_grade'], add_constant(X_train[col]))\n",
    "    res = mod.fit()\n",
    "    r2.append((col, res.rsquared))"
   ]
  },
  {
   "cell_type": "code",
   "execution_count": 13,
   "metadata": {},
   "outputs": [
    {
     "data": {
      "text/html": [
       "<div>\n",
       "<style scoped>\n",
       "    .dataframe tbody tr th:only-of-type {\n",
       "        vertical-align: middle;\n",
       "    }\n",
       "\n",
       "    .dataframe tbody tr th {\n",
       "        vertical-align: top;\n",
       "    }\n",
       "\n",
       "    .dataframe thead th {\n",
       "        text-align: right;\n",
       "    }\n",
       "</style>\n",
       "<table border=\"1\" class=\"dataframe\">\n",
       "  <thead>\n",
       "    <tr style=\"text-align: right;\">\n",
       "      <th></th>\n",
       "      <th>col</th>\n",
       "      <th>r2</th>\n",
       "    </tr>\n",
       "  </thead>\n",
       "  <tbody>\n",
       "    <tr>\n",
       "      <th>1</th>\n",
       "      <td>failures</td>\n",
       "      <td>0.127893</td>\n",
       "    </tr>\n",
       "    <tr>\n",
       "      <th>3</th>\n",
       "      <td>Medu</td>\n",
       "      <td>0.047465</td>\n",
       "    </tr>\n",
       "    <tr>\n",
       "      <th>6</th>\n",
       "      <td>Fedu</td>\n",
       "      <td>0.028789</td>\n",
       "    </tr>\n",
       "    <tr>\n",
       "      <th>5</th>\n",
       "      <td>goout</td>\n",
       "      <td>0.025503</td>\n",
       "    </tr>\n",
       "    <tr>\n",
       "      <th>2</th>\n",
       "      <td>age</td>\n",
       "      <td>0.023633</td>\n",
       "    </tr>\n",
       "  </tbody>\n",
       "</table>\n",
       "</div>"
      ],
      "text/plain": [
       "        col        r2\n",
       "1  failures  0.127893\n",
       "3      Medu  0.047465\n",
       "6      Fedu  0.028789\n",
       "5     goout  0.025503\n",
       "2       age  0.023633"
      ]
     },
     "execution_count": 13,
     "metadata": {},
     "output_type": "execute_result"
    }
   ],
   "source": [
    "r2_df = pd.DataFrame(r2, columns = ['col', 'r2']).sort_values('r2', ascending = False)\n",
    "r2_df.head(5)"
   ]
  },
  {
   "cell_type": "markdown",
   "metadata": {},
   "source": [
    "Failures is the best one - 3 times as good as the second one. "
   ]
  },
  {
   "cell_type": "markdown",
   "metadata": {},
   "source": [
    "Now trying the same thing as above with testing one variable at a time, but using first squared variables, and then square rooted (an attempt to capture nonlinearity)"
   ]
  },
  {
   "cell_type": "code",
   "execution_count": 14,
   "metadata": {},
   "outputs": [],
   "source": [
    "cols_to_fit = [\n",
    "#     'Final_grade',\n",
    " 'absences',\n",
    " 'failures',\n",
    " 'age',\n",
    " 'Medu',\n",
    " 'Walc',\n",
    " 'goout',\n",
    " 'Fedu',\n",
    " 'studytime',\n",
    " 'Dalc',\n",
    " 'famrel',\n",
    " 'traveltime',\n",
    " 'romantic_yes',\n",
    " 'Mjob_services',\n",
    " 'Fjob_teacher',\n",
    " 'Fjob_services',\n",
    " 'sex_M',\n",
    " 'Fjob_other',\n",
    " 'Mjob_health',\n",
    " 'Mjob_other',\n",
    " 'guardian_other',\n",
    " 'Mjob_teacher',\n",
    " 'Fjob_health',\n",
    " 'Pstatus_T',\n",
    " 'guardian_mother'\n",
    "]\n",
    "\n",
    "r2 = []\n",
    "\n",
    "for col in cols_to_fit:\n",
    "    mod = sm.OLS(X_train['Final_grade'], add_constant(np.power(X_train, 2)[col]))\n",
    "    res = mod.fit()\n",
    "    r2.append((col, res.rsquared))"
   ]
  },
  {
   "cell_type": "code",
   "execution_count": 15,
   "metadata": {},
   "outputs": [
    {
     "data": {
      "text/html": [
       "<div>\n",
       "<style scoped>\n",
       "    .dataframe tbody tr th:only-of-type {\n",
       "        vertical-align: middle;\n",
       "    }\n",
       "\n",
       "    .dataframe tbody tr th {\n",
       "        vertical-align: top;\n",
       "    }\n",
       "\n",
       "    .dataframe thead th {\n",
       "        text-align: right;\n",
       "    }\n",
       "</style>\n",
       "<table border=\"1\" class=\"dataframe\">\n",
       "  <thead>\n",
       "    <tr style=\"text-align: right;\">\n",
       "      <th></th>\n",
       "      <th>col</th>\n",
       "      <th>r2</th>\n",
       "    </tr>\n",
       "  </thead>\n",
       "  <tbody>\n",
       "    <tr>\n",
       "      <th>1</th>\n",
       "      <td>failures</td>\n",
       "      <td>0.105651</td>\n",
       "    </tr>\n",
       "    <tr>\n",
       "      <th>3</th>\n",
       "      <td>Medu</td>\n",
       "      <td>0.054122</td>\n",
       "    </tr>\n",
       "    <tr>\n",
       "      <th>6</th>\n",
       "      <td>Fedu</td>\n",
       "      <td>0.029472</td>\n",
       "    </tr>\n",
       "    <tr>\n",
       "      <th>5</th>\n",
       "      <td>goout</td>\n",
       "      <td>0.028201</td>\n",
       "    </tr>\n",
       "    <tr>\n",
       "      <th>2</th>\n",
       "      <td>age</td>\n",
       "      <td>0.023112</td>\n",
       "    </tr>\n",
       "  </tbody>\n",
       "</table>\n",
       "</div>"
      ],
      "text/plain": [
       "        col        r2\n",
       "1  failures  0.105651\n",
       "3      Medu  0.054122\n",
       "6      Fedu  0.029472\n",
       "5     goout  0.028201\n",
       "2       age  0.023112"
      ]
     },
     "execution_count": 15,
     "metadata": {},
     "output_type": "execute_result"
    }
   ],
   "source": [
    "r2_df = pd.DataFrame(r2, columns = ['col', 'r2']).sort_values('r2', ascending = False)\n",
    "r2_df.head(5)"
   ]
  },
  {
   "cell_type": "markdown",
   "metadata": {},
   "source": [
    "Nothing changed here - top 5 predictors are still the same. Now trying square roots."
   ]
  },
  {
   "cell_type": "code",
   "execution_count": 16,
   "metadata": {},
   "outputs": [],
   "source": [
    "cols_to_fit = [\n",
    "#     'Final_grade',\n",
    " 'absences',\n",
    " 'failures',\n",
    " 'age',\n",
    " 'Medu',\n",
    " 'Walc',\n",
    " 'goout',\n",
    " 'Fedu',\n",
    " 'studytime',\n",
    " 'Dalc',\n",
    " 'famrel',\n",
    " 'traveltime',\n",
    " 'romantic_yes',\n",
    " 'Mjob_services',\n",
    " 'Fjob_teacher',\n",
    " 'Fjob_services',\n",
    " 'sex_M',\n",
    " 'Fjob_other',\n",
    " 'Mjob_health',\n",
    " 'Mjob_other',\n",
    " 'guardian_other',\n",
    " 'Mjob_teacher',\n",
    " 'Fjob_health',\n",
    " 'Pstatus_T',\n",
    " 'guardian_mother'\n",
    "]\n",
    "\n",
    "r2 = []\n",
    "\n",
    "for col in cols_to_fit:\n",
    "    mod = sm.OLS(X_train['Final_grade'], add_constant(np.power(X_train, 1/2)[col]))\n",
    "    res = mod.fit()\n",
    "    r2.append((col, res.rsquared))"
   ]
  },
  {
   "cell_type": "code",
   "execution_count": 17,
   "metadata": {},
   "outputs": [
    {
     "data": {
      "text/html": [
       "<div>\n",
       "<style scoped>\n",
       "    .dataframe tbody tr th:only-of-type {\n",
       "        vertical-align: middle;\n",
       "    }\n",
       "\n",
       "    .dataframe tbody tr th {\n",
       "        vertical-align: top;\n",
       "    }\n",
       "\n",
       "    .dataframe thead th {\n",
       "        text-align: right;\n",
       "    }\n",
       "</style>\n",
       "<table border=\"1\" class=\"dataframe\">\n",
       "  <thead>\n",
       "    <tr style=\"text-align: right;\">\n",
       "      <th></th>\n",
       "      <th>col</th>\n",
       "      <th>r2</th>\n",
       "    </tr>\n",
       "  </thead>\n",
       "  <tbody>\n",
       "    <tr>\n",
       "      <th>1</th>\n",
       "      <td>failures</td>\n",
       "      <td>0.126626</td>\n",
       "    </tr>\n",
       "    <tr>\n",
       "      <th>3</th>\n",
       "      <td>Medu</td>\n",
       "      <td>0.035716</td>\n",
       "    </tr>\n",
       "    <tr>\n",
       "      <th>6</th>\n",
       "      <td>Fedu</td>\n",
       "      <td>0.024323</td>\n",
       "    </tr>\n",
       "    <tr>\n",
       "      <th>2</th>\n",
       "      <td>age</td>\n",
       "      <td>0.023833</td>\n",
       "    </tr>\n",
       "    <tr>\n",
       "      <th>0</th>\n",
       "      <td>absences</td>\n",
       "      <td>0.023581</td>\n",
       "    </tr>\n",
       "  </tbody>\n",
       "</table>\n",
       "</div>"
      ],
      "text/plain": [
       "        col        r2\n",
       "1  failures  0.126626\n",
       "3      Medu  0.035716\n",
       "6      Fedu  0.024323\n",
       "2       age  0.023833\n",
       "0  absences  0.023581"
      ]
     },
     "execution_count": 17,
     "metadata": {},
     "output_type": "execute_result"
    }
   ],
   "source": [
    "r2_df = pd.DataFrame(r2, columns = ['col', 'r2']).sort_values('r2', ascending = False)\n",
    "r2_df.head(5)"
   ]
  },
  {
   "cell_type": "markdown",
   "metadata": {},
   "source": [
    "This is almost the same as previously - except that absences entered the top 5 and goout dropped. absences was indicated as important predictor by mutual info"
   ]
  },
  {
   "cell_type": "code",
   "execution_count": 18,
   "metadata": {},
   "outputs": [],
   "source": [
    "from sklearn.linear_model import LinearRegression"
   ]
  },
  {
   "cell_type": "code",
   "execution_count": 19,
   "metadata": {},
   "outputs": [
    {
     "data": {
      "text/plain": [
       "LinearRegression(copy_X=True, fit_intercept=True, n_jobs=None, normalize=False)"
      ]
     },
     "execution_count": 19,
     "metadata": {},
     "output_type": "execute_result"
    }
   ],
   "source": [
    "cols_to_fit = [\n",
    "#     'Final_grade',\n",
    " 'absences',\n",
    " 'failures',\n",
    " 'age',\n",
    " 'Medu',\n",
    " 'Walc',\n",
    " 'goout',\n",
    " 'Fedu',\n",
    " 'studytime',\n",
    " 'Dalc',\n",
    " 'famrel',\n",
    " 'traveltime',\n",
    " 'romantic_yes',\n",
    " 'Mjob_services',\n",
    " 'Fjob_teacher',\n",
    " 'Fjob_services',\n",
    " 'sex_M',\n",
    " 'Fjob_other',\n",
    " 'Mjob_health',\n",
    " 'Mjob_other',\n",
    " 'guardian_other',\n",
    " 'Mjob_teacher',\n",
    " 'Fjob_health',\n",
    " 'Pstatus_T',\n",
    " 'guardian_mother'\n",
    "]\n",
    "\n",
    "\n",
    "mod = LinearRegression()\n",
    "mod.fit(X_train[cols_to_fit], y_train)"
   ]
  },
  {
   "cell_type": "code",
   "execution_count": 20,
   "metadata": {},
   "outputs": [],
   "source": [
    "from sklearn.metrics import r2_score"
   ]
  },
  {
   "cell_type": "code",
   "execution_count": 21,
   "metadata": {},
   "outputs": [
    {
     "data": {
      "text/plain": [
       "0.24458652935703795"
      ]
     },
     "execution_count": 21,
     "metadata": {},
     "output_type": "execute_result"
    }
   ],
   "source": [
    "r2_score(y_train, mod.predict(X_train[cols_to_fit]))"
   ]
  },
  {
   "cell_type": "code",
   "execution_count": 22,
   "metadata": {},
   "outputs": [
    {
     "data": {
      "text/plain": [
       "0.06602771492040727"
      ]
     },
     "execution_count": 22,
     "metadata": {},
     "output_type": "execute_result"
    }
   ],
   "source": [
    "r2_score(y_test, mod.predict(X_test[cols_to_fit]))"
   ]
  },
  {
   "cell_type": "markdown",
   "metadata": {},
   "source": [
    "Performance on test set is very poor"
   ]
  },
  {
   "cell_type": "code",
   "execution_count": 23,
   "metadata": {},
   "outputs": [],
   "source": [
    "from sklearn.feature_selection import RFE, RFECV"
   ]
  },
  {
   "cell_type": "code",
   "execution_count": 24,
   "metadata": {},
   "outputs": [
    {
     "data": {
      "text/html": [
       "<div>\n",
       "<style scoped>\n",
       "    .dataframe tbody tr th:only-of-type {\n",
       "        vertical-align: middle;\n",
       "    }\n",
       "\n",
       "    .dataframe tbody tr th {\n",
       "        vertical-align: top;\n",
       "    }\n",
       "\n",
       "    .dataframe thead th {\n",
       "        text-align: right;\n",
       "    }\n",
       "</style>\n",
       "<table border=\"1\" class=\"dataframe\">\n",
       "  <thead>\n",
       "    <tr style=\"text-align: right;\">\n",
       "      <th></th>\n",
       "      <th>col</th>\n",
       "      <th>rank</th>\n",
       "    </tr>\n",
       "  </thead>\n",
       "  <tbody>\n",
       "    <tr>\n",
       "      <th>1</th>\n",
       "      <td>failures</td>\n",
       "      <td>1</td>\n",
       "    </tr>\n",
       "    <tr>\n",
       "      <th>17</th>\n",
       "      <td>Mjob_health</td>\n",
       "      <td>2</td>\n",
       "    </tr>\n",
       "    <tr>\n",
       "      <th>12</th>\n",
       "      <td>Mjob_services</td>\n",
       "      <td>3</td>\n",
       "    </tr>\n",
       "    <tr>\n",
       "      <th>16</th>\n",
       "      <td>Fjob_other</td>\n",
       "      <td>4</td>\n",
       "    </tr>\n",
       "    <tr>\n",
       "      <th>14</th>\n",
       "      <td>Fjob_services</td>\n",
       "      <td>5</td>\n",
       "    </tr>\n",
       "    <tr>\n",
       "      <th>15</th>\n",
       "      <td>sex_M</td>\n",
       "      <td>6</td>\n",
       "    </tr>\n",
       "    <tr>\n",
       "      <th>22</th>\n",
       "      <td>Pstatus_T</td>\n",
       "      <td>7</td>\n",
       "    </tr>\n",
       "  </tbody>\n",
       "</table>\n",
       "</div>"
      ],
      "text/plain": [
       "              col  rank\n",
       "1        failures     1\n",
       "17    Mjob_health     2\n",
       "12  Mjob_services     3\n",
       "16     Fjob_other     4\n",
       "14  Fjob_services     5\n",
       "15          sex_M     6\n",
       "22      Pstatus_T     7"
      ]
     },
     "execution_count": 24,
     "metadata": {},
     "output_type": "execute_result"
    }
   ],
   "source": [
    "rfe = RFE(mod, n_features_to_select = 1)\n",
    "rfe.fit(X_train[cols_to_fit], y_train)\n",
    "# rfe.ranking_\n",
    "pd.DataFrame({'col': cols_to_fit, 'rank': rfe.ranking_}).sort_values('rank').head(7)"
   ]
  },
  {
   "cell_type": "markdown",
   "metadata": {},
   "source": [
    "Failures is again ranked as the best, while importance of student's parents is visible now."
   ]
  },
  {
   "cell_type": "markdown",
   "metadata": {},
   "source": [
    "Now adding prediction on test set for gradually increasing number of parameters"
   ]
  },
  {
   "cell_type": "code",
   "execution_count": 25,
   "metadata": {},
   "outputs": [],
   "source": [
    "rankings = pd.DataFrame({'col': cols_to_fit, 'rank': rfe.ranking_}).sort_values('rank')\n",
    "\n",
    "r2_vals = []\n",
    "\n",
    "for i in range(1, len(rankings)):\n",
    "#     pass\n",
    "    features = list(rankings.iloc[:i,0])\n",
    "#     print(f'fitting for {i}')\n",
    "    mod = LinearRegression()\n",
    "    mod.fit(X_train[features], y_train)\n",
    "    r2_train = r2_score(y_train, mod.predict(X_train[features]))\n",
    "    r2_test = r2_score(y_test, mod.predict(X_test[features]))\n",
    "#     print(f'Train: {r2_train}')\n",
    "#     print(f'Test: {r2_test}')\n",
    "    r2_vals.append((r2_train, r2_test))\n",
    "    \n",
    "    \n",
    "#     print(i)"
   ]
  },
  {
   "cell_type": "code",
   "execution_count": 26,
   "metadata": {},
   "outputs": [],
   "source": [
    "rfe_r2_df = pd.DataFrame(r2_vals, columns = ['train', 'test']).reset_index()"
   ]
  },
  {
   "cell_type": "markdown",
   "metadata": {},
   "source": [
    "#### Comparison of R^2 for train and validation sets depending on number of features"
   ]
  },
  {
   "cell_type": "code",
   "execution_count": 27,
   "metadata": {},
   "outputs": [
    {
     "data": {
      "text/plain": [
       "<matplotlib.axes._subplots.AxesSubplot at 0x7f05b5cfb6a0>"
      ]
     },
     "execution_count": 27,
     "metadata": {},
     "output_type": "execute_result"
    },
    {
     "data": {
      "image/png": "[encoded data removed]",
      "text/plain": [
       "<Figure size 432x288 with 1 Axes>"
      ]
     },
     "metadata": {
      "needs_background": "light"
     },
     "output_type": "display_data"
    }
   ],
   "source": [
    "sns.scatterplot(x = 'index', y= 'value', hue = 'variable', data = pd.melt(rfe_r2_df, id_vars = 'index'))"
   ]
  },
  {
   "cell_type": "markdown",
   "metadata": {},
   "source": [
    "So, about 8 first features gives similar outcome for train and test set, anythig more than than ruins validation score"
   ]
  },
  {
   "cell_type": "code",
   "execution_count": 28,
   "metadata": {},
   "outputs": [
    {
     "data": {
      "text/plain": [
       "['failures',\n",
       " 'Mjob_health',\n",
       " 'Mjob_services',\n",
       " 'Fjob_other',\n",
       " 'Fjob_services',\n",
       " 'sex_M',\n",
       " 'Pstatus_T',\n",
       " 'romantic_yes']"
      ]
     },
     "execution_count": 28,
     "metadata": {},
     "output_type": "execute_result"
    }
   ],
   "source": [
    "list(rankings.iloc[:8,0])"
   ]
  },
  {
   "cell_type": "markdown",
   "metadata": {},
   "source": [
    "Fitting linear model with these variables"
   ]
  },
  {
   "cell_type": "code",
   "execution_count": 29,
   "metadata": {},
   "outputs": [
    {
     "data": {
      "text/html": [
       "<table class=\"simpletable\">\n",
       "<caption>OLS Regression Results</caption>\n",
       "<tr>\n",
       "  <th>Dep. Variable:</th>       <td>Final_grade</td>   <th>  R-squared:         </th> <td>   0.189</td>\n",
       "</tr>\n",
       "<tr>\n",
       "  <th>Model:</th>                   <td>OLS</td>       <th>  Adj. R-squared:    </th> <td>   0.167</td>\n",
       "</tr>\n",
       "<tr>\n",
       "  <th>Method:</th>             <td>Least Squares</td>  <th>  F-statistic:       </th> <td>   8.918</td>\n",
       "</tr>\n",
       "<tr>\n",
       "  <th>Date:</th>             <td>Wed, 20 May 2020</td> <th>  Prob (F-statistic):</th> <td>5.38e-11</td>\n",
       "</tr>\n",
       "<tr>\n",
       "  <th>Time:</th>                 <td>08:26:16</td>     <th>  Log-Likelihood:    </th> <td> -903.55</td>\n",
       "</tr>\n",
       "<tr>\n",
       "  <th>No. Observations:</th>      <td>   316</td>      <th>  AIC:               </th> <td>   1825.</td>\n",
       "</tr>\n",
       "<tr>\n",
       "  <th>Df Residuals:</th>          <td>   307</td>      <th>  BIC:               </th> <td>   1859.</td>\n",
       "</tr>\n",
       "<tr>\n",
       "  <th>Df Model:</th>              <td>     8</td>      <th>                     </th>     <td> </td>   \n",
       "</tr>\n",
       "<tr>\n",
       "  <th>Covariance Type:</th>      <td>nonrobust</td>    <th>                     </th>     <td> </td>   \n",
       "</tr>\n",
       "</table>\n",
       "<table class=\"simpletable\">\n",
       "<tr>\n",
       "        <td></td>           <th>coef</th>     <th>std err</th>      <th>t</th>      <th>P>|t|</th>  <th>[0.025</th>    <th>0.975]</th>  \n",
       "</tr>\n",
       "<tr>\n",
       "  <th>const</th>         <td>   12.2219</td> <td>    1.005</td> <td>   12.155</td> <td> 0.000</td> <td>   10.243</td> <td>   14.200</td>\n",
       "</tr>\n",
       "<tr>\n",
       "  <th>failures</th>      <td>   -2.2667</td> <td>    0.329</td> <td>   -6.889</td> <td> 0.000</td> <td>   -2.914</td> <td>   -1.619</td>\n",
       "</tr>\n",
       "<tr>\n",
       "  <th>Mjob_health</th>   <td>    2.1717</td> <td>    0.928</td> <td>    2.341</td> <td> 0.020</td> <td>    0.347</td> <td>    3.997</td>\n",
       "</tr>\n",
       "<tr>\n",
       "  <th>Mjob_services</th> <td>    1.3811</td> <td>    0.572</td> <td>    2.414</td> <td> 0.016</td> <td>    0.255</td> <td>    2.507</td>\n",
       "</tr>\n",
       "<tr>\n",
       "  <th>Fjob_other</th>    <td>   -1.2690</td> <td>    0.678</td> <td>   -1.870</td> <td> 0.062</td> <td>   -2.604</td> <td>    0.066</td>\n",
       "</tr>\n",
       "<tr>\n",
       "  <th>Fjob_services</th> <td>   -1.0669</td> <td>    0.763</td> <td>   -1.398</td> <td> 0.163</td> <td>   -2.568</td> <td>    0.434</td>\n",
       "</tr>\n",
       "<tr>\n",
       "  <th>sex_M</th>         <td>    1.0872</td> <td>    0.487</td> <td>    2.233</td> <td> 0.026</td> <td>    0.129</td> <td>    2.045</td>\n",
       "</tr>\n",
       "<tr>\n",
       "  <th>Pstatus_T</th>     <td>   -0.9779</td> <td>    0.819</td> <td>   -1.193</td> <td> 0.234</td> <td>   -2.590</td> <td>    0.635</td>\n",
       "</tr>\n",
       "<tr>\n",
       "  <th>romantic_yes</th>  <td>   -0.7652</td> <td>    0.520</td> <td>   -1.472</td> <td> 0.142</td> <td>   -1.788</td> <td>    0.258</td>\n",
       "</tr>\n",
       "</table>\n",
       "<table class=\"simpletable\">\n",
       "<tr>\n",
       "  <th>Omnibus:</th>       <td>27.067</td> <th>  Durbin-Watson:     </th> <td>   1.933</td>\n",
       "</tr>\n",
       "<tr>\n",
       "  <th>Prob(Omnibus):</th> <td> 0.000</td> <th>  Jarque-Bera (JB):  </th> <td>  31.423</td>\n",
       "</tr>\n",
       "<tr>\n",
       "  <th>Skew:</th>          <td>-0.739</td> <th>  Prob(JB):          </th> <td>1.50e-07</td>\n",
       "</tr>\n",
       "<tr>\n",
       "  <th>Kurtosis:</th>      <td> 3.449</td> <th>  Cond. No.          </th> <td>    8.96</td>\n",
       "</tr>\n",
       "</table><br/><br/>Warnings:<br/>[1] Standard Errors assume that the covariance matrix of the errors is correctly specified."
      ],
      "text/plain": [
       "<class 'statsmodels.iolib.summary.Summary'>\n",
       "\"\"\"\n",
       "                            OLS Regression Results                            \n",
       "==============================================================================\n",
       "Dep. Variable:            Final_grade   R-squared:                       0.189\n",
       "Model:                            OLS   Adj. R-squared:                  0.167\n",
       "Method:                 Least Squares   F-statistic:                     8.918\n",
       "Date:                Wed, 20 May 2020   Prob (F-statistic):           5.38e-11\n",
       "Time:                        08:26:16   Log-Likelihood:                -903.55\n",
       "No. Observations:                 316   AIC:                             1825.\n",
       "Df Residuals:                     307   BIC:                             1859.\n",
       "Df Model:                           8                                         \n",
       "Covariance Type:            nonrobust                                         \n",
       "=================================================================================\n",
       "                    coef    std err          t      P>|t|      [0.025      0.975]\n",
       "---------------------------------------------------------------------------------\n",
       "const            12.2219      1.005     12.155      0.000      10.243      14.200\n",
       "failures         -2.2667      0.329     -6.889      0.000      -2.914      -1.619\n",
       "Mjob_health       2.1717      0.928      2.341      0.020       0.347       3.997\n",
       "Mjob_services     1.3811      0.572      2.414      0.016       0.255       2.507\n",
       "Fjob_other       -1.2690      0.678     -1.870      0.062      -2.604       0.066\n",
       "Fjob_services    -1.0669      0.763     -1.398      0.163      -2.568       0.434\n",
       "sex_M             1.0872      0.487      2.233      0.026       0.129       2.045\n",
       "Pstatus_T        -0.9779      0.819     -1.193      0.234      -2.590       0.635\n",
       "romantic_yes     -0.7652      0.520     -1.472      0.142      -1.788       0.258\n",
       "==============================================================================\n",
       "Omnibus:                       27.067   Durbin-Watson:                   1.933\n",
       "Prob(Omnibus):                  0.000   Jarque-Bera (JB):               31.423\n",
       "Skew:                          -0.739   Prob(JB):                     1.50e-07\n",
       "Kurtosis:                       3.449   Cond. No.                         8.96\n",
       "==============================================================================\n",
       "\n",
       "Warnings:\n",
       "[1] Standard Errors assume that the covariance matrix of the errors is correctly specified.\n",
       "\"\"\""
      ]
     },
     "execution_count": 29,
     "metadata": {},
     "output_type": "execute_result"
    }
   ],
   "source": [
    "cols_to_fit = list(rankings.iloc[:8,0])\n",
    "\n",
    "mod = sm.OLS(X_train['Final_grade'], add_constant(X_train[cols_to_fit]))\n",
    "res = mod.fit()\n",
    "res.summary()"
   ]
  },
  {
   "cell_type": "markdown",
   "metadata": {},
   "source": [
    "From statistical inference point of view, Father job and romantic variables should be ommited as they are statistically insignificant"
   ]
  },
  {
   "cell_type": "markdown",
   "metadata": {},
   "source": [
    "#### Lasso regression"
   ]
  },
  {
   "cell_type": "markdown",
   "metadata": {},
   "source": [
    "Now I'm trying to fit Lasso regression - as a mean of feature selection"
   ]
  },
  {
   "cell_type": "code",
   "execution_count": 30,
   "metadata": {},
   "outputs": [],
   "source": [
    "from sklearn.linear_model import Lasso"
   ]
  },
  {
   "cell_type": "code",
   "execution_count": 31,
   "metadata": {},
   "outputs": [],
   "source": [
    "cols_to_fit = [\n",
    "#     'Final_grade',\n",
    " 'absences',\n",
    " 'failures',\n",
    " 'age',\n",
    " 'Medu',\n",
    " 'Walc',\n",
    " 'goout',\n",
    " 'Fedu',\n",
    " 'studytime',\n",
    " 'Dalc',\n",
    " 'famrel',\n",
    " 'traveltime',\n",
    " 'romantic_yes',\n",
    " 'Mjob_services',\n",
    " 'Fjob_teacher',\n",
    " 'Fjob_services',\n",
    " 'sex_M',\n",
    " 'Fjob_other',\n",
    " 'Mjob_health',\n",
    " 'Mjob_other',\n",
    " 'guardian_other',\n",
    " 'Mjob_teacher',\n",
    " 'Fjob_health',\n",
    " 'Pstatus_T',\n",
    " 'guardian_mother'\n",
    "]\n"
   ]
  },
  {
   "cell_type": "code",
   "execution_count": 32,
   "metadata": {},
   "outputs": [],
   "source": [
    "from sklearn.model_selection import KFold\n",
    "from sklearn.metrics import mean_squared_error\n",
    "import random\n",
    "kf = KFold(n_splits=3, shuffle=True, random_state=random.randint(0,10000))\n",
    "alphas = np.linspace(0.01, 0.5, 80)\n",
    "\n",
    "scores = []\n",
    "\n",
    "for alpha in alphas:\n",
    "    r2_train = []\n",
    "    r2_test = []\n",
    "    for train, test in kf.split(X_train.index.values):\n",
    "        \n",
    "        reg = Lasso(alpha = alpha)\n",
    "        reg.fit(X_train.iloc[train][cols_to_fit], X_train.iloc[train]['Final_grade'])\n",
    "        predsTrain = reg.predict(X_train.iloc[train][cols_to_fit])\n",
    "        preds = reg.predict(X_train.iloc[test][cols_to_fit])\n",
    "        \n",
    "        r2_test.append(r2_score(X_train.iloc[test].Final_grade, preds))\n",
    "        r2_train.append(r2_score(X_train.iloc[train].Final_grade, predsTrain))\n",
    "    a = (alpha, np.mean(r2_test), np.mean(r2_train))\n",
    "    scores.append(a)    \n",
    "#     print(a)\n"
   ]
  },
  {
   "cell_type": "code",
   "execution_count": 33,
   "metadata": {},
   "outputs": [],
   "source": [
    "r2_scores_lasso = pd.DataFrame(scores, columns = ['alpha', 'test', 'train'])"
   ]
  },
  {
   "cell_type": "code",
   "execution_count": 34,
   "metadata": {},
   "outputs": [
    {
     "data": {
      "text/plain": [
       "<matplotlib.axes._subplots.AxesSubplot at 0x7f05b1690fd0>"
      ]
     },
     "execution_count": 34,
     "metadata": {},
     "output_type": "execute_result"
    },
    {
     "data": {
      "image/png": "[encoded data removed]",
      "text/plain": [
       "<Figure size 432x288 with 1 Axes>"
      ]
     },
     "metadata": {
      "needs_background": "light"
     },
     "output_type": "display_data"
    }
   ],
   "source": [
    "sns.scatterplot(x = 'alpha', y= 'value', hue = 'variable', data = pd.melt(r2_scores_lasso, id_vars = 'alpha'))"
   ]
  },
  {
   "cell_type": "markdown",
   "metadata": {},
   "source": [
    "Alpha around 0.1-0.2 seems correct. The score is dropping very slowly, so to obtain parsimonious model I have used alpha = 0.2"
   ]
  },
  {
   "cell_type": "code",
   "execution_count": 35,
   "metadata": {},
   "outputs": [
    {
     "data": {
      "text/plain": [
       "Lasso(alpha=0.2, copy_X=True, fit_intercept=True, max_iter=1000,\n",
       "      normalize=False, positive=False, precompute=False, random_state=None,\n",
       "      selection='cyclic', tol=0.0001, warm_start=False)"
      ]
     },
     "execution_count": 35,
     "metadata": {},
     "output_type": "execute_result"
    }
   ],
   "source": [
    "mod = Lasso(alpha = 0.2)\n",
    "mod.fit(X_train[cols_to_fit], y_train)"
   ]
  },
  {
   "cell_type": "code",
   "execution_count": 36,
   "metadata": {},
   "outputs": [
    {
     "data": {
      "text/html": [
       "<div>\n",
       "<style scoped>\n",
       "    .dataframe tbody tr th:only-of-type {\n",
       "        vertical-align: middle;\n",
       "    }\n",
       "\n",
       "    .dataframe tbody tr th {\n",
       "        vertical-align: top;\n",
       "    }\n",
       "\n",
       "    .dataframe thead th {\n",
       "        text-align: right;\n",
       "    }\n",
       "</style>\n",
       "<table border=\"1\" class=\"dataframe\">\n",
       "  <thead>\n",
       "    <tr style=\"text-align: right;\">\n",
       "      <th></th>\n",
       "      <th>col</th>\n",
       "      <th>coef</th>\n",
       "    </tr>\n",
       "  </thead>\n",
       "  <tbody>\n",
       "    <tr>\n",
       "      <th>0</th>\n",
       "      <td>absences</td>\n",
       "      <td>0.059949</td>\n",
       "    </tr>\n",
       "    <tr>\n",
       "      <th>1</th>\n",
       "      <td>failures</td>\n",
       "      <td>-1.679102</td>\n",
       "    </tr>\n",
       "    <tr>\n",
       "      <th>2</th>\n",
       "      <td>age</td>\n",
       "      <td>-0.092547</td>\n",
       "    </tr>\n",
       "    <tr>\n",
       "      <th>3</th>\n",
       "      <td>Medu</td>\n",
       "      <td>0.412100</td>\n",
       "    </tr>\n",
       "    <tr>\n",
       "      <th>5</th>\n",
       "      <td>goout</td>\n",
       "      <td>-0.411050</td>\n",
       "    </tr>\n",
       "    <tr>\n",
       "      <th>10</th>\n",
       "      <td>traveltime</td>\n",
       "      <td>-0.303353</td>\n",
       "    </tr>\n",
       "    <tr>\n",
       "      <th>11</th>\n",
       "      <td>romantic_yes</td>\n",
       "      <td>-0.111703</td>\n",
       "    </tr>\n",
       "    <tr>\n",
       "      <th>12</th>\n",
       "      <td>Mjob_services</td>\n",
       "      <td>0.006792</td>\n",
       "    </tr>\n",
       "    <tr>\n",
       "      <th>15</th>\n",
       "      <td>sex_M</td>\n",
       "      <td>0.221026</td>\n",
       "    </tr>\n",
       "    <tr>\n",
       "      <th>18</th>\n",
       "      <td>Mjob_other</td>\n",
       "      <td>-0.117337</td>\n",
       "    </tr>\n",
       "  </tbody>\n",
       "</table>\n",
       "</div>"
      ],
      "text/plain": [
       "              col      coef\n",
       "0        absences  0.059949\n",
       "1        failures -1.679102\n",
       "2             age -0.092547\n",
       "3            Medu  0.412100\n",
       "5           goout -0.411050\n",
       "10     traveltime -0.303353\n",
       "11   romantic_yes -0.111703\n",
       "12  Mjob_services  0.006792\n",
       "15          sex_M  0.221026\n",
       "18     Mjob_other -0.117337"
      ]
     },
     "execution_count": 36,
     "metadata": {},
     "output_type": "execute_result"
    }
   ],
   "source": [
    "lasso_coefs = pd.DataFrame({'col': cols_to_fit, 'coef':mod.coef_}).query('coef != 0')\n",
    "lasso_coefs"
   ]
  },
  {
   "cell_type": "markdown",
   "metadata": {},
   "source": [
    "About 10 features are still present in the model."
   ]
  },
  {
   "cell_type": "code",
   "execution_count": 37,
   "metadata": {},
   "outputs": [
    {
     "data": {
      "text/plain": [
       "0.18259759159789268"
      ]
     },
     "execution_count": 37,
     "metadata": {},
     "output_type": "execute_result"
    }
   ],
   "source": [
    "r2_score(y_train, mod.predict(X_train[cols_to_fit]))"
   ]
  },
  {
   "cell_type": "code",
   "execution_count": 38,
   "metadata": {},
   "outputs": [
    {
     "data": {
      "text/plain": [
       "0.10054218645164259"
      ]
     },
     "execution_count": 38,
     "metadata": {},
     "output_type": "execute_result"
    }
   ],
   "source": [
    "r2_score(y_test, mod.predict(X_test[cols_to_fit]))"
   ]
  },
  {
   "cell_type": "markdown",
   "metadata": {},
   "source": [
    "R2 score for train dataset is very similar to the one obtained by taking best 8 features. However performance on the test set varies significantly - ~0.18 vs 0.1"
   ]
  },
  {
   "cell_type": "markdown",
   "metadata": {},
   "source": [
    "### SVM modeling"
   ]
  },
  {
   "cell_type": "code",
   "execution_count": 39,
   "metadata": {},
   "outputs": [],
   "source": [
    "cols_to_fit = [\n",
    "#     'Final_grade',\n",
    " 'absences',\n",
    " 'failures',\n",
    " 'age',\n",
    " 'Medu',\n",
    " 'Walc',\n",
    " 'goout',\n",
    " 'Fedu',\n",
    " 'studytime',\n",
    " 'Dalc',\n",
    " 'famrel',\n",
    " 'traveltime',\n",
    " 'romantic_yes',\n",
    " 'Mjob_services',\n",
    " 'Fjob_teacher',\n",
    " 'Fjob_services',\n",
    " 'sex_M',\n",
    " 'Fjob_other',\n",
    " 'Mjob_health',\n",
    " 'Mjob_other',\n",
    " 'guardian_other',\n",
    " 'Mjob_teacher',\n",
    " 'Fjob_health',\n",
    " 'Pstatus_T',\n",
    " 'guardian_mother'\n",
    "]\n"
   ]
  },
  {
   "cell_type": "code",
   "execution_count": 40,
   "metadata": {},
   "outputs": [],
   "source": [
    "from sklearn.svm import SVR"
   ]
  },
  {
   "cell_type": "markdown",
   "metadata": {},
   "source": [
    "As SVM is a nonlinear model, let's use the best variables obtained from mutual information"
   ]
  },
  {
   "cell_type": "code",
   "execution_count": 74,
   "metadata": {},
   "outputs": [],
   "source": [
    "list(pd.DataFrame({'minfo': mutual_info, 'col': X_train.columns}).sort_values('minfo', ascending=False).head(11).col)\n",
    "\n",
    "cols_to_fit = [\n",
    "    'absences',\n",
    " 'failures',\n",
    " 'age',\n",
    " 'Medu',\n",
    " 'Walc',\n",
    " 'goout',\n",
    " 'Fedu',\n",
    " 'studytime',\n",
    " 'Dalc',\n",
    " 'famrel'\n",
    "]"
   ]
  },
  {
   "cell_type": "code",
   "execution_count": 75,
   "metadata": {},
   "outputs": [],
   "source": [
    "from sklearn.model_selection import KFold\n",
    "from sklearn.metrics import mean_squared_error\n",
    "import random\n",
    "kf = KFold(n_splits=3, shuffle=True, random_state=random.randint(0,10000))\n",
    "cs = np.linspace(0.1, 20, 200)\n",
    "\n",
    "scores = []\n",
    "\n",
    "for c in cs:\n",
    "    r2_train = []\n",
    "    r2_test = []\n",
    "    for train, test in kf.split(X_train.index.values):\n",
    "        \n",
    "        reg = SVR(C = c)\n",
    "        reg.fit(X_train.iloc[train][cols_to_fit], X_train.iloc[train]['Final_grade'])\n",
    "        predsTrain = reg.predict(X_train.iloc[train][cols_to_fit])\n",
    "        preds = reg.predict(X_train.iloc[test][cols_to_fit])\n",
    "        \n",
    "        r2_test.append(r2_score(X_train.iloc[test].Final_grade, preds))\n",
    "        r2_train.append(r2_score(X_train.iloc[train].Final_grade, predsTrain))\n",
    "    a = (c, np.mean(r2_test), np.mean(r2_train))\n",
    "    scores.append(a)    \n",
    "#     print(a)\n"
   ]
  },
  {
   "cell_type": "code",
   "execution_count": 76,
   "metadata": {},
   "outputs": [
    {
     "data": {
      "text/plain": [
       "<matplotlib.axes._subplots.AxesSubplot at 0x7f05aba5c160>"
      ]
     },
     "execution_count": 76,
     "metadata": {},
     "output_type": "execute_result"
    },
    {
     "data": {
      "image/png": "[encoded data removed]",
      "text/plain": [
       "<Figure size 432x288 with 1 Axes>"
      ]
     },
     "metadata": {
      "needs_background": "light"
     },
     "output_type": "display_data"
    }
   ],
   "source": [
    "r2_scores_svm = pd.DataFrame(scores, columns = ['c', 'test', 'train'])\n",
    "\n",
    "sns.scatterplot(x = 'c', y= 'value', hue = 'variable', data = pd.melt(r2_scores_svm, id_vars = 'c'))"
   ]
  },
  {
   "cell_type": "markdown",
   "metadata": {},
   "source": [
    "Value of c around 12 seems ok"
   ]
  },
  {
   "cell_type": "markdown",
   "metadata": {},
   "source": [
    "Now trying the model on the best features obtained from linear regression"
   ]
  },
  {
   "cell_type": "code",
   "execution_count": 77,
   "metadata": {},
   "outputs": [],
   "source": [
    "cols_to_fit = ['failures',\n",
    " 'Mjob_health',\n",
    " 'Mjob_services',\n",
    " 'Fjob_other',\n",
    " 'Fjob_services',\n",
    " 'sex_M',\n",
    " 'Pstatus_T',\n",
    " 'romantic_yes']"
   ]
  },
  {
   "cell_type": "code",
   "execution_count": 78,
   "metadata": {},
   "outputs": [],
   "source": [
    "from sklearn.model_selection import KFold\n",
    "from sklearn.metrics import mean_squared_error\n",
    "import random\n",
    "kf = KFold(n_splits=3, shuffle=True, random_state=random.randint(0,10000))\n",
    "cs = np.linspace(0.1, 20, 200)\n",
    "\n",
    "scores = []\n",
    "\n",
    "for c in cs:\n",
    "    r2_train = []\n",
    "    r2_test = []\n",
    "    for train, test in kf.split(X_train.index.values):\n",
    "        \n",
    "        reg = SVR(C = c)\n",
    "        reg.fit(X_train.iloc[train][cols_to_fit], X_train.iloc[train]['Final_grade'])\n",
    "        predsTrain = reg.predict(X_train.iloc[train][cols_to_fit])\n",
    "        preds = reg.predict(X_train.iloc[test][cols_to_fit])\n",
    "        \n",
    "        r2_test.append(r2_score(X_train.iloc[test].Final_grade, preds))\n",
    "        r2_train.append(r2_score(X_train.iloc[train].Final_grade, predsTrain))\n",
    "    a = (c, np.mean(r2_test), np.mean(r2_train))\n",
    "    scores.append(a)    \n",
    "#     print(a)\n"
   ]
  },
  {
   "cell_type": "code",
   "execution_count": 79,
   "metadata": {},
   "outputs": [
    {
     "data": {
      "text/plain": [
       "<matplotlib.axes._subplots.AxesSubplot at 0x7f05ab9ea9a0>"
      ]
     },
     "execution_count": 79,
     "metadata": {},
     "output_type": "execute_result"
    },
    {
     "data": {
      "image/png": "[encoded data removed]",
      "text/plain": [
       "<Figure size 432x288 with 1 Axes>"
      ]
     },
     "metadata": {
      "needs_background": "light"
     },
     "output_type": "display_data"
    }
   ],
   "source": [
    "r2_scores_svm = pd.DataFrame(scores, columns = ['c', 'test', 'train'])\n",
    "\n",
    "sns.scatterplot(x = 'c', y= 'value', hue = 'variable', data = pd.melt(r2_scores_svm, id_vars = 'c'))"
   ]
  },
  {
   "cell_type": "markdown",
   "metadata": {},
   "source": [
    "Now it's completely different picture - c around 0.8 seems correct. However model's performance has dropped dramatically - it seems that the desicion to take best mutual info scores rather than LR scores is correct. Also, way poorer "
   ]
  }
 ],
 "metadata": {
  "kernelspec": {
   "display_name": "Python 3",
   "language": "python",
   "name": "python3"
  },
  "language_info": {
   "codemirror_mode": {
    "name": "ipython",
    "version": 3
   },
   "file_extension": ".py",
   "mimetype": "text/x-python",
   "name": "python",
   "nbconvert_exporter": "python",
   "pygments_lexer": "ipython3",
   "version": "3.8.2"
  }
 },
 "nbformat": 4,
 "nbformat_minor": 4
}
