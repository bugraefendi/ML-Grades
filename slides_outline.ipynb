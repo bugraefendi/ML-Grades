{
 "cells": [
  {
   "cell_type": "markdown",
   "metadata": {},
   "source": [
    "When showing the histogram with final grade, please mention that there are lots of 0s and not many below 5 - important for me when talking about hurdle model"
   ]
  },
  {
   "cell_type": "markdown",
   "metadata": {},
   "source": [
    "Kamil slides:\n",
    "\n",
    "- Linear model\n",
    "    - Baseline - all features included\n",
    "    - Result (R^2): 24% train, 6% test\n",
    "    - **Overfitting**\n",
    "\n",
    "- Fighting overfitting\n",
    "    - Recursive feature elimination\n",
    "    - Ridge\n",
    "    - Lasso\n",
    "\n",
    "- Feature selection\n",
    "    - 2 sources of the best features:\n",
    "    - Recursive feature elimination from Linear Model\n",
    "    - Mutual information\n",
    "    - (Maybe enlist the best 5 features according to both approaches in 2 columns)\n",
    "    \n",
    "- Linear models comparison \n",
    "    - Table ordered by score on test set (TODO)\n",
    "    - Plots with increasing alpha\n",
    "    - Plots with increasing number of features\n",
    "\n",
    "- SVM\n",
    "    - Features from mutual information\n",
    "    - Plot with increasing C\n",
    "    - SVM after fine tuning the C parameter became the best one\n",
    "    \n",
    "- Fails:\n",
    "    - Hurdle model\n",
    "    - KNN gave very poor performance\n",
    "    - SVM with features from linear model\n",
    "    - Linear model with mutual information features\n",
    "    \n",
    "- General take-aways\n",
    "    - R^2 around 20% is very poor\n",
    "    - SVM was the best model, with Ridge being almost as good"
   ]
  },
  {
   "cell_type": "markdown",
   "metadata": {},
   "source": [
    "Notes:\n",
    "\n",
    "EDA\n",
    "- General data description\n",
    "- Features introduction\n",
    "- Plots: \n",
    "\tboxplots failures, Walc, Dalc, absences (scatter), y (histogram)\n",
    "Modeling\n",
    "- Technical info (R2, minfo ...) B\n",
    "- Feature selection K\n",
    "- Linear K\n",
    "- Ridge K\n",
    "- tried KNN, lasso\n",
    "\n",
    "Finishing notes B\n",
    "\n",
    "\n",
    "TODO:\n",
    "drop G1, 2\n",
    "\n",
    "\n",
    "When showing the histogram with final grade, please mention that there are lots of 0s and not many below 5 - important for me when talking about hurdle model\n",
    "\n",
    "Linear model\n",
    "\n",
    "\n",
    "- plot from cell 30"
   ]
  },
  {
   "cell_type": "code",
   "execution_count": null,
   "metadata": {},
   "outputs": [],
   "source": []
  }
 ],
 "metadata": {
  "kernelspec": {
   "display_name": "Python 3",
   "language": "python",
   "name": "python3"
  },
  "language_info": {
   "codemirror_mode": {
    "name": "ipython",
    "version": 3
   },
   "file_extension": ".py",
   "mimetype": "text/x-python",
   "name": "python",
   "nbconvert_exporter": "python",
   "pygments_lexer": "ipython3",
   "version": "3.8.2"
  }
 },
 "nbformat": 4,
 "nbformat_minor": 4
}
